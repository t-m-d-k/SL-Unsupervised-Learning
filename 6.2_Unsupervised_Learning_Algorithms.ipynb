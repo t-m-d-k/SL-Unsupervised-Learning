{
 "cells": [
  {
   "cell_type": "markdown",
   "metadata": {
    "id": "Pb6I_By0O6YH"
   },
   "source": [
    "# __Unsupervised Learning__"
   ]
  },
  {
   "cell_type": "markdown",
   "metadata": {
    "id": "5FQlLi-aO8ID"
   },
   "source": [
    "## __Agenda__\n",
    "\n",
    "- Dimensionality Reduction Techniques:\n",
    "  - Importance of Dimensionality Reduction\n",
    "  - Principal Component Analysis (PCA)\n",
    "  - Linear Discriminant Analysis (LDA)\n",
    "  - t-Distributed Stochastic Neighbor Embedding (t-SNE)\n",
    "- Association Rule Learning\n",
    "  - Introduction to Association Rule Learning\n",
    "  - Apriori Algorithm\n",
    "  - Eclat Algorithm\n",
    "- Anomaly Detection Techniques\n",
    "  - Isolation forest\n",
    "- Model Evaluation in Unsupervised Learning:\n",
    "  - Silhouette Score for Clustering\n",
    "  "
   ]
  },
  {
   "cell_type": "markdown",
   "metadata": {
    "id": "lrRLkCOuAOSk"
   },
   "source": [
    "## __6.3 Dimensionality Reduction Techniques__"
   ]
  },
  {
   "cell_type": "markdown",
   "metadata": {
    "id": "8DKWbIz-BHwD"
   },
   "source": [
    "Dimensionality reduction involves decreasing the number of features (or dimensions) in a dataset while preserving as much information as possible. This technique is used for various purposes, such as simplifying a model, enhancing the performance of a learning algorithm, or making the data easier to visualize."
   ]
  },
  {
   "cell_type": "markdown",
   "metadata": {
    "id": "hFQ4BrfWAaBU"
   },
   "source": [
    "### __6.3.1 Importance of Dimensionality Reduction__"
   ]
  },
  {
   "cell_type": "markdown",
   "metadata": {
    "id": "xWnObr_pBk6U"
   },
   "source": [
    "Dimensionality reduction is important because it:\n",
    "\n",
    "1. **Improves computational efficiency:** Reduces the computational cost for data processing and model training.\n",
    "2. **Mitigates the curse of dimensionality:** Simplifies data to prevent overfitting and sparsity issues.\n",
    "3. **Reduces noise in data:** Eliminates irrelevant or noisy features to enhance model performance.\n",
    "4. **Enhances data visualization:** Makes high-dimensional data easier to visualize in 2D or 3D.\n",
    "5. **Boosts model performance:** Focuses on the most relevant features for better accuracy.\n",
    "6. **Saves storage and memory:** Decreases the amount of storage and memory needed for large datasets.\n",
    "7. **Increases model interpretability:** Simplifies models, making them easier to understand and explain.\n",
    "8. **Avoids multicollinearity:** Addresses high correlation between features to improve regression models."
   ]
  },
  {
   "cell_type": "markdown",
   "metadata": {
    "id": "e-blzJdlDr-l"
   },
   "source": [
    "### __6.3.2 Approaches of Dimensionality Reduction__"
   ]
  },
  {
   "cell_type": "markdown",
   "metadata": {
    "id": "yQzpQSeAG3z-"
   },
   "source": [
    "There are two ways to apply the dimension reduction technique, which are given below:"
   ]
  },
  {
   "cell_type": "markdown",
   "metadata": {
    "id": "mpw_e6UFHGTD"
   },
   "source": [
    "#### __A. Feature Selection__\n",
    "\n",
    "Feature selection is the process of choosing a subset of relevant features and discarding irrelevant ones from a dataset to build a more accurate model. Essentially, it involves selecting the most optimal features from the input data."
   ]
  },
  {
   "cell_type": "markdown",
   "metadata": {
    "id": "u2-Q8qGoHssb"
   },
   "source": [
    "Three methods are used for the feature selection:\n",
    "\n",
    "- **Filter Methods:** this method involves filtering the dataset to retain only the relevant features.\n",
    "\n",
    "  Common techniques include: Correlation, Chi-Square Test, and ANOVA (these techniques are already covered in ADSP course).\n",
    "\n",
    "- **Wrapper Methods:** this method evaluates subsets of features using a machine learning model. Features are added or removed based on their impact on model performance. It is more accurate but also more complex than filter methods.\n",
    "\n",
    "  Common techniques include: Forward Selection and Backward Selection.\n",
    "\n",
    "- **Embedded Methods:** these methods evaluate the importance of features during the training process of the machine learning model.\n",
    "\n",
    "  Common techniques include: LASSO, Elastic Net, and Ridge Regression (these techniques are covered in detail in regression lesson)."
   ]
  },
  {
   "cell_type": "markdown",
   "metadata": {
    "id": "iy0y6g1JJKxI"
   },
   "source": [
    "#### __B. Feature Extraction__\n",
    "\n",
    "Feature extraction is the process of transforming high-dimensional data into a lower-dimensional space. This approach is useful for retaining essential information while using fewer resources for processing."
   ]
  },
  {
   "cell_type": "markdown",
   "metadata": {
    "id": "fsZ0XzOvJoS1"
   },
   "source": [
    "Some common feature extraction techniques are:\n",
    "\n",
    "- Principal Component Analysis (PCA)\n",
    "- Linear Discriminant Analysis (LDA)\n",
    "- Independent Component Analysis (ICA)"
   ]
  },
  {
   "cell_type": "markdown",
   "metadata": {
    "id": "xs1lWnlWciWg"
   },
   "source": [
    "Let's focus more on each of the Feature Extraction techniques mentioned above."
   ]
  },
  {
   "cell_type": "markdown",
   "metadata": {
    "id": "IDndKj40MD9F"
   },
   "source": [
    "### __6.3.3 Principal Component Analysis (PCA)__"
   ]
  },
  {
   "cell_type": "markdown",
   "metadata": {
    "id": "0Re4q1VaPGxq"
   },
   "source": [
    "Principal Component Analysis (PCA) is a statistical technique for dimensionality reduction in data analysis. It simplifies the complexity of high-dimensional data while preserving trends and patterns."
   ]
  },
  {
   "cell_type": "markdown",
   "metadata": {
    "id": "Lp-hG7lvVGFy"
   },
   "source": [
    "Real-world problems typically deal with datasets that have a huge number of features.\n"
   ]
  },
  {
   "cell_type": "markdown",
   "metadata": {
    "id": "Io6eL3GBVGJL"
   },
   "source": [
    "Example: High-resolution images that need classification or power allocation exercises across multiple communication channels that have high dimensionality. Dealing with such datasets demands increased computational power and more complex algorithms."
   ]
  },
  {
   "cell_type": "markdown",
   "metadata": {
    "id": "_rTqSrfbVGbS"
   },
   "source": [
    "Principal Component Analysis (PCA) is an unsupervised learning technique used to preprocess datasets and reduce their dimensionality while preserving the original dataset."
   ]
  },
  {
   "cell_type": "markdown",
   "metadata": {
    "id": "xUzn0ThyVGht"
   },
   "source": [
    "#### __Common Terms in PCA__"
   ]
  },
  {
   "cell_type": "markdown",
   "metadata": {
    "id": "XjzILGQBVG7Q"
   },
   "source": [
    "- Dimensionality: It is the number of features present in the data.\n",
    "\n",
    "- Correlation: It indicates the strength of the relationship between features. The correlation value ranges between -1 and +1. It is -1 when variables are inversely proportional and +1 when they are directly proportional.\n",
    "\n",
    "- Orthogonality: Dimensionality reduction techniques often utilize orthogonality to maintain the independence of features when reducing the number of dimensions in a dataset.\n",
    "\n",
    "- Covariance Matrix: It is a matrix containing the covariance between variables.\n",
    "\n",
    "  *Variance* is a measure of the variability or spread of a single variable, indicating how much the values differ from the mean.\n",
    "\n",
    "- Eigenvector: Given a square matrix $A$ and a nonzero vector $v$, and $v$ is the eigenvector if $Av$ (the result of applying matrix $A$ to $v$) is a scalar multiple of $v$, i.e. $Av$ = ${\\lambda}v$ where ${\\lambda}$ is the eigenvalue\n",
    "\n",
    "- Eigenvalues: The scalar ${\\lambda}$ associated with the eigenvector $v$\n",
    "in the transformation $Av$ = ${\\lambda}v$, indicating how much the eigenvector is scaled during the transformation. It represents the variance captured by each principal component, indicating their importance in explaining the data's variability.\n",
    "\n",
    "- Principal component: Principal components are new variables created as linear combinations of the original variables, arranged to be uncorrelated and to compress most of the information into the initial components. In this way, from 10-dimensional data, PCA aims to maximize the information in the first component, then the next most in the second, and so on.\n",
    "\n",
    "\n",
    "\n",
    "\n",
    "\n",
    "\n",
    "\n",
    "\n",
    "\n",
    "\n"
   ]
  },
  {
   "cell_type": "markdown",
   "metadata": {
    "id": "kp2ckv2XVHSf"
   },
   "source": [
    "#### __Steps involved in PCA__"
   ]
  },
  {
   "cell_type": "markdown",
   "metadata": {
    "id": "0Zx95Sl-VHj3"
   },
   "source": [
    "1. Standardization\n",
    "2. Covariance matrix computation\n",
    "3. Compute the eigenvectors and eigenvalues of the covariance matrix to identify the principal components\n",
    "4. Create a Feature vector\n",
    "5. Recasting data along the principal component axes\n",
    "\n"
   ]
  },
  {
   "cell_type": "markdown",
   "metadata": {
    "id": "pb3GYt58VHmv"
   },
   "source": [
    "#### __Standardization__\n"
   ]
  },
  {
   "cell_type": "markdown",
   "metadata": {
    "id": "mLKmpnQyczPm"
   },
   "source": [
    "Standardization adjusts the range of variables so that each one contributes equally, ensuring uniformity in their influence."
   ]
  },
  {
   "cell_type": "markdown",
   "metadata": {
    "id": "LXZsaK5GpB8O"
   },
   "source": [
    "Standardization transforms data by rescaling it to have a mean of 0 and a standard deviation of 1, ensuring consistent ranges and making it more suitable for comparison and analysis across different variables."
   ]
  },
  {
   "cell_type": "markdown",
   "metadata": {
    "id": "kLnXuZdlczSZ"
   },
   "source": [
    "$$ Z = \\frac{\\text{Value} - \\text{mean}}{\\text{Standard deviation}} $$"
   ]
  },
  {
   "cell_type": "markdown",
   "metadata": {
    "id": "pzN6ct4HczVX"
   },
   "source": [
    "This normalization process mitigates the dominance of variables with larger ranges over those with smaller values.\n"
   ]
  },
  {
   "cell_type": "markdown",
   "metadata": {
    "id": "25iZJGSSczX0"
   },
   "source": [
    "#### __Covariance Matrix Computation__\n"
   ]
  },
  {
   "cell_type": "markdown",
   "metadata": {
    "id": "hb75rtQLczad"
   },
   "source": [
    "It helps to check the correlation between features in a dataset.\n",
    "\n",
    "**Types of covariance:**\n",
    "\n",
    "- Positive covariance indicates a direct correlation.\n",
    "\n",
    "- Negative covariance indicates an inverse correlation.\n",
    "\n"
   ]
  },
  {
   "cell_type": "markdown",
   "metadata": {
    "id": "yNL1FtL5czc3"
   },
   "source": [
    "The covariance matrix provides a summary of the relationships (correlations) between variables in a tabular representation."
   ]
  },
  {
   "cell_type": "markdown",
   "metadata": {
    "id": "k7pySKLzczib"
   },
   "source": [
    "\\begin{pmatrix}\n",
    "\\text{Cov}(x, x) & \\text{Cov}(x, y) \\\\\n",
    "\\text{Cov}(y, x) & \\text{Cov}(y, y)\n",
    "\\end{pmatrix}\n",
    "\n"
   ]
  },
  {
   "cell_type": "markdown",
   "metadata": {
    "id": "Yk0z8OVyczlh"
   },
   "source": [
    "#### __Identifying Principal Components__"
   ]
  },
  {
   "cell_type": "markdown",
   "metadata": {
    "id": "_sQrR6ypczpy"
   },
   "source": [
    "Eigenvectors and eigenvalues, computed from the covariance matrix, determine the principal components of data. Each eigenvector, paired with a corresponding eigenvalue, represents an axis direction where the data variance is maximized—these are the principal components. The eigenvalues indicate the amount of variance each component carries. By ordering the eigenvectors from highest to lowest eigenvalues, you rank the principal components by their significance.\n",
    "\n",
    "\n",
    "\n",
    "\n",
    "\n",
    "\n",
    "\n",
    "\n",
    "\n"
   ]
  },
  {
   "cell_type": "markdown",
   "metadata": {
    "id": "a65VXJcj6xOk"
   },
   "source": [
    "![link text](https://labcontent.simplicdn.net/data-content/content-assets/Data_and_AI/ML/New/Lesson_06_Unsupervised_Learning/identifying_principal_components.png)"
   ]
  },
  {
   "cell_type": "markdown",
   "metadata": {
    "id": "gigtORTp6xSF"
   },
   "source": [
    "#### __Create a Feature Vector__"
   ]
  },
  {
   "cell_type": "markdown",
   "metadata": {
    "id": "x4NXTX5ulCa0"
   },
   "source": [
    "In this step, we decide whether to retain all components or to discard the less significant ones (those with lower eigenvalues). We then form a matrix from the remaining, more significant eigenvectors, known as the Feature Vector\n",
    "\n",
    "\n",
    "\n",
    "\n"
   ]
  },
  {
   "cell_type": "markdown",
   "metadata": {
    "id": "-Gnuab8GczsU"
   },
   "source": [
    "![link text](https://labcontent.simplicdn.net/data-content/content-assets/Data_and_AI/ML/New/Lesson_06_Unsupervised_Learning/feature_vector.png)"
   ]
  },
  {
   "cell_type": "markdown",
   "metadata": {
    "id": "yZHRiAvZpVFD"
   },
   "source": [
    "So, the feature vector is simply a matrix that has as columns the eigenvectors of the components that we decide to keep. This makes it the first step towards dimensionality reduction, because if we choose to keep only p eigenvectors (components) out of n, the final data set will have only p dimensions."
   ]
  },
  {
   "cell_type": "markdown",
   "metadata": {
    "id": "SY27VyglVHqI"
   },
   "source": [
    "#### __Recasting Data Along Principal Component Axes__\n"
   ]
  },
  {
   "cell_type": "markdown",
   "metadata": {
    "id": "CGN42_OU9aSW"
   },
   "source": [
    "In this step, which is the last one, the aim is to use the feature vector formed using the eigenvectors of the covariance matrix, to reorient the data from the original axes to the ones represented by the principal components (hence the name Principal Components Analysis)."
   ]
  },
  {
   "cell_type": "markdown",
   "metadata": {
    "id": "F4-mBh7X9aXb"
   },
   "source": [
    "$$ \\text{FinalDataSet} = \\text{FeatureVector}^T \\times \\text{OriginalDataSet}^T $$"
   ]
  },
  {
   "cell_type": "markdown",
   "metadata": {
    "id": "95xMuwT99acb"
   },
   "source": [
    "This is done by multiplying the transpose of the feature vector by the transpose of the original dataset.\n"
   ]
  },
  {
   "cell_type": "markdown",
   "metadata": {
    "id": "YV08LPCP9aes"
   },
   "source": [
    "#### __Applications of PCA__"
   ]
  },
  {
   "cell_type": "markdown",
   "metadata": {
    "id": "qT3ZIIMi9aiG"
   },
   "source": [
    "PCA compresses information into a smaller set with new dimensions.\n"
   ]
  },
  {
   "cell_type": "markdown",
   "metadata": {
    "id": "gpg7zSvn95Yx"
   },
   "source": [
    "- In neuroscience, it identifies the action potential of neurons by their shape.\n",
    "- In quantitative finance, it reduces the complexity of stock analysis.\n"
   ]
  },
  {
   "cell_type": "markdown",
   "metadata": {
    "id": "KWkdaXbb95bV"
   },
   "source": [
    "Let's implement PCA."
   ]
  },
  {
   "cell_type": "markdown",
   "metadata": {
    "id": "3nsXUpebgSAV"
   },
   "source": [
    "**Load the diabetes dataset**\n",
    "\n",
    "This dataset consists of 2000 samples with 8 features: preg, plas, pres, skin, insu, mass, pedi, and age. Each sample includes a target variable class, which indicates whether the sample tested positive or negative for a condition.\n",
    "\n"
   ]
  },
  {
   "cell_type": "markdown",
   "metadata": {
    "id": "h6n3nQfskTCA"
   },
   "source": [
    "**Note:** We will be using the same dataset to apply both Principal Component Analysis (PCA) and Linear Discriminant Analysis (LDA) to compare the effectiveness of these two techniques."
   ]
  },
  {
   "cell_type": "code",
   "execution_count": 1,
   "metadata": {
    "colab": {
     "base_uri": "https://localhost:8080/",
     "height": 206
    },
    "executionInfo": {
     "elapsed": 1434,
     "status": "ok",
     "timestamp": 1720424108501,
     "user": {
      "displayName": "Ashish Jangid",
      "userId": "15170006874299393728"
     },
     "user_tz": -330
    },
    "id": "kM1GRx41fW90",
    "outputId": "02d311da-40be-4119-f108-d2ea055518ed"
   },
   "outputs": [
    {
     "data": {
      "text/html": [
       "<div>\n",
       "<style scoped>\n",
       "    .dataframe tbody tr th:only-of-type {\n",
       "        vertical-align: middle;\n",
       "    }\n",
       "\n",
       "    .dataframe tbody tr th {\n",
       "        vertical-align: top;\n",
       "    }\n",
       "\n",
       "    .dataframe thead th {\n",
       "        text-align: right;\n",
       "    }\n",
       "</style>\n",
       "<table border=\"1\" class=\"dataframe\">\n",
       "  <thead>\n",
       "    <tr style=\"text-align: right;\">\n",
       "      <th></th>\n",
       "      <th>preg</th>\n",
       "      <th>plas</th>\n",
       "      <th>pres</th>\n",
       "      <th>skin</th>\n",
       "      <th>insu</th>\n",
       "      <th>mass</th>\n",
       "      <th>pedi</th>\n",
       "      <th>age</th>\n",
       "      <th>class</th>\n",
       "    </tr>\n",
       "  </thead>\n",
       "  <tbody>\n",
       "    <tr>\n",
       "      <th>0</th>\n",
       "      <td>6.0</td>\n",
       "      <td>159.1</td>\n",
       "      <td>67.5</td>\n",
       "      <td>27.0</td>\n",
       "      <td>408.6</td>\n",
       "      <td>57.0</td>\n",
       "      <td>0.642</td>\n",
       "      <td>36.0</td>\n",
       "      <td>tested_negative</td>\n",
       "    </tr>\n",
       "    <tr>\n",
       "      <th>1</th>\n",
       "      <td>14.0</td>\n",
       "      <td>170.3</td>\n",
       "      <td>111.6</td>\n",
       "      <td>30.0</td>\n",
       "      <td>758.4</td>\n",
       "      <td>65.6</td>\n",
       "      <td>1.157</td>\n",
       "      <td>53.0</td>\n",
       "      <td>tested_positive</td>\n",
       "    </tr>\n",
       "    <tr>\n",
       "      <th>2</th>\n",
       "      <td>10.0</td>\n",
       "      <td>139.3</td>\n",
       "      <td>88.5</td>\n",
       "      <td>83.5</td>\n",
       "      <td>831.3</td>\n",
       "      <td>46.2</td>\n",
       "      <td>1.204</td>\n",
       "      <td>23.0</td>\n",
       "      <td>tested_positive</td>\n",
       "    </tr>\n",
       "    <tr>\n",
       "      <th>3</th>\n",
       "      <td>7.0</td>\n",
       "      <td>150.6</td>\n",
       "      <td>24.8</td>\n",
       "      <td>49.6</td>\n",
       "      <td>337.6</td>\n",
       "      <td>29.0</td>\n",
       "      <td>1.391</td>\n",
       "      <td>43.0</td>\n",
       "      <td>tested_positive</td>\n",
       "    </tr>\n",
       "    <tr>\n",
       "      <th>4</th>\n",
       "      <td>6.0</td>\n",
       "      <td>102.2</td>\n",
       "      <td>116.4</td>\n",
       "      <td>51.8</td>\n",
       "      <td>351.5</td>\n",
       "      <td>60.4</td>\n",
       "      <td>1.993</td>\n",
       "      <td>31.0</td>\n",
       "      <td>tested_positive</td>\n",
       "    </tr>\n",
       "  </tbody>\n",
       "</table>\n",
       "</div>"
      ],
      "text/plain": [
       "   preg   plas   pres  skin   insu  mass   pedi   age            class\n",
       "0   6.0  159.1   67.5  27.0  408.6  57.0  0.642  36.0  tested_negative\n",
       "1  14.0  170.3  111.6  30.0  758.4  65.6  1.157  53.0  tested_positive\n",
       "2  10.0  139.3   88.5  83.5  831.3  46.2  1.204  23.0  tested_positive\n",
       "3   7.0  150.6   24.8  49.6  337.6  29.0  1.391  43.0  tested_positive\n",
       "4   6.0  102.2  116.4  51.8  351.5  60.4  1.993  31.0  tested_positive"
      ]
     },
     "execution_count": 1,
     "metadata": {},
     "output_type": "execute_result"
    }
   ],
   "source": [
    "import pandas as pd\n",
    "\n",
    "# Load the dataset\n",
    "data = pd.read_csv('diabetes.csv')\n",
    "data.head()"
   ]
  },
  {
   "cell_type": "code",
   "execution_count": 2,
   "metadata": {
    "executionInfo": {
     "elapsed": 10,
     "status": "ok",
     "timestamp": 1720424113614,
     "user": {
      "displayName": "Ashish Jangid",
      "userId": "15170006874299393728"
     },
     "user_tz": -330
    },
    "id": "jOqM2A4qUk-c"
   },
   "outputs": [],
   "source": [
    "# Split the dataset into features and target\n",
    "X = data.drop(columns=['class'])\n",
    "y = data['class'].apply(lambda x: 1 if x == 'tested_positive' else 0)"
   ]
  },
  {
   "cell_type": "markdown",
   "metadata": {
    "id": "LBJT4N7FXPfW"
   },
   "source": [
    "Split the dataset\n",
    "- The dataset is split into training (60%) and testing (40%) sets."
   ]
  },
  {
   "cell_type": "code",
   "execution_count": 3,
   "metadata": {
    "executionInfo": {
     "elapsed": 7,
     "status": "ok",
     "timestamp": 1720424116809,
     "user": {
      "displayName": "Ashish Jangid",
      "userId": "15170006874299393728"
     },
     "user_tz": -330
    },
    "id": "nKKk9YftfW92"
   },
   "outputs": [],
   "source": [
    "from sklearn.model_selection import train_test_split\n",
    "X_train, X_test, y_train, y_test = train_test_split(X, y, test_size=0.4, random_state=42)"
   ]
  },
  {
   "cell_type": "markdown",
   "metadata": {
    "id": "ZliU2w6gYXUN"
   },
   "source": [
    "Standardize the data"
   ]
  },
  {
   "cell_type": "code",
   "execution_count": 4,
   "metadata": {
    "executionInfo": {
     "elapsed": 8,
     "status": "ok",
     "timestamp": 1720424120098,
     "user": {
      "displayName": "Ashish Jangid",
      "userId": "15170006874299393728"
     },
     "user_tz": -330
    },
    "id": "Y0yiWgiSfW94"
   },
   "outputs": [],
   "source": [
    "from sklearn.preprocessing import StandardScaler\n",
    "scaler = StandardScaler()\n",
    "X_train_scaled = scaler.fit_transform(X_train)\n",
    "X_test_scaled = scaler.transform(X_test)"
   ]
  },
  {
   "cell_type": "markdown",
   "metadata": {
    "id": "d2E3NsCzmoFU"
   },
   "source": [
    "Apply the PCA"
   ]
  },
  {
   "cell_type": "markdown",
   "metadata": {
    "id": "GeFT0NU0gkEL"
   },
   "source": [
    "\n",
    "- Import PCA from sklearn.decomposition.\n",
    "- Find the optimal number of principal components\n",
    "- Instantiate a PCA object with the optimal number of components.\n",
    "- Fit PCA to the scaled data.\n",
    "- Transform the scaled data using PCA.\n"
   ]
  },
  {
   "cell_type": "code",
   "execution_count": 8,
   "metadata": {},
   "outputs": [
    {
     "data": {
      "text/plain": [
       "(1200, 8)"
      ]
     },
     "execution_count": 8,
     "metadata": {},
     "output_type": "execute_result"
    }
   ],
   "source": [
    "X_train.shape"
   ]
  },
  {
   "cell_type": "code",
   "execution_count": 6,
   "metadata": {
    "colab": {
     "base_uri": "https://localhost:8080/",
     "height": 407
    },
    "executionInfo": {
     "elapsed": 1848,
     "status": "ok",
     "timestamp": 1720424125469,
     "user": {
      "displayName": "Ashish Jangid",
      "userId": "15170006874299393728"
     },
     "user_tz": -330
    },
    "id": "ptrlYgW7PL9L",
    "outputId": "aaec7317-ac59-46e3-d91b-19c0bfb1c085"
   },
   "outputs": [
    {
     "name": "stderr",
     "output_type": "stream",
     "text": [
      "\n",
      "Bad key \"text.kerning_factor\" on line 4 in\n",
      "C:\\Users\\DK\\anaconda3\\lib\\site-packages\\matplotlib\\mpl-data\\stylelib\\_classic_test_patch.mplstyle.\n",
      "You probably need to get an updated matplotlibrc file from\n",
      "https://github.com/matplotlib/matplotlib/blob/v3.1.3/matplotlibrc.template\n",
      "or from the matplotlib source distribution\n"
     ]
    },
    {
     "data": {
      "image/png": "[encoded data removed]",
      "text/plain": [
       "<Figure size 576x288 with 1 Axes>"
      ]
     },
     "metadata": {
      "needs_background": "light"
     },
     "output_type": "display_data"
    }
   ],
   "source": [
    "# Apply PCA without reducing dimensionality to find the optimal number of components\n",
    "from sklearn.decomposition import PCA\n",
    "import matplotlib.pyplot as plt\n",
    "import numpy as np\n",
    "pca = PCA()\n",
    "pca.fit(X_train_scaled)\n",
    "\n",
    "# Explained variance ratios\n",
    "explained_variance = pca.explained_variance_ratio_\n",
    "\n",
    "\n",
    "plt.figure(figsize=(8, 4))\n",
    "plt.bar(range(1, len(explained_variance) + 1), explained_variance, alpha=0.5, align='center',\n",
    "        label='Individual explained variance')\n",
    "plt.step(range(1, len(explained_variance) + 1), np.cumsum(explained_variance), where='mid',\n",
    "         label='Cumulative explained variance')\n",
    "plt.ylabel('Explained variance ratio')\n",
    "plt.xlabel('Principal components')\n",
    "plt.title('Explained Variance by Different Principal Components')\n",
    "plt.legend(loc='best')\n",
    "plt.tight_layout()\n",
    "plt.show()\n"
   ]
  },
  {
   "cell_type": "markdown",
   "metadata": {
    "id": "A0WsIZ4f24jX"
   },
   "source": [
    "**Observation:**\n",
    "\n",
    "The plot shows that each of the 8 principal components explains a similar amount of variance individually, while the cumulative explained variance steadily increases, approaching 100% by the 8th component."
   ]
  },
  {
   "cell_type": "code",
   "execution_count": 14,
   "metadata": {},
   "outputs": [
    {
     "data": {
      "text/plain": [
       "array([1.11590426, 1.07129667, 1.05442667, 1.01029135, 1.00068378,\n",
       "       0.94703331, 0.92938488, 0.87765132])"
      ]
     },
     "execution_count": 14,
     "metadata": {},
     "output_type": "execute_result"
    }
   ],
   "source": [
    "eigenvalues"
   ]
  },
  {
   "cell_type": "code",
   "execution_count": 9,
   "metadata": {
    "colab": {
     "base_uri": "https://localhost:8080/",
     "height": 407
    },
    "executionInfo": {
     "elapsed": 1783,
     "status": "ok",
     "timestamp": 1720424132122,
     "user": {
      "displayName": "Ashish Jangid",
      "userId": "15170006874299393728"
     },
     "user_tz": -330
    },
    "id": "VFq6XKhC5Jec",
    "outputId": "e845b30d-6e6c-4704-8668-fa8733c9e145"
   },
   "outputs": [
    {
     "data": {
      "image/png": "[encoded data removed]",
      "text/plain": [
       "<Figure size 576x288 with 1 Axes>"
      ]
     },
     "metadata": {
      "needs_background": "light"
     },
     "output_type": "display_data"
    }
   ],
   "source": [
    "# Eigenvalues (which are proportional to the explained variance)\n",
    "eigenvalues = pca.explained_variance_\n",
    "\n",
    "# Scree plot\n",
    "plt.figure(figsize=(8, 4))\n",
    "plt.plot(range(1, len(eigenvalues) + 1), eigenvalues, marker='o', linestyle='-', label='Eigenvalues')\n",
    "plt.xlabel('Principal components')\n",
    "plt.ylabel('Eigenvalues')\n",
    "plt.title('Scree Plot')\n",
    "plt.legend(loc='best')\n",
    "plt.tight_layout()\n",
    "plt.show()\n"
   ]
  },
  {
   "cell_type": "markdown",
   "metadata": {
    "id": "lrjjmts4OO01"
   },
   "source": [
    "**Observation:**\n",
    "\n",
    "\n",
    "The scree plot shows the eigenvalues, representing the explained variance ratio, for each of the eight principal components. The eigenvalues decrease sharply from the 1st to the 2nd principal component, continue to decline at a slower rate up to the 3rd component, and then begin to level off from the 4th component onwards. This pattern indicates that the first few components capture most of the variance in the data, with diminishing returns for each additional component beyond the 3rd or 4th. Thus, the plot suggests that the optimal number of principal components is around 3 or 4."
   ]
  },
  {
   "cell_type": "code",
   "execution_count": 10,
   "metadata": {
    "executionInfo": {
     "elapsed": 5,
     "status": "ok",
     "timestamp": 1720424137535,
     "user": {
      "displayName": "Ashish Jangid",
      "userId": "15170006874299393728"
     },
     "user_tz": -330
    },
    "id": "j6GwefLHfW94"
   },
   "outputs": [],
   "source": [
    "import pandas as pd\n",
    "pca = PCA(n_components=3)\n",
    "X_train_pca = pca.fit_transform(X_train_scaled)\n",
    "X_test_pca = pca.transform(X_test_scaled)"
   ]
  },
  {
   "cell_type": "markdown",
   "metadata": {
    "id": "Av8Ja9AcYu3j"
   },
   "source": [
    "Create DataFrames"
   ]
  },
  {
   "cell_type": "code",
   "execution_count": 11,
   "metadata": {
    "executionInfo": {
     "elapsed": 3,
     "status": "ok",
     "timestamp": 1720424140016,
     "user": {
      "displayName": "Ashish Jangid",
      "userId": "15170006874299393728"
     },
     "user_tz": -330
    },
    "id": "9MqJqpFqfW94"
   },
   "outputs": [],
   "source": [
    "df_train_pca = pd.DataFrame(data=X_train_pca, columns=['Principal Component 1', 'Principal Component 2', 'Principal Component 3'])\n",
    "df_train_pca['Target'] = y_train\n",
    "\n",
    "df_test_pca = pd.DataFrame(data=X_test_pca, columns=['Principal Component 1', 'Principal Component 2', 'Principal Component 3'])\n",
    "df_test_pca['Target'] = y_test"
   ]
  },
  {
   "cell_type": "markdown",
   "metadata": {
    "id": "eN0E9vcxZSBh"
   },
   "source": [
    "Visualize the results for training and testing set."
   ]
  },
  {
   "cell_type": "code",
   "execution_count": 14,
   "metadata": {
    "colab": {
     "base_uri": "https://localhost:8080/",
     "height": 488
    },
    "executionInfo": {
     "elapsed": 2226,
     "status": "ok",
     "timestamp": 1720428618338,
     "user": {
      "displayName": "Ashish Jangid",
      "userId": "15170006874299393728"
     },
     "user_tz": -330
    },
    "id": "PaMY3ImTZWK6",
    "outputId": "49d72b23-3cf4-43f2-8b81-979eb428f072"
   },
   "outputs": [
    {
     "data": {
      "image/png": "[encoded data removed]",
      "text/plain": [
       "<Figure size 864x576 with 2 Axes>"
      ]
     },
     "metadata": {
      "needs_background": "light"
     },
     "output_type": "display_data"
    }
   ],
   "source": [
    "import matplotlib.pyplot as plt\n",
    "from mpl_toolkits.mplot3d import Axes3D\n",
    "\n",
    "fig = plt.figure(figsize=(12, 8))\n",
    "\n",
    "# Training set\n",
    "ax1 = fig.add_subplot(121, projection='3d')\n",
    "colors = ['r', 'b']\n",
    "for target, color in zip([0, 1], colors):\n",
    "    indices = df_train_pca['Target'] == target\n",
    "    ax1.scatter(df_train_pca.loc[indices, 'Principal Component 1'],\n",
    "                df_train_pca.loc[indices, 'Principal Component 2'],\n",
    "                df_train_pca.loc[indices, 'Principal Component 3'],\n",
    "                c=color, s=50)\n",
    "ax1.set_xlabel('Principal Component 1')\n",
    "ax1.set_ylabel('Principal Component 2')\n",
    "ax1.set_zlabel('Principal Component 3')\n",
    "ax1.legend(['No Diabetes', 'Diabetes'])\n",
    "ax1.set_title('PCA of Diabetes Dataset (Training set)')\n",
    "ax1.grid()\n",
    "\n",
    "# Testing set\n",
    "ax2 = fig.add_subplot(122, projection='3d')\n",
    "for target, color in zip([0, 1], colors):\n",
    "    indices = df_test_pca['Target'] == target\n",
    "    ax2.scatter(df_test_pca.loc[indices, 'Principal Component 1'],\n",
    "                df_test_pca.loc[indices, 'Principal Component 2'],\n",
    "                df_test_pca.loc[indices, 'Principal Component 3'],\n",
    "                c=color, s=50)\n",
    "ax2.set_xlabel('Principal Component 1')\n",
    "ax2.set_ylabel('Principal Component 2')\n",
    "ax2.set_zlabel('Principal Component 3')\n",
    "ax2.legend(['No Diabetes', 'Diabetes'])\n",
    "ax2.set_title('PCA of Diabetes Dataset (Testing set)')\n",
    "ax2.grid()\n",
    "\n",
    "plt.show()\n"
   ]
  },
  {
   "cell_type": "markdown",
   "metadata": {
    "id": "H0dlLZoQrZ6I"
   },
   "source": [
    "**Observation**\n",
    "\n",
    "PCA is effective in reducing the dimensionality of the diabetes dataset.\n",
    "\n",
    "Next Steps: For further analysis, other dimensionality reduction techniques like LDA could be explored, or a more complex classification model could be trained to improve the separation of the two classes."
   ]
  },
  {
   "cell_type": "markdown",
   "metadata": {
    "id": "Ebo2CjdoczNu"
   },
   "source": [
    "### __6.3.4 Linear Discriminant Analysis (LDA)__"
   ]
  },
  {
   "cell_type": "markdown",
   "metadata": {
    "id": "G-xqAiSec64z"
   },
   "source": [
    "Linear discriminant analysis (LDA) is a technique used for dimensionality reduction and classification. It aims to project the data onto a lower-dimensional space in such a way that the separation between different classes is maximized. LDA focuses on finding a linear combination of features that best separate two or more classes of objects or events."
   ]
  },
  {
   "cell_type": "markdown",
   "metadata": {
    "id": "hjWsXWpZdNIj"
   },
   "source": [
    "- LDA assumes the data follows a Gaussian distribution.\n",
    "- It assumes that the covariance matrices of different classes are equal.\n",
    "- It assumes the data is linearly separable, allowing for an accurate linear decision boundary to classify different classes.\n",
    "- It can reduce the dimensionality of the data to a maximum of $𝑘 − 1$ components, where $k$ is the number of classes in the target variable."
   ]
  },
  {
   "cell_type": "markdown",
   "metadata": {
    "id": "KwqWkcqXnAxk"
   },
   "source": [
    "Let's implement LDA."
   ]
  },
  {
   "cell_type": "markdown",
   "metadata": {
    "id": "WU9V-tIinEht"
   },
   "source": [
    "We will use the same train-test split set that was used in PCA."
   ]
  },
  {
   "cell_type": "markdown",
   "metadata": {
    "id": "Hp-ordVby7DT"
   },
   "source": [
    "\n",
    "- Import LDA from sklearn.decomposition.\n",
    "- Instantiate a LDA object with one components.\n",
    "- Fit LDA to the scaled data.\n",
    "- Transform the scaled data using LDA.\n"
   ]
  },
  {
   "cell_type": "code",
   "execution_count": 15,
   "metadata": {
    "executionInfo": {
     "elapsed": 8,
     "status": "ok",
     "timestamp": 1720424491895,
     "user": {
      "displayName": "Ashish Jangid",
      "userId": "15170006874299393728"
     },
     "user_tz": -330
    },
    "id": "MP9qToKoZwIl"
   },
   "outputs": [],
   "source": [
    "from sklearn.discriminant_analysis import LinearDiscriminantAnalysis as LDA\n",
    "lda = LDA(n_components=1)\n",
    "X_train_lda = lda.fit_transform(X_train_scaled, y_train)\n",
    "X_test_lda = lda.transform(X_test_scaled)\n"
   ]
  },
  {
   "cell_type": "markdown",
   "metadata": {
    "id": "ORYYgLh5zJUj"
   },
   "source": [
    "Create DataFrames"
   ]
  },
  {
   "cell_type": "code",
   "execution_count": 16,
   "metadata": {
    "executionInfo": {
     "elapsed": 520,
     "status": "ok",
     "timestamp": 1720424496616,
     "user": {
      "displayName": "Ashish Jangid",
      "userId": "15170006874299393728"
     },
     "user_tz": -330
    },
    "id": "fxEgiQbhnowR"
   },
   "outputs": [],
   "source": [
    "df_train_lda = pd.DataFrame(data=X_train_lda, columns=['LDA Component 1'])\n",
    "df_train_lda['Target'] = y_train\n",
    "\n",
    "df_test_lda = pd.DataFrame(data=X_test_lda, columns=['LDA Component 1'])\n",
    "df_test_lda['Target'] = y_test\n"
   ]
  },
  {
   "cell_type": "markdown",
   "metadata": {
    "id": "yXD2odO6zRFP"
   },
   "source": [
    "Visualize the results for training and testing set."
   ]
  },
  {
   "cell_type": "code",
   "execution_count": 17,
   "metadata": {
    "colab": {
     "base_uri": "https://localhost:8080/",
     "height": 487
    },
    "executionInfo": {
     "elapsed": 1490,
     "status": "ok",
     "timestamp": 1720424503593,
     "user": {
      "displayName": "Ashish Jangid",
      "userId": "15170006874299393728"
     },
     "user_tz": -330
    },
    "id": "yN6IpnoEntJt",
    "outputId": "55c75611-4086-4189-95a8-36329a4a90d3"
   },
   "outputs": [
    {
     "data": {
      "image/png": "[encoded data removed]",
      "text/plain": [
       "<Figure size 1008x360 with 2 Axes>"
      ]
     },
     "metadata": {
      "needs_background": "light"
     },
     "output_type": "display_data"
    }
   ],
   "source": [
    "import numpy as np\n",
    "import matplotlib.pyplot as plt\n",
    "plt.figure(figsize=(14, 5))\n",
    "\n",
    "# Training set\n",
    "plt.subplot(1, 2, 1)\n",
    "colors = ['r', 'b']\n",
    "for target, color in zip([0, 1], colors):\n",
    "    indices = df_train_lda['Target'] == target\n",
    "    plt.scatter(df_train_lda.loc[indices, 'LDA Component 1'], np.zeros_like(df_train_lda.loc[indices, 'LDA Component 1']),\n",
    "                c=color, s=50)\n",
    "plt.xlabel('LDA Component 1')\n",
    "plt.ylabel('Constant zero line')\n",
    "plt.legend(['No Diabetes', 'Diabetes'])\n",
    "plt.title('LDA of Diabetes Dataset (Training set)')\n",
    "plt.grid()\n",
    "\n",
    "# Testing set\n",
    "plt.subplot(1, 2, 2)\n",
    "for target, color in zip([0, 1], colors):\n",
    "    indices = df_test_lda['Target'] == target\n",
    "    plt.scatter(df_test_lda.loc[indices, 'LDA Component 1'], np.zeros_like(df_test_lda.loc[indices, 'LDA Component 1']),\n",
    "                c=color, s=50)\n",
    "plt.xlabel('LDA Component 1')\n",
    "plt.ylabel('Constant zero line')\n",
    "plt.legend(['No Diabetes', 'Diabetes'])\n",
    "plt.title('LDA of Diabetes Dataset (Testing set)')\n",
    "plt.grid()\n",
    "\n",
    "plt.show()\n"
   ]
  },
  {
   "cell_type": "markdown",
   "metadata": {
    "id": "dIDt1g5Dq4ht"
   },
   "source": [
    "**Observation**\n",
    "\n",
    "In both plots, the LDA component is plotted along the x-axis. The points are colored according to their target labels: red for non diabetes and blue for diabetes. The zero y-values are used to clearly separate the data points for visualization purposes."
   ]
  },
  {
   "cell_type": "markdown",
   "metadata": {
    "id": "KIziWHmX3JYt"
   },
   "source": [
    "### __6.3.5 t-Distributed Stochastic Neighbor Embedding (t-SNE)__"
   ]
  },
  {
   "cell_type": "markdown",
   "metadata": {
    "id": "bI0Ecn9e3Os0"
   },
   "source": [
    "t-Distributed Stochastic Neighbor Embedding (t-SNE) is a dimensionality reduction algorithm that uses a randomized approach to non-linearly reduce the dimensionality of a dataset. It focuses on retaining the local structure of the data in the lower-dimensional space.\n",
    "\n"
   ]
  },
  {
   "cell_type": "markdown",
   "metadata": {
    "id": "2xNo2bAf3Vb5"
   },
   "source": [
    "This algorithm helps explore high-dimensional data by mapping it into lower dimensions while preserving local relationships. As a result, we can visualize and understand the structure of the dataset by plotting it in 2D or 3D."
   ]
  },
  {
   "cell_type": "markdown",
   "metadata": {
    "id": "Wr-zOv013gUS"
   },
   "source": [
    "Let's implement t-SNE."
   ]
  },
  {
   "cell_type": "markdown",
   "metadata": {
    "id": "VVhh4CFc3qD0"
   },
   "source": [
    "**Loading the Dataset**\n",
    "\n",
    "- The MNIST dataset is loaded. It contains 60,000 training images and 10,000 test images of handwritten digits (0-9).\n",
    "- Here we are taking `y` as `label` to plot the visualization, it is not used to train the model."
   ]
  },
  {
   "cell_type": "code",
   "execution_count": 24,
   "metadata": {
    "id": "brDzD5ia3Nly"
   },
   "outputs": [],
   "source": [
    "df = pd.read_csv('mnist.csv')\n",
    "X = df.iloc[:, 1:].values  # Pixel values\n",
    "y = df.iloc[:, 0].values  # Labels"
   ]
  },
  {
   "cell_type": "code",
   "execution_count": 25,
   "metadata": {
    "colab": {
     "base_uri": "https://localhost:8080/",
     "height": 236
    },
    "id": "tQrFYcdmevxM",
    "outputId": "48942f29-57f3-43bf-f000-ff2db89546bd"
   },
   "outputs": [
    {
     "data": {
      "text/html": [
       "<div>\n",
       "<style scoped>\n",
       "    .dataframe tbody tr th:only-of-type {\n",
       "        vertical-align: middle;\n",
       "    }\n",
       "\n",
       "    .dataframe tbody tr th {\n",
       "        vertical-align: top;\n",
       "    }\n",
       "\n",
       "    .dataframe thead th {\n",
       "        text-align: right;\n",
       "    }\n",
       "</style>\n",
       "<table border=\"1\" class=\"dataframe\">\n",
       "  <thead>\n",
       "    <tr style=\"text-align: right;\">\n",
       "      <th></th>\n",
       "      <th>label</th>\n",
       "      <th>1x1</th>\n",
       "      <th>1x2</th>\n",
       "      <th>1x3</th>\n",
       "      <th>1x4</th>\n",
       "      <th>1x5</th>\n",
       "      <th>1x6</th>\n",
       "      <th>1x7</th>\n",
       "      <th>1x8</th>\n",
       "      <th>1x9</th>\n",
       "      <th>...</th>\n",
       "      <th>28x19</th>\n",
       "      <th>28x20</th>\n",
       "      <th>28x21</th>\n",
       "      <th>28x22</th>\n",
       "      <th>28x23</th>\n",
       "      <th>28x24</th>\n",
       "      <th>28x25</th>\n",
       "      <th>28x26</th>\n",
       "      <th>28x27</th>\n",
       "      <th>28x28</th>\n",
       "    </tr>\n",
       "  </thead>\n",
       "  <tbody>\n",
       "    <tr>\n",
       "      <th>0</th>\n",
       "      <td>7</td>\n",
       "      <td>0</td>\n",
       "      <td>0</td>\n",
       "      <td>0</td>\n",
       "      <td>0</td>\n",
       "      <td>0</td>\n",
       "      <td>0</td>\n",
       "      <td>0</td>\n",
       "      <td>0</td>\n",
       "      <td>0</td>\n",
       "      <td>...</td>\n",
       "      <td>0</td>\n",
       "      <td>0</td>\n",
       "      <td>0</td>\n",
       "      <td>0</td>\n",
       "      <td>0</td>\n",
       "      <td>0</td>\n",
       "      <td>0</td>\n",
       "      <td>0</td>\n",
       "      <td>0</td>\n",
       "      <td>0</td>\n",
       "    </tr>\n",
       "    <tr>\n",
       "      <th>1</th>\n",
       "      <td>2</td>\n",
       "      <td>0</td>\n",
       "      <td>0</td>\n",
       "      <td>0</td>\n",
       "      <td>0</td>\n",
       "      <td>0</td>\n",
       "      <td>0</td>\n",
       "      <td>0</td>\n",
       "      <td>0</td>\n",
       "      <td>0</td>\n",
       "      <td>...</td>\n",
       "      <td>0</td>\n",
       "      <td>0</td>\n",
       "      <td>0</td>\n",
       "      <td>0</td>\n",
       "      <td>0</td>\n",
       "      <td>0</td>\n",
       "      <td>0</td>\n",
       "      <td>0</td>\n",
       "      <td>0</td>\n",
       "      <td>0</td>\n",
       "    </tr>\n",
       "    <tr>\n",
       "      <th>2</th>\n",
       "      <td>1</td>\n",
       "      <td>0</td>\n",
       "      <td>0</td>\n",
       "      <td>0</td>\n",
       "      <td>0</td>\n",
       "      <td>0</td>\n",
       "      <td>0</td>\n",
       "      <td>0</td>\n",
       "      <td>0</td>\n",
       "      <td>0</td>\n",
       "      <td>...</td>\n",
       "      <td>0</td>\n",
       "      <td>0</td>\n",
       "      <td>0</td>\n",
       "      <td>0</td>\n",
       "      <td>0</td>\n",
       "      <td>0</td>\n",
       "      <td>0</td>\n",
       "      <td>0</td>\n",
       "      <td>0</td>\n",
       "      <td>0</td>\n",
       "    </tr>\n",
       "    <tr>\n",
       "      <th>3</th>\n",
       "      <td>0</td>\n",
       "      <td>0</td>\n",
       "      <td>0</td>\n",
       "      <td>0</td>\n",
       "      <td>0</td>\n",
       "      <td>0</td>\n",
       "      <td>0</td>\n",
       "      <td>0</td>\n",
       "      <td>0</td>\n",
       "      <td>0</td>\n",
       "      <td>...</td>\n",
       "      <td>0</td>\n",
       "      <td>0</td>\n",
       "      <td>0</td>\n",
       "      <td>0</td>\n",
       "      <td>0</td>\n",
       "      <td>0</td>\n",
       "      <td>0</td>\n",
       "      <td>0</td>\n",
       "      <td>0</td>\n",
       "      <td>0</td>\n",
       "    </tr>\n",
       "    <tr>\n",
       "      <th>4</th>\n",
       "      <td>4</td>\n",
       "      <td>0</td>\n",
       "      <td>0</td>\n",
       "      <td>0</td>\n",
       "      <td>0</td>\n",
       "      <td>0</td>\n",
       "      <td>0</td>\n",
       "      <td>0</td>\n",
       "      <td>0</td>\n",
       "      <td>0</td>\n",
       "      <td>...</td>\n",
       "      <td>0</td>\n",
       "      <td>0</td>\n",
       "      <td>0</td>\n",
       "      <td>0</td>\n",
       "      <td>0</td>\n",
       "      <td>0</td>\n",
       "      <td>0</td>\n",
       "      <td>0</td>\n",
       "      <td>0</td>\n",
       "      <td>0</td>\n",
       "    </tr>\n",
       "  </tbody>\n",
       "</table>\n",
       "<p>5 rows × 785 columns</p>\n",
       "</div>"
      ],
      "text/plain": [
       "   label  1x1  1x2  1x3  1x4  1x5  1x6  1x7  1x8  1x9  ...  28x19  28x20  \\\n",
       "0      7    0    0    0    0    0    0    0    0    0  ...      0      0   \n",
       "1      2    0    0    0    0    0    0    0    0    0  ...      0      0   \n",
       "2      1    0    0    0    0    0    0    0    0    0  ...      0      0   \n",
       "3      0    0    0    0    0    0    0    0    0    0  ...      0      0   \n",
       "4      4    0    0    0    0    0    0    0    0    0  ...      0      0   \n",
       "\n",
       "   28x21  28x22  28x23  28x24  28x25  28x26  28x27  28x28  \n",
       "0      0      0      0      0      0      0      0      0  \n",
       "1      0      0      0      0      0      0      0      0  \n",
       "2      0      0      0      0      0      0      0      0  \n",
       "3      0      0      0      0      0      0      0      0  \n",
       "4      0      0      0      0      0      0      0      0  \n",
       "\n",
       "[5 rows x 785 columns]"
      ]
     },
     "execution_count": 25,
     "metadata": {},
     "output_type": "execute_result"
    }
   ],
   "source": [
    "df.head()"
   ]
  },
  {
   "cell_type": "markdown",
   "metadata": {
    "id": "R9RSKO8936rY"
   },
   "source": [
    "**Data Preprocessing**\n",
    "\n",
    "- The images are reshaped from 28x28 pixels to 784-dimensional vectors.\n",
    "- The pixel values are normalized to be between 0 and 1.\n"
   ]
  },
  {
   "cell_type": "markdown",
   "metadata": {
    "id": "oJKJlW134NLS"
   },
   "source": [
    "**Applying t-SNE**\n",
    "\n",
    "- `TSNE` from `sklearn.manifold` is used to reduce the data to 2 dimensions for visualization.\n",
    "- Only a subset of 1000 samples is used for performance reasons (t-SNE can be computationally intensive).\n",
    "\n",
    "**Note:** Dataset without train test split is taken to fit the model since this is only for visualization purpose."
   ]
  },
  {
   "cell_type": "code",
   "execution_count": 34,
   "metadata": {
    "colab": {
     "base_uri": "https://localhost:8080/",
     "height": 607
    },
    "id": "aLAa6YQP9QvC",
    "outputId": "a62599d5-311a-4a74-d736-ce6d857f8e2b"
   },
   "outputs": [
    {
     "name": "stderr",
     "output_type": "stream",
     "text": [
      "C:\\Users\\DK\\anaconda3\\lib\\site-packages\\sklearn\\manifold\\_t_sne.py:783: FutureWarning: The default initialization in TSNE will change from 'random' to 'pca' in 1.2.\n",
      "  FutureWarning,\n",
      "C:\\Users\\DK\\anaconda3\\lib\\site-packages\\sklearn\\manifold\\_t_sne.py:793: FutureWarning: The default learning rate in TSNE will change from 200.0 to 'auto' in 1.2.\n",
      "  FutureWarning,\n"
     ]
    },
    {
     "data": {
      "image/png": "[encoded data removed]",
      "text/plain": [
       "<Figure size 483.875x432 with 1 Axes>"
      ]
     },
     "metadata": {
      "needs_background": "light"
     },
     "output_type": "display_data"
    }
   ],
   "source": [
    "import seaborn as sns\n",
    "from sklearn.manifold import TSNE\n",
    "\n",
    "model = TSNE(n_components=2, random_state=42, n_iter=1000)\n",
    "\n",
    "tsne_data = model.fit_transform(X[:1000])\n",
    "\n",
    "# Creating a new DataFrame to help us in plotting the result data\n",
    "tsne_data = np.vstack((tsne_data.T, y[:1000])).T\n",
    "tsne_df = pd.DataFrame(data=tsne_data, columns=(\"Dim_1\", \"Dim_2\", \"label\"))\n",
    "\n",
    "# Plotting the result of t-SNE\n",
    "sns.FacetGrid(tsne_df, hue=\"label\", height=6).map(plt.scatter, \"Dim_1\", \"Dim_2\").add_legend()\n",
    "plt.show()"
   ]
  },
  {
   "cell_type": "code",
   "execution_count": 35,
   "metadata": {},
   "outputs": [
    {
     "data": {
      "text/plain": [
       "(10000, 784)"
      ]
     },
     "execution_count": 35,
     "metadata": {},
     "output_type": "execute_result"
    }
   ],
   "source": [
    "tsne_data.shape\n",
    "X.shape"
   ]
  },
  {
   "cell_type": "markdown",
   "metadata": {
    "id": "1JOxod555LZs"
   },
   "source": [
    "**Observation**\n",
    "\n",
    "- t-SNE has successfully reduced the high-dimensional MNIST data to two dimensions while preserving the local structure, as evidenced by the formation of distinct clusters for different digits.\n",
    "- The clusters correspond to the digit labels, making it easier to visualize and understand the data distribution."
   ]
  },
  {
   "cell_type": "markdown",
   "metadata": {
    "id": "YSdDfAtz5cWi"
   },
   "source": [
    "## __6.4 Association Rule Learning__"
   ]
  },
  {
   "cell_type": "markdown",
   "metadata": {
    "id": "N71--W-gJuHQ"
   },
   "source": [
    "### __6.4.1 Introduction to Association Rule Learning__"
   ]
  },
  {
   "cell_type": "markdown",
   "metadata": {
    "id": "ESSs-E1bBAMY"
   },
   "source": [
    "Association Rule Learning is a popular unsupervised learning technique used to uncover relationships, patterns, or associations among a set of items in large datasets. This technique is commonly used in market basket analysis, where the goal is to identify sets of products that frequently co-occur in transactions.\n",
    "\n",
    "The two key concepts in association rule learning are **frequent itemsets** and **association rules**."
   ]
  },
  {
   "cell_type": "markdown",
   "metadata": {
    "id": "loNcXARrBrSa"
   },
   "source": [
    "**Frequent Itemsets:**\n",
    "\n",
    "- These are groups of items that appear frequently together in transactions.\n",
    "- The frequency is measured by the support count, which is the number of transactions containing the itemset.\n",
    "\n",
    "**Association Rules:**\n",
    "\n",
    "These are implications of the form $ { 𝐴, 𝐵} → { 𝐶 } $, meaning that if items A and B are bought, then item C is likely to be bought.\n",
    "\n",
    "Rules are evaluated based on their support, confidence, and lift:\n",
    "- Support: The proportion of transactions that contain the itemset or how frequently an item appears in the dataset.\n",
    "$$ \\text{Supp}(X) = \\frac{\\text{Freq}(X)}{T}$$\n",
    "\n",
    "- Confidence: The probability that a transaction containing the antecedent also contains the consequent or how often the rule has been found to be true.\n",
    "$$ \\text{Confidence} = \\frac{\\text{Freq}(X, Y)}{\\text{Freq}(X)}$$\n",
    "\n",
    "- Lift: The ratio of the observed support to that expected if the items were independent. A lift greater than 1 indicates a positive association.\n",
    "$$ \\text{Lift} = \\frac{\\text{Supp}(X, Y)}{\\text{Supp}(X) \\times \\text{Supp}(Y)}$$"
   ]
  },
  {
   "cell_type": "markdown",
   "metadata": {
    "id": "GWxApHySQZhF"
   },
   "source": [
    "![link text](https://labcontent.simplicdn.net/data-content/content-assets/Data_and_AI/ML/New/Lesson_06_Unsupervised_Learning/association.png)"
   ]
  },
  {
   "cell_type": "markdown",
   "metadata": {
    "id": "LRyinzpQHhu9"
   },
   "source": [
    "#### __Practical Applications:__\n",
    "1. **Market Basket Analysis:** Identifying products that are frequently bought together to optimize product placement and promotions.\n",
    "2. **Web Usage Mining:** Analyzing user navigation patterns to improve website design and content recommendation.\n",
    "3. **Bioinformatics:** Discovering relationships between genes and proteins.\n",
    "4. **Fraud Detection:** Identifying patterns in fraudulent transactions."
   ]
  },
  {
   "cell_type": "markdown",
   "metadata": {
    "id": "0xKH3M8FGoZR"
   },
   "source": [
    "#### __Popular Algorithms:__\n",
    "\n",
    "**Apriori Algorithm:**\n",
    "- It uses breadth-first search and Hash Tree to calculate the itemset efficiently.\n",
    "- Generates frequent itemsets by iteratively expanding smaller itemsets.\n",
    "- Uses the _Apriori Property_ which states that all non-empty subsets of a frequent itemset must also be frequent.\n",
    "\n",
    "**Eclat Algorithm:**\n",
    "\n",
    "- Uses a depth-first search strategy to find frequent itemsets.\n",
    "- It is more efficient for dense datasets."
   ]
  },
  {
   "cell_type": "markdown",
   "metadata": {
    "id": "fyLc-DtXHFoy"
   },
   "source": [
    "Let's understand these algorithms one-by-one."
   ]
  },
  {
   "cell_type": "markdown",
   "metadata": {
    "id": "HC5G7AGPPty-"
   },
   "source": [
    "### __6.4.2 Apriori Algorithm__"
   ]
  },
  {
   "cell_type": "markdown",
   "metadata": {
    "id": "COouNoaqP4Hh"
   },
   "source": [
    "The Apriori algorithm is a classic algorithm used for mining frequent itemsets and learning association rules over transactional databases. It is an unsupervised learning technique, typically used in market basket analysis to find interesting relationships between items in large datasets.\n",
    "\n",
    "The algorithm operates by identifying the frequent individual items in the database and extending them to larger itemsets as long as those itemsets appear sufficiently often in the database."
   ]
  },
  {
   "cell_type": "markdown",
   "metadata": {
    "id": "Xngj3akDQE4e"
   },
   "source": [
    "Let's implement Apriori Algorithm"
   ]
  },
  {
   "cell_type": "markdown",
   "metadata": {
    "id": "IhUL4g1PTXr0"
   },
   "source": [
    "**Data Loading and Preparation:**\n",
    "\n",
    "- The dataset was loaded into a pandas DataFrame from a CSV file named `Market_Basket_Optimisation.csv`.\n",
    "- Each transaction (row) in the dataset represents a set of items purchased together.\n",
    "- We converted this DataFrame into a list of lists, where each inner list contains the items of a single transaction."
   ]
  },
  {
   "cell_type": "code",
   "execution_count": 2,
   "metadata": {},
   "outputs": [
    {
     "name": "stdout",
     "output_type": "stream",
     "text": [
      "Collecting mlxtend\n",
      "  Downloading mlxtend-0.23.4-py3-none-any.whl (1.4 MB)\n",
      "     ---------------------------------------- 1.4/1.4 MB 998.6 kB/s eta 0:00:00\n",
      "Requirement already satisfied: numpy>=1.16.2 in c:\\users\\dk\\anaconda3\\lib\\site-packages (from mlxtend) (1.21.6)\n",
      "  Downloading mlxtend-0.23.3-py3-none-any.whl (1.4 MB)\n",
      "     ---------------------------------------- 1.4/1.4 MB 641.2 kB/s eta 0:00:00\n",
      "  Downloading mlxtend-0.23.2-py3-none-any.whl (1.4 MB)\n",
      "     ---------------------------------------- 1.4/1.4 MB 1.6 MB/s eta 0:00:00\n",
      "  Downloading mlxtend-0.23.1-py3-none-any.whl (1.4 MB)\n",
      "     ---------------------------------------- 1.4/1.4 MB 1.8 MB/s eta 0:00:00\n",
      "Requirement already satisfied: pandas>=0.24.2 in c:\\users\\dk\\anaconda3\\lib\\site-packages (from mlxtend) (1.3.5)\n",
      "Requirement already satisfied: scipy>=1.2.1 in c:\\users\\dk\\anaconda3\\lib\\site-packages (from mlxtend) (1.7.3)\n",
      "Requirement already satisfied: matplotlib>=3.0.0 in c:\\users\\dk\\anaconda3\\lib\\site-packages (from mlxtend) (3.5.3)\n",
      "Requirement already satisfied: scikit-learn>=1.0.2 in c:\\users\\dk\\anaconda3\\lib\\site-packages (from mlxtend) (1.0.2)\n",
      "Requirement already satisfied: joblib>=0.13.2 in c:\\users\\dk\\anaconda3\\lib\\site-packages (from mlxtend) (1.3.2)\n",
      "Requirement already satisfied: fonttools>=4.22.0 in c:\\users\\dk\\anaconda3\\lib\\site-packages (from matplotlib>=3.0.0->mlxtend) (4.38.0)\n",
      "Requirement already satisfied: python-dateutil>=2.7 in c:\\users\\dk\\anaconda3\\lib\\site-packages (from matplotlib>=3.0.0->mlxtend) (2.8.1)\n",
      "Requirement already satisfied: pillow>=6.2.0 in c:\\users\\dk\\anaconda3\\lib\\site-packages (from matplotlib>=3.0.0->mlxtend) (9.4.0)\n",
      "Requirement already satisfied: pyparsing>=2.2.1 in c:\\users\\dk\\anaconda3\\lib\\site-packages (from matplotlib>=3.0.0->mlxtend) (3.0.9)\n",
      "Requirement already satisfied: packaging>=20.0 in c:\\users\\dk\\anaconda3\\lib\\site-packages (from matplotlib>=3.0.0->mlxtend) (22.0)\n",
      "Requirement already satisfied: kiwisolver>=1.0.1 in c:\\users\\dk\\anaconda3\\lib\\site-packages (from matplotlib>=3.0.0->mlxtend) (1.1.0)\n",
      "Requirement already satisfied: cycler>=0.10 in c:\\users\\dk\\anaconda3\\lib\\site-packages (from matplotlib>=3.0.0->mlxtend) (0.10.0)\n",
      "Requirement already satisfied: pytz>=2017.3 in c:\\users\\dk\\anaconda3\\lib\\site-packages (from pandas>=0.24.2->mlxtend) (2019.3)\n",
      "Requirement already satisfied: threadpoolctl>=2.0.0 in c:\\users\\dk\\anaconda3\\lib\\site-packages (from scikit-learn>=1.0.2->mlxtend) (2.2.0)\n",
      "Requirement already satisfied: six in c:\\users\\dk\\anaconda3\\lib\\site-packages (from cycler>=0.10->matplotlib>=3.0.0->mlxtend) (1.16.0)\n",
      "Requirement already satisfied: setuptools in c:\\users\\dk\\anaconda3\\lib\\site-packages (from kiwisolver>=1.0.1->matplotlib>=3.0.0->mlxtend) (65.6.3)\n",
      "Installing collected packages: mlxtend\n",
      "Successfully installed mlxtend-0.23.1\n"
     ]
    },
    {
     "name": "stderr",
     "output_type": "stream",
     "text": [
      "WARNING: Ignoring invalid distribution -umpy (c:\\users\\dk\\anaconda3\\lib\\site-packages)\n",
      "WARNING: Ignoring invalid distribution -rotobuf (c:\\users\\dk\\anaconda3\\lib\\site-packages)\n",
      "WARNING: Ignoring invalid distribution - (c:\\users\\dk\\anaconda3\\lib\\site-packages)\n",
      "WARNING: Ignoring invalid distribution -eo4j (c:\\users\\dk\\anaconda3\\lib\\site-packages)\n",
      "WARNING: Ignoring invalid distribution -umpy (c:\\users\\dk\\anaconda3\\lib\\site-packages)\n",
      "WARNING: Ignoring invalid distribution -rotobuf (c:\\users\\dk\\anaconda3\\lib\\site-packages)\n",
      "WARNING: Ignoring invalid distribution - (c:\\users\\dk\\anaconda3\\lib\\site-packages)\n",
      "WARNING: Ignoring invalid distribution -eo4j (c:\\users\\dk\\anaconda3\\lib\\site-packages)\n",
      "WARNING: Ignoring invalid distribution -umpy (c:\\users\\dk\\anaconda3\\lib\\site-packages)\n",
      "WARNING: Ignoring invalid distribution -rotobuf (c:\\users\\dk\\anaconda3\\lib\\site-packages)\n",
      "WARNING: Ignoring invalid distribution - (c:\\users\\dk\\anaconda3\\lib\\site-packages)\n",
      "WARNING: Ignoring invalid distribution -eo4j (c:\\users\\dk\\anaconda3\\lib\\site-packages)\n",
      "WARNING: Ignoring invalid distribution -umpy (c:\\users\\dk\\anaconda3\\lib\\site-packages)\n",
      "WARNING: Ignoring invalid distribution -rotobuf (c:\\users\\dk\\anaconda3\\lib\\site-packages)\n",
      "WARNING: Ignoring invalid distribution - (c:\\users\\dk\\anaconda3\\lib\\site-packages)\n",
      "WARNING: Ignoring invalid distribution -eo4j (c:\\users\\dk\\anaconda3\\lib\\site-packages)\n",
      "WARNING: Ignoring invalid distribution -umpy (c:\\users\\dk\\anaconda3\\lib\\site-packages)\n",
      "WARNING: Ignoring invalid distribution -rotobuf (c:\\users\\dk\\anaconda3\\lib\\site-packages)\n",
      "WARNING: Ignoring invalid distribution - (c:\\users\\dk\\anaconda3\\lib\\site-packages)\n",
      "WARNING: Ignoring invalid distribution -eo4j (c:\\users\\dk\\anaconda3\\lib\\site-packages)\n",
      "WARNING: Ignoring invalid distribution -umpy (c:\\users\\dk\\anaconda3\\lib\\site-packages)\n",
      "WARNING: Ignoring invalid distribution -rotobuf (c:\\users\\dk\\anaconda3\\lib\\site-packages)\n",
      "WARNING: Ignoring invalid distribution - (c:\\users\\dk\\anaconda3\\lib\\site-packages)\n",
      "WARNING: Ignoring invalid distribution -eo4j (c:\\users\\dk\\anaconda3\\lib\\site-packages)\n",
      "WARNING: Ignoring invalid distribution -umpy (c:\\users\\dk\\anaconda3\\lib\\site-packages)\n",
      "WARNING: Ignoring invalid distribution -rotobuf (c:\\users\\dk\\anaconda3\\lib\\site-packages)\n",
      "WARNING: Ignoring invalid distribution - (c:\\users\\dk\\anaconda3\\lib\\site-packages)\n",
      "WARNING: Ignoring invalid distribution -eo4j (c:\\users\\dk\\anaconda3\\lib\\site-packages)\n",
      "\n",
      "[notice] A new release of pip available: 23.1.2 -> 24.0\n",
      "[notice] To update, run: python.exe -m pip install --upgrade pip\n"
     ]
    }
   ],
   "source": [
    "!pip install mlxtend"
   ]
  },
  {
   "cell_type": "code",
   "execution_count": 18,
   "metadata": {
    "id": "VVlTBGAm4yA8"
   },
   "outputs": [],
   "source": [
    "import pandas as pd\n",
    "from mlxtend.preprocessing import TransactionEncoder\n",
    "\n",
    "# Load the dataset\n",
    "data = pd.read_csv('Market_Basket_Optimisation.csv', header=None)\n",
    "\n",
    "# Convert the DataFrame to a list of lists\n",
    "transactions = []\n",
    "for i in range(data.shape[0]):\n",
    "    transactions.append([str(data.values[i, j]) for j in range(data.shape[1]) if str(data.values[i, j]) != 'nan'])\n"
   ]
  },
  {
   "cell_type": "markdown",
   "metadata": {
    "id": "t2krykYWZrol"
   },
   "source": [
    "**Transaction Encoding:**\n",
    "\n",
    "- We used the `TransactionEncoder` from the `mlxtend.preprocessing` module to convert the list of lists into a one-hot encoded DataFrame. In this format, each column represents an item, and each row represents a transaction, with binary values indicating whether an item was purchased in that transaction."
   ]
  },
  {
   "cell_type": "code",
   "execution_count": 19,
   "metadata": {},
   "outputs": [
    {
     "data": {
      "text/html": [
       "<div>\n",
       "<style scoped>\n",
       "    .dataframe tbody tr th:only-of-type {\n",
       "        vertical-align: middle;\n",
       "    }\n",
       "\n",
       "    .dataframe tbody tr th {\n",
       "        vertical-align: top;\n",
       "    }\n",
       "\n",
       "    .dataframe thead th {\n",
       "        text-align: right;\n",
       "    }\n",
       "</style>\n",
       "<table border=\"1\" class=\"dataframe\">\n",
       "  <thead>\n",
       "    <tr style=\"text-align: right;\">\n",
       "      <th></th>\n",
       "      <th>0</th>\n",
       "      <th>1</th>\n",
       "      <th>2</th>\n",
       "      <th>3</th>\n",
       "      <th>4</th>\n",
       "      <th>5</th>\n",
       "      <th>6</th>\n",
       "      <th>7</th>\n",
       "      <th>8</th>\n",
       "      <th>9</th>\n",
       "      <th>10</th>\n",
       "      <th>11</th>\n",
       "      <th>12</th>\n",
       "      <th>13</th>\n",
       "      <th>14</th>\n",
       "      <th>15</th>\n",
       "      <th>16</th>\n",
       "      <th>17</th>\n",
       "      <th>18</th>\n",
       "      <th>19</th>\n",
       "    </tr>\n",
       "  </thead>\n",
       "  <tbody>\n",
       "    <tr>\n",
       "      <th>0</th>\n",
       "      <td>shrimp</td>\n",
       "      <td>almonds</td>\n",
       "      <td>avocado</td>\n",
       "      <td>vegetables mix</td>\n",
       "      <td>green grapes</td>\n",
       "      <td>whole weat flour</td>\n",
       "      <td>yams</td>\n",
       "      <td>cottage cheese</td>\n",
       "      <td>energy drink</td>\n",
       "      <td>tomato juice</td>\n",
       "      <td>low fat yogurt</td>\n",
       "      <td>green tea</td>\n",
       "      <td>honey</td>\n",
       "      <td>salad</td>\n",
       "      <td>mineral water</td>\n",
       "      <td>salmon</td>\n",
       "      <td>antioxydant juice</td>\n",
       "      <td>frozen smoothie</td>\n",
       "      <td>spinach</td>\n",
       "      <td>olive oil</td>\n",
       "    </tr>\n",
       "    <tr>\n",
       "      <th>1</th>\n",
       "      <td>burgers</td>\n",
       "      <td>meatballs</td>\n",
       "      <td>eggs</td>\n",
       "      <td>NaN</td>\n",
       "      <td>NaN</td>\n",
       "      <td>NaN</td>\n",
       "      <td>NaN</td>\n",
       "      <td>NaN</td>\n",
       "      <td>NaN</td>\n",
       "      <td>NaN</td>\n",
       "      <td>NaN</td>\n",
       "      <td>NaN</td>\n",
       "      <td>NaN</td>\n",
       "      <td>NaN</td>\n",
       "      <td>NaN</td>\n",
       "      <td>NaN</td>\n",
       "      <td>NaN</td>\n",
       "      <td>NaN</td>\n",
       "      <td>NaN</td>\n",
       "      <td>NaN</td>\n",
       "    </tr>\n",
       "    <tr>\n",
       "      <th>2</th>\n",
       "      <td>chutney</td>\n",
       "      <td>NaN</td>\n",
       "      <td>NaN</td>\n",
       "      <td>NaN</td>\n",
       "      <td>NaN</td>\n",
       "      <td>NaN</td>\n",
       "      <td>NaN</td>\n",
       "      <td>NaN</td>\n",
       "      <td>NaN</td>\n",
       "      <td>NaN</td>\n",
       "      <td>NaN</td>\n",
       "      <td>NaN</td>\n",
       "      <td>NaN</td>\n",
       "      <td>NaN</td>\n",
       "      <td>NaN</td>\n",
       "      <td>NaN</td>\n",
       "      <td>NaN</td>\n",
       "      <td>NaN</td>\n",
       "      <td>NaN</td>\n",
       "      <td>NaN</td>\n",
       "    </tr>\n",
       "    <tr>\n",
       "      <th>3</th>\n",
       "      <td>turkey</td>\n",
       "      <td>avocado</td>\n",
       "      <td>NaN</td>\n",
       "      <td>NaN</td>\n",
       "      <td>NaN</td>\n",
       "      <td>NaN</td>\n",
       "      <td>NaN</td>\n",
       "      <td>NaN</td>\n",
       "      <td>NaN</td>\n",
       "      <td>NaN</td>\n",
       "      <td>NaN</td>\n",
       "      <td>NaN</td>\n",
       "      <td>NaN</td>\n",
       "      <td>NaN</td>\n",
       "      <td>NaN</td>\n",
       "      <td>NaN</td>\n",
       "      <td>NaN</td>\n",
       "      <td>NaN</td>\n",
       "      <td>NaN</td>\n",
       "      <td>NaN</td>\n",
       "    </tr>\n",
       "    <tr>\n",
       "      <th>4</th>\n",
       "      <td>mineral water</td>\n",
       "      <td>milk</td>\n",
       "      <td>energy bar</td>\n",
       "      <td>whole wheat rice</td>\n",
       "      <td>green tea</td>\n",
       "      <td>NaN</td>\n",
       "      <td>NaN</td>\n",
       "      <td>NaN</td>\n",
       "      <td>NaN</td>\n",
       "      <td>NaN</td>\n",
       "      <td>NaN</td>\n",
       "      <td>NaN</td>\n",
       "      <td>NaN</td>\n",
       "      <td>NaN</td>\n",
       "      <td>NaN</td>\n",
       "      <td>NaN</td>\n",
       "      <td>NaN</td>\n",
       "      <td>NaN</td>\n",
       "      <td>NaN</td>\n",
       "      <td>NaN</td>\n",
       "    </tr>\n",
       "  </tbody>\n",
       "</table>\n",
       "</div>"
      ],
      "text/plain": [
       "              0          1           2                 3             4   \\\n",
       "0         shrimp    almonds     avocado    vegetables mix  green grapes   \n",
       "1        burgers  meatballs        eggs               NaN           NaN   \n",
       "2        chutney        NaN         NaN               NaN           NaN   \n",
       "3         turkey    avocado         NaN               NaN           NaN   \n",
       "4  mineral water       milk  energy bar  whole wheat rice     green tea   \n",
       "\n",
       "                 5     6               7             8             9   \\\n",
       "0  whole weat flour  yams  cottage cheese  energy drink  tomato juice   \n",
       "1               NaN   NaN             NaN           NaN           NaN   \n",
       "2               NaN   NaN             NaN           NaN           NaN   \n",
       "3               NaN   NaN             NaN           NaN           NaN   \n",
       "4               NaN   NaN             NaN           NaN           NaN   \n",
       "\n",
       "               10         11     12     13             14      15  \\\n",
       "0  low fat yogurt  green tea  honey  salad  mineral water  salmon   \n",
       "1             NaN        NaN    NaN    NaN            NaN     NaN   \n",
       "2             NaN        NaN    NaN    NaN            NaN     NaN   \n",
       "3             NaN        NaN    NaN    NaN            NaN     NaN   \n",
       "4             NaN        NaN    NaN    NaN            NaN     NaN   \n",
       "\n",
       "                  16               17       18         19  \n",
       "0  antioxydant juice  frozen smoothie  spinach  olive oil  \n",
       "1                NaN              NaN      NaN        NaN  \n",
       "2                NaN              NaN      NaN        NaN  \n",
       "3                NaN              NaN      NaN        NaN  \n",
       "4                NaN              NaN      NaN        NaN  "
      ]
     },
     "execution_count": 19,
     "metadata": {},
     "output_type": "execute_result"
    }
   ],
   "source": [
    "data.head()"
   ]
  },
  {
   "cell_type": "code",
   "execution_count": 20,
   "metadata": {},
   "outputs": [
    {
     "data": {
      "text/plain": [
       "[['shrimp',\n",
       "  'almonds',\n",
       "  'avocado',\n",
       "  'vegetables mix',\n",
       "  'green grapes',\n",
       "  'whole weat flour',\n",
       "  'yams',\n",
       "  'cottage cheese',\n",
       "  'energy drink',\n",
       "  'tomato juice',\n",
       "  'low fat yogurt',\n",
       "  'green tea',\n",
       "  'honey',\n",
       "  'salad',\n",
       "  'mineral water',\n",
       "  'salmon',\n",
       "  'antioxydant juice',\n",
       "  'frozen smoothie',\n",
       "  'spinach',\n",
       "  'olive oil'],\n",
       " ['burgers', 'meatballs', 'eggs'],\n",
       " ['chutney'],\n",
       " ['turkey', 'avocado'],\n",
       " ['mineral water', 'milk', 'energy bar', 'whole wheat rice', 'green tea'],\n",
       " ['low fat yogurt'],\n",
       " ['whole wheat pasta', 'french fries'],\n",
       " ['soup', 'light cream', 'shallot'],\n",
       " ['frozen vegetables', 'spaghetti', 'green tea'],\n",
       " ['french fries'],\n",
       " ['eggs', 'pet food'],\n",
       " ['cookies'],\n",
       " ['turkey', 'burgers', 'mineral water', 'eggs', 'cooking oil'],\n",
       " ['spaghetti', 'champagne', 'cookies'],\n",
       " ['mineral water', 'salmon'],\n",
       " ['mineral water'],\n",
       " ['shrimp',\n",
       "  'chocolate',\n",
       "  'chicken',\n",
       "  'honey',\n",
       "  'oil',\n",
       "  'cooking oil',\n",
       "  'low fat yogurt'],\n",
       " ['turkey', 'eggs'],\n",
       " ['turkey',\n",
       "  'fresh tuna',\n",
       "  'tomatoes',\n",
       "  'spaghetti',\n",
       "  'mineral water',\n",
       "  'black tea',\n",
       "  'salmon',\n",
       "  'eggs',\n",
       "  'chicken',\n",
       "  'extra dark chocolate'],\n",
       " ['meatballs', 'milk', 'honey', 'french fries', 'protein bar'],\n",
       " ['red wine', 'shrimp', 'pasta', 'pepper', 'eggs', 'chocolate', 'shampoo'],\n",
       " ['rice', 'sparkling water'],\n",
       " ['spaghetti', 'mineral water', 'ham', 'body spray', 'pancakes', 'green tea'],\n",
       " ['burgers',\n",
       "  'grated cheese',\n",
       "  'shrimp',\n",
       "  'pasta',\n",
       "  'avocado',\n",
       "  'honey',\n",
       "  'white wine',\n",
       "  'toothpaste'],\n",
       " ['eggs'],\n",
       " ['parmesan cheese', 'spaghetti', 'soup', 'avocado', 'milk', 'fresh bread'],\n",
       " ['ground beef',\n",
       "  'spaghetti',\n",
       "  'mineral water',\n",
       "  'milk',\n",
       "  'energy bar',\n",
       "  'black tea',\n",
       "  'salmon',\n",
       "  'frozen smoothie',\n",
       "  'escalope'],\n",
       " ['sparkling water'],\n",
       " ['mineral water', 'eggs', 'chicken', 'chocolate', 'french fries'],\n",
       " ['frozen vegetables', 'spaghetti', 'yams', 'mineral water'],\n",
       " ['herb & pepper', 'tomato sauce', 'light cream', 'magazines'],\n",
       " ['mineral water', 'chocolate', 'avocado', 'eggs'],\n",
       " ['turkey', 'french fries', 'strawberries'],\n",
       " ['frozen vegetables', 'strong cheese', 'chocolate'],\n",
       " ['cookies'],\n",
       " ['pickles', 'spaghetti', 'salmon', 'escalope'],\n",
       " ['energy bar', 'french fries'],\n",
       " ['red wine', 'ground beef', 'mineral water'],\n",
       " ['mineral water', 'cake', 'cottage cheese'],\n",
       " ['pickles', 'champagne', 'green tea'],\n",
       " ['spaghetti'],\n",
       " ['fresh tuna',\n",
       "  'frozen vegetables',\n",
       "  'spaghetti',\n",
       "  'mineral water',\n",
       "  'honey',\n",
       "  'whole wheat rice',\n",
       "  'frozen smoothie',\n",
       "  'escalope'],\n",
       " ['spaghetti'],\n",
       " ['soup', 'meatballs', 'hot dogs', 'sparkling water'],\n",
       " ['escalope'],\n",
       " ['soup',\n",
       "  'avocado',\n",
       "  'french fries',\n",
       "  'hot dogs',\n",
       "  'brownies',\n",
       "  'body spray',\n",
       "  'pancakes',\n",
       "  'green tea'],\n",
       " ['mineral water', 'chicken', 'cereals', 'clothes accessories'],\n",
       " ['mineral water', 'bug spray'],\n",
       " ['avocado', 'muffins'],\n",
       " ['burgers', 'black tea', 'green tea'],\n",
       " ['spaghetti', 'chocolate', 'brownies', 'white wine', 'green tea'],\n",
       " ['fresh tuna', 'mineral water', 'eggs'],\n",
       " ['spaghetti', 'muffins'],\n",
       " ['spaghetti', 'chocolate'],\n",
       " ['french fries', 'escalope', 'champagne'],\n",
       " ['tomato sauce', 'light mayo'],\n",
       " ['turkey',\n",
       "  'fresh tuna',\n",
       "  'frozen vegetables',\n",
       "  'tomatoes',\n",
       "  'ground beef',\n",
       "  'spaghetti',\n",
       "  'mineral water',\n",
       "  'chocolate',\n",
       "  'soup',\n",
       "  'milk',\n",
       "  'olive oil'],\n",
       " ['eggs', 'cookies'],\n",
       " ['soup',\n",
       "  'chicken',\n",
       "  'gums',\n",
       "  'soda',\n",
       "  'body spray',\n",
       "  'energy drink',\n",
       "  'green tea'],\n",
       " ['turkey',\n",
       "  'frozen vegetables',\n",
       "  'mineral water',\n",
       "  'cider',\n",
       "  'cooking oil',\n",
       "  'green tea'],\n",
       " ['spaghetti'],\n",
       " ['clothes accessories'],\n",
       " ['energy drink'],\n",
       " ['soup', 'bug spray', 'shallot', 'protein bar', 'green tea'],\n",
       " ['turkey', 'eggs'],\n",
       " ['french fries'],\n",
       " ['chocolate', 'milk'],\n",
       " ['herb & pepper',\n",
       "  'whole wheat pasta',\n",
       "  'ground beef',\n",
       "  'mineral water',\n",
       "  'avocado',\n",
       "  'cider',\n",
       "  'whole wheat rice'],\n",
       " ['cookies'],\n",
       " ['shrimp', 'pasta'],\n",
       " ['grated cheese', 'herb & pepper', 'tomatoes', 'tomato sauce', 'corn'],\n",
       " ['burgers', 'escalope', 'shallot'],\n",
       " ['cookies'],\n",
       " ['yogurt cake'],\n",
       " ['soup', 'eggs'],\n",
       " ['cookies'],\n",
       " ['mineral water', 'chocolate', 'low fat yogurt'],\n",
       " ['eggs', 'strawberries'],\n",
       " ['grated cheese', 'ground beef', 'spaghetti', 'mineral water', 'white wine'],\n",
       " ['mint'],\n",
       " ['eggs', 'cake', 'french fries'],\n",
       " ['burgers', 'spaghetti', 'milk', 'french fries', 'green tea'],\n",
       " ['mineral water', 'energy bar', 'butter', 'french fries'],\n",
       " ['burgers',\n",
       "  'grated cheese',\n",
       "  'herb & pepper',\n",
       "  'mineral water',\n",
       "  'eggs',\n",
       "  'cooking oil'],\n",
       " ['energy bar'],\n",
       " ['energy bar', 'energy drink'],\n",
       " ['chocolate', 'frozen smoothie'],\n",
       " ['low fat yogurt'],\n",
       " ['asparagus', 'salad'],\n",
       " ['burgers', 'french fries', 'low fat yogurt', 'green tea'],\n",
       " ['low fat yogurt'],\n",
       " ['burgers',\n",
       "  'herb & pepper',\n",
       "  'shrimp',\n",
       "  'pasta',\n",
       "  'spaghetti',\n",
       "  'mineral water',\n",
       "  'meatballs',\n",
       "  'olive oil',\n",
       "  'energy bar',\n",
       "  'french wine',\n",
       "  'eggs',\n",
       "  'salt'],\n",
       " ['champagne', 'low fat yogurt'],\n",
       " ['champagne'],\n",
       " ['burgers', 'almonds', 'eggs', 'french fries', 'cookies', 'green tea'],\n",
       " ['ham', 'soup', 'escalope', 'body spray'],\n",
       " ['turkey',\n",
       "  'ham',\n",
       "  'frozen vegetables',\n",
       "  'pepper',\n",
       "  'oil',\n",
       "  'extra dark chocolate',\n",
       "  'tea',\n",
       "  'magazines'],\n",
       " ['muffins', 'eggs', 'cookies'],\n",
       " ['cookies'],\n",
       " ['frozen vegetables',\n",
       "  'whole wheat pasta',\n",
       "  'ground beef',\n",
       "  'spaghetti',\n",
       "  'chocolate',\n",
       "  'green tea'],\n",
       " ['mineral water', 'barbecue sauce', 'chocolate'],\n",
       " ['burgers',\n",
       "  'herb & pepper',\n",
       "  'energy bar',\n",
       "  'almonds',\n",
       "  'eggs',\n",
       "  'corn',\n",
       "  'mayonnaise',\n",
       "  'zucchini'],\n",
       " ['turkey',\n",
       "  'burgers',\n",
       "  'ground beef',\n",
       "  'chocolate',\n",
       "  'soup',\n",
       "  'almonds',\n",
       "  'eggs',\n",
       "  'hot dogs',\n",
       "  'cottage cheese'],\n",
       " ['ham', 'spaghetti', 'chocolate', 'eggs'],\n",
       " ['ground beef', 'energy bar', 'pet food', 'carrots', 'protein bar'],\n",
       " ['ground beef',\n",
       "  'tomato sauce',\n",
       "  'spaghetti',\n",
       "  'mineral water',\n",
       "  'almonds',\n",
       "  'eggs'],\n",
       " ['mineral water', 'olive oil', 'gums', 'cooking oil'],\n",
       " ['shrimp',\n",
       "  'pasta',\n",
       "  'mineral water',\n",
       "  'soup',\n",
       "  'avocado',\n",
       "  'milk',\n",
       "  'olive oil',\n",
       "  'green grapes',\n",
       "  'eggs',\n",
       "  'bug spray'],\n",
       " ['shrimp',\n",
       "  'pasta',\n",
       "  'soup',\n",
       "  'cake',\n",
       "  'cooking oil',\n",
       "  'chicken',\n",
       "  'light mayo',\n",
       "  'low fat yogurt'],\n",
       " ['spaghetti',\n",
       "  'mineral water',\n",
       "  'chocolate',\n",
       "  'french fries',\n",
       "  'champagne',\n",
       "  'escalope',\n",
       "  'mushroom cream sauce',\n",
       "  'fresh bread'],\n",
       " ['shrimp', 'pasta', 'mineral water', 'eggs'],\n",
       " ['burgers', 'oil', 'tomato juice', 'fresh bread'],\n",
       " ['french wine', 'eggs', 'chocolate', 'low fat yogurt'],\n",
       " ['chicken', 'eggs', 'french fries', 'pancakes'],\n",
       " ['turkey', 'herb & pepper', 'salmon', 'white wine', 'candy bars'],\n",
       " ['grated cheese',\n",
       "  'spaghetti',\n",
       "  'olive oil',\n",
       "  'eggs',\n",
       "  'french fries',\n",
       "  'green tea'],\n",
       " ['mineral water', 'energy bar'],\n",
       " ['eggs', 'french fries'],\n",
       " ['burgers',\n",
       "  'tomatoes',\n",
       "  'mineral water',\n",
       "  'soup',\n",
       "  'milk',\n",
       "  'almonds',\n",
       "  'eggs',\n",
       "  'chocolate',\n",
       "  'tomato juice'],\n",
       " ['muffins'],\n",
       " ['pasta'],\n",
       " ['tomatoes', 'spaghetti', 'frozen smoothie'],\n",
       " ['ground beef', 'spaghetti', 'milk'],\n",
       " ['french fries'],\n",
       " ['chocolate', 'milk'],\n",
       " ['burgers',\n",
       "  'shrimp',\n",
       "  'pasta',\n",
       "  'frozen vegetables',\n",
       "  'spaghetti',\n",
       "  'mineral water',\n",
       "  'milk',\n",
       "  'eggs',\n",
       "  'chocolate',\n",
       "  'french fries',\n",
       "  'pancakes',\n",
       "  'low fat yogurt'],\n",
       " ['ground beef', 'mineral water', 'antioxydant juice', 'protein bar'],\n",
       " ['grated cheese',\n",
       "  'whole wheat pasta',\n",
       "  'ground beef',\n",
       "  'spaghetti',\n",
       "  'cake',\n",
       "  'energy drink'],\n",
       " ['grated cheese'],\n",
       " ['pancakes'],\n",
       " ['frozen smoothie'],\n",
       " ['carrots', 'green tea'],\n",
       " ['chocolate'],\n",
       " ['turkey',\n",
       "  'burgers',\n",
       "  'chocolate',\n",
       "  'olive oil',\n",
       "  'eggs',\n",
       "  'cooking oil',\n",
       "  'corn'],\n",
       " ['frozen vegetables',\n",
       "  'tomatoes',\n",
       "  'pepper',\n",
       "  'spaghetti',\n",
       "  'mineral water',\n",
       "  'pancakes',\n",
       "  'chicken',\n",
       "  'chili',\n",
       "  'tea',\n",
       "  'french fries',\n",
       "  'tomato juice',\n",
       "  'fresh bread'],\n",
       " ['cookies'],\n",
       " ['ground beef'],\n",
       " ['turkey', 'eggs', 'chocolate', 'frozen smoothie', 'tomato juice'],\n",
       " ['frozen vegetables', 'cooking oil', 'mashed potato'],\n",
       " ['frozen vegetables',\n",
       "  'ground beef',\n",
       "  'tomato sauce',\n",
       "  'mineral water',\n",
       "  'meatballs',\n",
       "  'olive oil',\n",
       "  'light cream',\n",
       "  'tomato juice'],\n",
       " ['red wine',\n",
       "  'spaghetti',\n",
       "  'mineral water',\n",
       "  'soup',\n",
       "  'milk',\n",
       "  'eggs',\n",
       "  'cake',\n",
       "  'gums',\n",
       "  'cooking oil',\n",
       "  'chocolate',\n",
       "  'frozen smoothie'],\n",
       " ['chocolate',\n",
       "  'tomatoes',\n",
       "  'spaghetti',\n",
       "  'mineral water',\n",
       "  'avocado',\n",
       "  'milk',\n",
       "  'olive oil',\n",
       "  'eggs',\n",
       "  'rice',\n",
       "  'french fries',\n",
       "  'brownies'],\n",
       " ['chocolate',\n",
       "  'shrimp',\n",
       "  'pasta',\n",
       "  'frozen vegetables',\n",
       "  'ground beef',\n",
       "  'mineral water',\n",
       "  'nonfat milk',\n",
       "  'eggs'],\n",
       " ['turkey',\n",
       "  'shrimp',\n",
       "  'pasta',\n",
       "  'pepper',\n",
       "  'spaghetti',\n",
       "  'mineral water',\n",
       "  'eggs',\n",
       "  'chicken',\n",
       "  'french fries'],\n",
       " ['cookies'],\n",
       " ['turkey', 'tomatoes', 'cake'],\n",
       " ['yams',\n",
       "  'mineral water',\n",
       "  'soup',\n",
       "  'milk',\n",
       "  'pancakes',\n",
       "  'whole wheat rice',\n",
       "  'barbecue sauce',\n",
       "  'carrots',\n",
       "  'chocolate',\n",
       "  'champagne'],\n",
       " ['rice'],\n",
       " ['chocolate', 'milk'],\n",
       " ['shrimp', 'pasta', 'frozen vegetables', 'water spray'],\n",
       " ['burgers', 'mineral water', 'milk', 'eggs', 'whole wheat rice', 'mint'],\n",
       " ['mineral water', 'vegetables mix', 'cake', 'frozen smoothie', 'brownies'],\n",
       " ['cookies'],\n",
       " ['shrimp', 'pasta', 'chicken', 'chocolate bread'],\n",
       " ['shallot'],\n",
       " ['shrimp', 'pasta', 'spaghetti', 'eggs', 'hot dogs', 'green tea'],\n",
       " ['burgers'],\n",
       " ['red wine',\n",
       "  'ground beef',\n",
       "  'spaghetti',\n",
       "  'mineral water',\n",
       "  'milk',\n",
       "  'olive oil',\n",
       "  'strong cheese',\n",
       "  'light cream',\n",
       "  'cooking oil'],\n",
       " ['burgers',\n",
       "  'grated cheese',\n",
       "  'spaghetti',\n",
       "  'avocado',\n",
       "  'milk',\n",
       "  'oil',\n",
       "  'french fries'],\n",
       " ['herb & pepper',\n",
       "  'whole wheat pasta',\n",
       "  'ground beef',\n",
       "  'mineral water',\n",
       "  'olive oil'],\n",
       " ['shrimp', 'pasta', 'yams', 'milk', 'chocolate'],\n",
       " ['butter', 'green tea'],\n",
       " ['light mayo'],\n",
       " ['low fat yogurt'],\n",
       " ['herb & pepper', 'shrimp', 'pasta', 'spaghetti', 'milk'],\n",
       " ['burgers', 'eggs'],\n",
       " ['turkey',\n",
       "  'herb & pepper',\n",
       "  'ground beef',\n",
       "  'soup',\n",
       "  'avocado',\n",
       "  'milk',\n",
       "  'black tea',\n",
       "  'eggs',\n",
       "  'barbecue sauce',\n",
       "  'carrots',\n",
       "  'cookies',\n",
       "  'tomato juice',\n",
       "  'fresh bread'],\n",
       " ['cookies'],\n",
       " ['escalope'],\n",
       " ['pepper', 'french fries', 'strawberries', 'pancakes', 'low fat yogurt'],\n",
       " ['frozen vegetables', 'yams', 'chicken', 'honey', 'light mayo'],\n",
       " ['chocolate', 'champagne'],\n",
       " ['herb & pepper', 'honey', 'cake', 'rice', 'protein bar'],\n",
       " ['burgers',\n",
       "  'chocolate',\n",
       "  'frozen vegetables',\n",
       "  'ground beef',\n",
       "  'mineral water',\n",
       "  'milk',\n",
       "  'light mayo',\n",
       "  'asparagus'],\n",
       " ['chocolate', 'mineral water', 'corn', 'cottage cheese', 'green tea'],\n",
       " ['muffins'],\n",
       " ['ham', 'french wine', 'escalope'],\n",
       " ['spaghetti', 'milk', 'whole wheat rice', 'mint green tea'],\n",
       " ['chocolate', 'body spray'],\n",
       " ['frozen vegetables', 'french fries', 'hot dogs'],\n",
       " ['candy bars'],\n",
       " ['burgers',\n",
       "  'shrimp',\n",
       "  'pasta',\n",
       "  'milk',\n",
       "  'green tea',\n",
       "  'french fries',\n",
       "  'cookies',\n",
       "  'white wine'],\n",
       " ['parmesan cheese', 'ground beef'],\n",
       " ['pancakes', 'whole wheat rice', 'candy bars'],\n",
       " ['eggs', 'eggplant', 'cookies'],\n",
       " ['frozen vegetables', 'mineral water'],\n",
       " ['chocolate'],\n",
       " ['turkey', 'spaghetti', 'milk', 'whole wheat rice', 'chocolate'],\n",
       " ['whole wheat pasta',\n",
       "  'ground beef',\n",
       "  'spaghetti',\n",
       "  'soup',\n",
       "  'meatballs',\n",
       "  'chicken',\n",
       "  'blueberries',\n",
       "  'cooking oil',\n",
       "  'champagne',\n",
       "  'yogurt cake',\n",
       "  'protein bar'],\n",
       " ['cooking oil', 'tomato juice'],\n",
       " ['frozen vegetables', 'milk', 'eggs', 'french fries', 'green tea'],\n",
       " ['fresh tuna',\n",
       "  'spaghetti',\n",
       "  'olive oil',\n",
       "  'french wine',\n",
       "  'eggs',\n",
       "  'french fries',\n",
       "  'champagne',\n",
       "  'pancakes',\n",
       "  'light mayo'],\n",
       " ['red wine', 'honey', 'hot dogs'],\n",
       " ['milk', 'bacon', 'eggs', 'french fries', 'fresh bread'],\n",
       " ['french fries', 'yogurt cake'],\n",
       " ['milk'],\n",
       " ['french fries'],\n",
       " ['chocolate'],\n",
       " ['burgers', 'ham', 'red wine'],\n",
       " ['shrimp',\n",
       "  'pasta',\n",
       "  'tomatoes',\n",
       "  'energy bar',\n",
       "  'french wine',\n",
       "  'antioxydant juice',\n",
       "  'french fries',\n",
       "  'frozen smoothie',\n",
       "  'brownies'],\n",
       " ['green tea'],\n",
       " ['low fat yogurt'],\n",
       " ['turkey',\n",
       "  'spaghetti',\n",
       "  'mineral water',\n",
       "  'soup',\n",
       "  'spinach',\n",
       "  'soda',\n",
       "  'energy drink',\n",
       "  'salt'],\n",
       " ['turkey', 'eggs'],\n",
       " ['bug spray', 'hot dogs'],\n",
       " ['oil'],\n",
       " ['soup',\n",
       "  'energy bar',\n",
       "  'chicken',\n",
       "  'eggs',\n",
       "  'cake',\n",
       "  'french fries',\n",
       "  'body spray',\n",
       "  'strawberries'],\n",
       " ['spaghetti', 'chocolate', 'yogurt cake'],\n",
       " ['turkey', 'mineral water', 'meatballs'],\n",
       " ['ground beef',\n",
       "  'mineral water',\n",
       "  'chocolate',\n",
       "  'fromage blanc',\n",
       "  'bacon',\n",
       "  'hot dogs'],\n",
       " ['frozen vegetables', 'mineral water', 'vegetables mix', 'escalope'],\n",
       " ['herb & pepper', 'red wine', 'tomatoes'],\n",
       " ['whole wheat pasta', 'olive oil', 'cereals', 'brownies', 'green tea'],\n",
       " ['cookies'],\n",
       " ['olive oil', 'cookies', 'mushroom cream sauce'],\n",
       " ['ground beef', 'pancakes', 'cooking oil', 'gluten free bar', 'light mayo'],\n",
       " ['mineral water', 'french fries'],\n",
       " ['herb & pepper'],\n",
       " ['salmon'],\n",
       " ['eggs', 'escalope'],\n",
       " ['mineral water', 'tomato juice'],\n",
       " ['mineral water'],\n",
       " ['shrimp', 'mineral water', 'soup', 'black tea'],\n",
       " ['cake', 'frozen smoothie'],\n",
       " ['turkey',\n",
       "  'burgers',\n",
       "  'grated cheese',\n",
       "  'tomatoes',\n",
       "  'chocolate',\n",
       "  'fromage blanc',\n",
       "  'honey',\n",
       "  'whole wheat rice'],\n",
       " ['frozen vegetables',\n",
       "  'ground beef',\n",
       "  'mineral water',\n",
       "  'olive oil',\n",
       "  'pancakes'],\n",
       " ['turkey',\n",
       "  'burgers',\n",
       "  'ground beef',\n",
       "  'milk',\n",
       "  'olive oil',\n",
       "  'cake',\n",
       "  'fresh bread'],\n",
       " ['whole wheat pasta',\n",
       "  'ground beef',\n",
       "  'spaghetti',\n",
       "  'yams',\n",
       "  'mineral water',\n",
       "  'soup',\n",
       "  'chutney',\n",
       "  'cereals',\n",
       "  'energy drink',\n",
       "  'protein bar'],\n",
       " ['eggs', 'whole wheat rice', 'cake', 'green tea', 'escalope'],\n",
       " ['ground beef', 'yams', 'soup', 'avocado', 'salmon', 'green tea'],\n",
       " ['milk'],\n",
       " ['spaghetti', 'chocolate'],\n",
       " ['whole wheat pasta', 'honey'],\n",
       " ['whole wheat pasta', 'green tea'],\n",
       " ['spaghetti', 'meatballs', 'vegetables mix', 'chocolate'],\n",
       " ['eggs', 'low fat yogurt'],\n",
       " ['fresh tuna',\n",
       "  'shrimp',\n",
       "  'pasta',\n",
       "  'mineral water',\n",
       "  'olive oil',\n",
       "  'eggs',\n",
       "  'cake',\n",
       "  'brownies',\n",
       "  'tomato juice'],\n",
       " ['mineral water', 'green grapes', 'hot dogs', 'fresh bread'],\n",
       " ['frozen vegetables', 'meatballs', 'eggs', 'chocolate'],\n",
       " ['chocolate'],\n",
       " ['meatballs', 'milk'],\n",
       " ['low fat yogurt'],\n",
       " ['green tea'],\n",
       " ['escalope', 'pasta'],\n",
       " ['pepper',\n",
       "  'chocolate',\n",
       "  'olive oil',\n",
       "  'french wine',\n",
       "  'salmon',\n",
       "  'rice',\n",
       "  'light mayo',\n",
       "  'fresh bread',\n",
       "  'magazines'],\n",
       " ['red wine',\n",
       "  'french wine',\n",
       "  'vegetables mix',\n",
       "  'rice',\n",
       "  'clothes accessories',\n",
       "  'hot dogs',\n",
       "  'green tea'],\n",
       " ['burgers',\n",
       "  'dessert wine',\n",
       "  'spaghetti',\n",
       "  'chicken',\n",
       "  'cake',\n",
       "  'protein bar',\n",
       "  'green tea'],\n",
       " ['french wine', 'cake', 'fresh bread'],\n",
       " ['burgers', 'frozen vegetables', 'flax seed', 'eggs'],\n",
       " ['red wine'],\n",
       " ['pepper', 'mineral water', 'energy bar', 'green grapes'],\n",
       " ['milk', 'eggs', 'cake', 'chocolate', 'french fries', 'green tea'],\n",
       " ['french fries'],\n",
       " ['almonds'],\n",
       " ['burgers', 'mineral water', 'green tea'],\n",
       " ['milk', 'pancakes'],\n",
       " ['pancakes', 'eggs', 'salt', 'tomato juice'],\n",
       " ['mineral water'],\n",
       " ['ham', 'spaghetti', 'mineral water', 'olive oil'],\n",
       " ['salt', 'tomato juice', 'fresh bread'],\n",
       " ['spaghetti', 'mushroom cream sauce'],\n",
       " ['spaghetti', 'mineral water', 'eggs', 'pet food'],\n",
       " ['frozen vegetables', 'spaghetti'],\n",
       " ['energy drink'],\n",
       " ['muffins'],\n",
       " ['turkey', 'milk'],\n",
       " ['cookies'],\n",
       " ['chocolate'],\n",
       " ['spaghetti',\n",
       "  'mineral water',\n",
       "  'eggs',\n",
       "  'cooking oil',\n",
       "  'chocolate',\n",
       "  'escalope'],\n",
       " ['shrimp', 'frozen vegetables', 'pepper', 'spaghetti', 'green tea'],\n",
       " ['burgers',\n",
       "  'fresh tuna',\n",
       "  'red wine',\n",
       "  'mineral water',\n",
       "  'french fries',\n",
       "  'hand protein bar',\n",
       "  'low fat yogurt'],\n",
       " ['pancakes', 'eggs', 'energy drink', 'fresh bread'],\n",
       " ['strong cheese',\n",
       "  'salmon',\n",
       "  'green tea',\n",
       "  'french fries',\n",
       "  'frozen smoothie',\n",
       "  'hot dogs'],\n",
       " ['grated cheese',\n",
       "  'shrimp',\n",
       "  'pasta',\n",
       "  'tomatoes',\n",
       "  'milk',\n",
       "  'frozen smoothie',\n",
       "  'sandwich'],\n",
       " ['herb & pepper', 'whole wheat pasta', 'olive oil', 'pancakes', 'eggs'],\n",
       " ['spaghetti', 'antioxydant juice'],\n",
       " ['chocolate', 'milk', 'almonds', 'eggs', 'strawberries', 'white wine'],\n",
       " ['french fries', 'strawberries'],\n",
       " ['mineral water'],\n",
       " ['eggs'],\n",
       " ['escalope'],\n",
       " ['cake'],\n",
       " ['whole wheat pasta', 'antioxydant juice', 'body spray', 'green tea'],\n",
       " ['mineral water', 'oil', 'frozen smoothie'],\n",
       " ['french fries', 'champagne'],\n",
       " ['chocolate', 'french fries'],\n",
       " ['frozen vegetables', 'spaghetti', 'eggs'],\n",
       " ['hot dogs'],\n",
       " ['chocolate', 'cookies'],\n",
       " ['pancakes'],\n",
       " ['shrimp', 'butter', 'chicken', 'salmon'],\n",
       " ['chocolate', 'cookies', 'babies food'],\n",
       " ['pepper', 'spaghetti', 'cake', 'chocolate', 'french fries', 'fresh bread'],\n",
       " ['avocado', 'oil', 'cereals', 'french fries'],\n",
       " ['herb & pepper',\n",
       "  'spaghetti',\n",
       "  'mineral water',\n",
       "  'spinach',\n",
       "  'eggs',\n",
       "  'oil',\n",
       "  'cooking oil',\n",
       "  'green tea',\n",
       "  'shampoo',\n",
       "  'tomato juice',\n",
       "  'low fat yogurt'],\n",
       " ['herb & pepper',\n",
       "  'frozen vegetables',\n",
       "  'ground beef',\n",
       "  'pepper',\n",
       "  'spaghetti',\n",
       "  'mint green tea',\n",
       "  'french fries'],\n",
       " ['french fries'],\n",
       " ['green tea', 'tomato juice'],\n",
       " ['eggs', 'whole wheat rice', 'chocolate'],\n",
       " ['grated cheese',\n",
       "  'herb & pepper',\n",
       "  'red wine',\n",
       "  'spaghetti',\n",
       "  'mineral water',\n",
       "  'salmon',\n",
       "  'eggs',\n",
       "  'cooking oil',\n",
       "  'green tea'],\n",
       " ['french fries',\n",
       "  'cookies',\n",
       "  'shallot',\n",
       "  'tomato juice',\n",
       "  'fresh bread',\n",
       "  'low fat yogurt'],\n",
       " ['burgers', 'fresh tuna', 'spaghetti', 'muffins', 'honey'],\n",
       " ['herb & pepper', 'ground beef', 'spaghetti', 'eggs', 'chicken'],\n",
       " ['grated cheese', 'muffins', 'tomato juice', 'mayonnaise'],\n",
       " ['whole wheat pasta',\n",
       "  'yams',\n",
       "  'mineral water',\n",
       "  'muffins',\n",
       "  'frozen smoothie',\n",
       "  'hot dogs',\n",
       "  'energy drink'],\n",
       " ['burgers',\n",
       "  'spaghetti',\n",
       "  'soup',\n",
       "  'milk',\n",
       "  'olive oil',\n",
       "  'salmon',\n",
       "  'eggs',\n",
       "  'blueberries'],\n",
       " ['chocolate', 'champagne', 'magazines'],\n",
       " ['frozen vegetables',\n",
       "  'spaghetti',\n",
       "  'yams',\n",
       "  'mineral water',\n",
       "  'french wine',\n",
       "  'green grapes',\n",
       "  'rice',\n",
       "  'chocolate'],\n",
       " ['tomato sauce', 'chocolate'],\n",
       " ['milk', 'eggs'],\n",
       " ['pet food'],\n",
       " ['yogurt cake'],\n",
       " ['green tea'],\n",
       " ['escalope', 'pasta'],\n",
       " ['herb & pepper', 'ground beef'],\n",
       " ['mineral water', 'honey', 'brownies'],\n",
       " ['turkey', 'eggs', 'cake', 'energy drink'],\n",
       " ['turkey',\n",
       "  'burgers',\n",
       "  'dessert wine',\n",
       "  'ground beef',\n",
       "  'soup',\n",
       "  'salmon',\n",
       "  'eggs',\n",
       "  'gums',\n",
       "  'tomato juice',\n",
       "  'candy bars'],\n",
       " ['spaghetti', 'mineral water', 'chicken'],\n",
       " ['turkey', 'ground beef', 'carrots', 'french fries', 'melons'],\n",
       " ['mineral water', 'eggs', 'low fat yogurt'],\n",
       " ['turkey', 'cooking oil', 'shampoo'],\n",
       " ['spaghetti', 'hot dogs'],\n",
       " ['chocolate', 'green tea'],\n",
       " ['grated cheese',\n",
       "  'pepper',\n",
       "  'mineral water',\n",
       "  'chocolate',\n",
       "  'eggs',\n",
       "  'cake',\n",
       "  'mashed potato',\n",
       "  'tomato juice'],\n",
       " ['chocolate'],\n",
       " ['spaghetti', 'olive oil', 'strong cheese', 'pancakes'],\n",
       " ['red wine', 'mineral water', 'soup', 'rice', 'cookies'],\n",
       " ['red wine', 'shrimp', 'spaghetti'],\n",
       " ['green tea'],\n",
       " ['mineral water', 'chicken', 'french fries', 'frozen smoothie'],\n",
       " ['muffins'],\n",
       " ['cake', 'chocolate'],\n",
       " ['fresh tuna',\n",
       "  'tomatoes',\n",
       "  'mineral water',\n",
       "  'soup',\n",
       "  'avocado',\n",
       "  'meatballs',\n",
       "  'olive oil'],\n",
       " ['turkey', 'french fries'],\n",
       " ['burgers',\n",
       "  'turkey',\n",
       "  'herb & pepper',\n",
       "  'ground beef',\n",
       "  'pancakes',\n",
       "  'eggs',\n",
       "  'light cream',\n",
       "  'rice',\n",
       "  'champagne',\n",
       "  'fresh bread'],\n",
       " ['escalope'],\n",
       " ['chocolate', 'escalope', 'fresh bread'],\n",
       " ['ham',\n",
       "  'spaghetti',\n",
       "  'french wine',\n",
       "  'vegetables mix',\n",
       "  'chocolate',\n",
       "  'french fries'],\n",
       " ['avocado', 'light mayo'],\n",
       " ['spaghetti', 'yams', 'butter', 'chocolate'],\n",
       " ['energy bar', 'eggs', 'french fries'],\n",
       " ['fresh tuna', 'barbecue sauce', 'eggplant'],\n",
       " ['energy drink'],\n",
       " ['whole wheat rice', 'french fries', 'hot dogs', 'green tea'],\n",
       " ['mineral water', 'chicken', 'green tea'],\n",
       " ['eggs', 'cake', 'mushroom cream sauce'],\n",
       " ['escalope'],\n",
       " ['antioxydant juice', 'escalope'],\n",
       " ['shrimp', 'spaghetti', 'french fries'],\n",
       " ['grated cheese', 'spaghetti', 'salmon', 'tomato juice'],\n",
       " ['spaghetti', 'green tea'],\n",
       " ['champagne', 'protein bar'],\n",
       " ['mineral water', 'avocado', 'chocolate'],\n",
       " ['tomatoes', 'champagne', 'green tea'],\n",
       " ['chicken', 'french fries', 'escalope'],\n",
       " ['frozen vegetables',\n",
       "  'tomatoes',\n",
       "  'eggs',\n",
       "  'green tea',\n",
       "  'frozen smoothie',\n",
       "  'light mayo'],\n",
       " ['ground beef',\n",
       "  'chicken',\n",
       "  'cider',\n",
       "  'green grapes',\n",
       "  'honey',\n",
       "  'chocolate',\n",
       "  'french fries',\n",
       "  'champagne',\n",
       "  'frozen smoothie',\n",
       "  'escalope'],\n",
       " ['french fries', 'champagne'],\n",
       " ['mineral water', 'soup'],\n",
       " ['frozen vegetables', 'spaghetti', 'milk', 'chocolate', 'babies food'],\n",
       " ['honey', 'whole wheat rice'],\n",
       " ['whole wheat rice', 'chicken', 'tomato juice'],\n",
       " ['pancakes'],\n",
       " ['green tea', 'protein bar', 'tomato juice', 'candy bars'],\n",
       " ['french fries'],\n",
       " ['mineral water'],\n",
       " ['escalope'],\n",
       " ['grated cheese',\n",
       "  'herb & pepper',\n",
       "  'whole wheat pasta',\n",
       "  'yams',\n",
       "  'mineral water',\n",
       "  'bacon',\n",
       "  'nonfat milk',\n",
       "  'spinach'],\n",
       " ['spaghetti', 'milk'],\n",
       " ['milk', 'chocolate', 'white wine'],\n",
       " ['sandwich'],\n",
       " ['chocolate', 'light mayo'],\n",
       " ['shrimp',\n",
       "  'whole wheat pasta',\n",
       "  'spaghetti',\n",
       "  'meatballs',\n",
       "  'chicken',\n",
       "  'frozen smoothie',\n",
       "  'tomato juice'],\n",
       " ['red wine', 'ground beef', 'spaghetti', 'mineral water', 'eggs'],\n",
       " ['yams', 'melons'],\n",
       " ['spaghetti', 'cooking oil'],\n",
       " ['french fries'],\n",
       " ['mineral water',\n",
       "  'milk',\n",
       "  'spinach',\n",
       "  'cooking oil',\n",
       "  'chocolate',\n",
       "  'frozen smoothie',\n",
       "  'hot dogs'],\n",
       " ['tomato sauce', 'milk'],\n",
       " ['shrimp', 'cider', 'eggs', 'french fries'],\n",
       " ['champagne'],\n",
       " ['salad'],\n",
       " ['french fries'],\n",
       " ['frozen vegetables',\n",
       "  'mineral water',\n",
       "  'energy bar',\n",
       "  'honey',\n",
       "  'rice',\n",
       "  'green tea'],\n",
       " ['french fries', 'salad'],\n",
       " ['honey', 'chocolate', 'french fries', 'brownies'],\n",
       " ['green tea', 'strawberries', 'gluten free bar'],\n",
       " ['frozen vegetables',\n",
       "  'ground beef',\n",
       "  'mineral water',\n",
       "  'salmon',\n",
       "  'honey',\n",
       "  'extra dark chocolate',\n",
       "  'green tea',\n",
       "  'mushroom cream sauce',\n",
       "  'gluten free bar'],\n",
       " ['grated cheese', 'tomatoes', 'mineral water', 'meatballs'],\n",
       " ['shrimp', 'chocolate', 'water spray'],\n",
       " ['turkey'],\n",
       " ['turkey', 'eggs'],\n",
       " ['turkey',\n",
       "  'frozen vegetables',\n",
       "  'tomatoes',\n",
       "  'soup',\n",
       "  'butter',\n",
       "  'french wine',\n",
       "  'pancakes',\n",
       "  'eggs',\n",
       "  'tomato juice',\n",
       "  'fresh bread',\n",
       "  'green tea'],\n",
       " ['spaghetti'],\n",
       " ['milk', 'frozen smoothie', 'low fat yogurt'],\n",
       " ['burgers',\n",
       "  'mineral water',\n",
       "  'milk',\n",
       "  'whole wheat rice',\n",
       "  'cereals',\n",
       "  'chocolate',\n",
       "  'french fries'],\n",
       " ['mineral water'],\n",
       " ['tomatoes', 'mineral water', 'soup', 'cake', 'chocolate'],\n",
       " ['mineral water'],\n",
       " ['ground beef', 'spaghetti'],\n",
       " ['pepper', 'frozen smoothie'],\n",
       " ['yogurt cake'],\n",
       " ['red wine', 'pancakes'],\n",
       " ['candy bars'],\n",
       " ['eggs', 'french fries', 'low fat yogurt'],\n",
       " ['cookies'],\n",
       " ['cookies'],\n",
       " ['spaghetti',\n",
       "  'soup',\n",
       "  'vegetables mix',\n",
       "  'spinach',\n",
       "  'french fries',\n",
       "  'escalope',\n",
       "  'cauliflower',\n",
       "  'toothpaste'],\n",
       " ['cookies'],\n",
       " ['soup', 'olive oil', 'eggs', 'soda', 'corn'],\n",
       " ['chocolate', 'frozen smoothie', 'low fat yogurt'],\n",
       " ['spaghetti',\n",
       "  'mineral water',\n",
       "  'milk',\n",
       "  'pancakes',\n",
       "  'chocolate',\n",
       "  'french fries'],\n",
       " ['mineral water'],\n",
       " ['herb & pepper',\n",
       "  'frozen vegetables',\n",
       "  'tomato sauce',\n",
       "  'mineral water',\n",
       "  'soup',\n",
       "  'milk',\n",
       "  'olive oil',\n",
       "  'almonds'],\n",
       " ['burgers', 'eggs'],\n",
       " ['french fries'],\n",
       " ['frozen smoothie', 'cottage cheese'],\n",
       " ['tomatoes', 'mineral water', 'chocolate', 'light mayo'],\n",
       " ['salmon',\n",
       "  'escalope',\n",
       "  'shallot',\n",
       "  'strawberries',\n",
       "  'fresh bread',\n",
       "  'low fat yogurt'],\n",
       " ['energy bar'],\n",
       " ['red wine',\n",
       "  'ground beef',\n",
       "  'spaghetti',\n",
       "  'pancakes',\n",
       "  'blueberries',\n",
       "  'oil',\n",
       "  'cooking oil',\n",
       "  'tomato juice'],\n",
       " ['ground beef',\n",
       "  'spaghetti',\n",
       "  'mineral water',\n",
       "  'milk',\n",
       "  'frozen smoothie',\n",
       "  'champagne'],\n",
       " ['cookies'],\n",
       " ['salmon', 'escalope'],\n",
       " ['cookies'],\n",
       " ['low fat yogurt'],\n",
       " ['eggs'],\n",
       " ['red wine', 'butter', 'hot dogs'],\n",
       " ['tomatoes', 'mineral water', 'soup', 'mashed potato'],\n",
       " ['cookies'],\n",
       " ['parmesan cheese', 'ground beef', 'salmon', 'pancakes', 'champagne'],\n",
       " ['ground beef', 'yams', 'chocolate', 'olive oil', 'eggs'],\n",
       " ['shrimp', 'salmon', 'eggs', 'cookies', 'hot dogs'],\n",
       " ['magazines', 'mint'],\n",
       " ['turkey',\n",
       "  'mineral water',\n",
       "  'eggs',\n",
       "  'cooking oil',\n",
       "  'extra dark chocolate',\n",
       "  'escalope'],\n",
       " ['mineral water', 'mushroom cream sauce'],\n",
       " ['grated cheese',\n",
       "  'frozen vegetables',\n",
       "  'mineral water',\n",
       "  'soup',\n",
       "  'milk',\n",
       "  'french wine'],\n",
       " ['chocolate', 'cake'],\n",
       " ['burgers', 'salt', 'white wine'],\n",
       " ['energy drink'],\n",
       " ['olive oil', 'cake', 'energy drink'],\n",
       " ['ground beef', 'whole wheat rice'],\n",
       " ['eggs', 'french fries'],\n",
       " ['spaghetti', 'escalope', 'mushroom cream sauce'],\n",
       " ['mineral water',\n",
       "  'fromage blanc',\n",
       "  'whole wheat rice',\n",
       "  'cake',\n",
       "  'french fries'],\n",
       " ['turkey',\n",
       "  'burgers',\n",
       "  'frozen vegetables',\n",
       "  'ground beef',\n",
       "  'mineral water',\n",
       "  'milk',\n",
       "  'eggs',\n",
       "  'cake',\n",
       "  'light mayo'],\n",
       " ['green tea', 'cottage cheese'],\n",
       " ['fresh tuna', 'eggs', 'champagne'],\n",
       " ['cookies'],\n",
       " ['cookies'],\n",
       " ['cookies'],\n",
       " ['tomatoes', 'mineral water', 'eggplant'],\n",
       " ['grated cheese',\n",
       "  'tomatoes',\n",
       "  'spaghetti',\n",
       "  'mineral water',\n",
       "  'soup',\n",
       "  'honey',\n",
       "  'chicken',\n",
       "  'chocolate',\n",
       "  'french fries'],\n",
       " ['protein bar'],\n",
       " ['herb & pepper',\n",
       "  'red wine',\n",
       "  'shrimp',\n",
       "  'mineral water',\n",
       "  'barbecue sauce',\n",
       "  'protein bar'],\n",
       " ['burgers',\n",
       "  'ham',\n",
       "  'spaghetti',\n",
       "  'mineral water',\n",
       "  'milk',\n",
       "  'eggs',\n",
       "  'french fries',\n",
       "  'escalope',\n",
       "  'pancakes',\n",
       "  'low fat yogurt'],\n",
       " ['french fries'],\n",
       " ['frozen vegetables',\n",
       "  'soup',\n",
       "  'milk',\n",
       "  'eggs',\n",
       "  'whole wheat rice',\n",
       "  'chocolate',\n",
       "  'escalope',\n",
       "  'melons'],\n",
       " ['spaghetti'],\n",
       " ['herb & pepper',\n",
       "  'shrimp',\n",
       "  'soup',\n",
       "  'eggs',\n",
       "  'oil',\n",
       "  'cooking oil',\n",
       "  'energy drink',\n",
       "  'protein bar',\n",
       "  'low fat yogurt'],\n",
       " ['ham',\n",
       "  'grated cheese',\n",
       "  'herb & pepper',\n",
       "  'shrimp',\n",
       "  'ground beef',\n",
       "  'spaghetti',\n",
       "  'mineral water',\n",
       "  'carrots'],\n",
       " ['ham',\n",
       "  'red wine',\n",
       "  'ground beef',\n",
       "  'yams',\n",
       "  'mineral water',\n",
       "  'chocolate',\n",
       "  'low fat yogurt'],\n",
       " ['chocolate',\n",
       "  'french fries',\n",
       "  'mushroom cream sauce',\n",
       "  'cottage cheese',\n",
       "  'low fat yogurt'],\n",
       " ['eggs'],\n",
       " ['cake', 'cookies'],\n",
       " ['grated cheese', 'mineral water', 'cake', 'chocolate bread'],\n",
       " ['tomatoes', 'almonds', 'cake', 'champagne', 'low fat yogurt'],\n",
       " ['herb & pepper',\n",
       "  'shrimp',\n",
       "  'frozen vegetables',\n",
       "  'milk',\n",
       "  'butter',\n",
       "  'salmon',\n",
       "  'eggs',\n",
       "  'chocolate'],\n",
       " ['herb & pepper',\n",
       "  'shrimp',\n",
       "  'whole wheat pasta',\n",
       "  'whole wheat rice',\n",
       "  'chicken',\n",
       "  'green tea',\n",
       "  'cauliflower'],\n",
       " ['eggs', 'corn'],\n",
       " ['shrimp',\n",
       "  'frozen vegetables',\n",
       "  'tomato sauce',\n",
       "  'mineral water',\n",
       "  'chocolate',\n",
       "  'soup',\n",
       "  'olive oil',\n",
       "  'salmon',\n",
       "  'green beans',\n",
       "  'champagne'],\n",
       " ['ham',\n",
       "  'herb & pepper',\n",
       "  'tomato sauce',\n",
       "  'mineral water',\n",
       "  'green grapes',\n",
       "  'eggs',\n",
       "  'gums',\n",
       "  'light cream',\n",
       "  'oil',\n",
       "  'green tea',\n",
       "  'mint'],\n",
       " ['energy bar', 'cake', 'chocolate'],\n",
       " ['herb & pepper', 'shrimp', 'spaghetti', 'eggs'],\n",
       " ['fresh tuna', 'mineral water', 'honey', 'cooking oil'],\n",
       " ['red wine',\n",
       "  'mineral water',\n",
       "  'oil',\n",
       "  'ketchup',\n",
       "  'chili',\n",
       "  'pet food',\n",
       "  'eggplant',\n",
       "  'green tea',\n",
       "  'escalope',\n",
       "  'tomato juice',\n",
       "  'low fat yogurt'],\n",
       " ['herb & pepper',\n",
       "  'shrimp',\n",
       "  'mineral water',\n",
       "  'pancakes',\n",
       "  'eggs',\n",
       "  'cake',\n",
       "  'blueberries',\n",
       "  'tea',\n",
       "  'frozen smoothie'],\n",
       " ['ground beef', 'mineral water', 'protein bar'],\n",
       " ['shrimp',\n",
       "  'frozen vegetables',\n",
       "  'parmesan cheese',\n",
       "  'spaghetti',\n",
       "  'salmon',\n",
       "  'carrots',\n",
       "  'frozen smoothie',\n",
       "  'pasta',\n",
       "  'mashed potato',\n",
       "  'shallot',\n",
       "  'light mayo',\n",
       "  'magazines'],\n",
       " ['milk', 'chocolate'],\n",
       " ['frozen vegetables',\n",
       "  'ground beef',\n",
       "  'spaghetti',\n",
       "  'olive oil',\n",
       "  'whole wheat rice',\n",
       "  'eggplant',\n",
       "  'cottage cheese'],\n",
       " ['turkey', 'ground beef', 'low fat yogurt'],\n",
       " ['herb & pepper',\n",
       "  'spaghetti',\n",
       "  'mineral water',\n",
       "  'whole wheat rice',\n",
       "  'cake',\n",
       "  'hot dogs',\n",
       "  'green tea'],\n",
       " ['green tea'],\n",
       " ['cookies'],\n",
       " ['eggs', 'cookies'],\n",
       " ['spaghetti',\n",
       "  'eggs',\n",
       "  'ham',\n",
       "  'chocolate',\n",
       "  'french fries',\n",
       "  'champagne',\n",
       "  'brownies',\n",
       "  'pancakes',\n",
       "  'light mayo'],\n",
       " ['red wine', 'spaghetti', 'milk', 'eggs', 'chocolate'],\n",
       " ['turkey',\n",
       "  'burgers',\n",
       "  'pancakes',\n",
       "  'french fries',\n",
       "  'strawberries',\n",
       "  'green tea'],\n",
       " ['escalope'],\n",
       " ['frozen vegetables', 'pancakes', 'eggs', 'cake'],\n",
       " ['french fries'],\n",
       " ['turkey', 'ground beef', 'pepper', 'spaghetti', 'honey', 'cookies'],\n",
       " ['chocolate',\n",
       "  'red wine',\n",
       "  'tomato sauce',\n",
       "  'olive oil',\n",
       "  'chili',\n",
       "  'french fries',\n",
       "  'cookies',\n",
       "  'salt',\n",
       "  'fresh bread',\n",
       "  'magazines'],\n",
       " ['green tea', 'french fries'],\n",
       " ['mineral water'],\n",
       " ['cooking oil'],\n",
       " ['frozen vegetables', 'spaghetti'],\n",
       " ['ham', 'spaghetti'],\n",
       " ['chicken', 'chocolate', 'cookies'],\n",
       " ['low fat yogurt'],\n",
       " ['eggs', 'cake', 'low fat yogurt'],\n",
       " ['shrimp',\n",
       "  'spaghetti',\n",
       "  'mineral water',\n",
       "  'soup',\n",
       "  'milk',\n",
       "  'bramble',\n",
       "  'frozen smoothie',\n",
       "  'cottage cheese'],\n",
       " ['mineral water', 'eggs', 'protein bar'],\n",
       " ['turkey', 'shrimp', 'meatballs', 'butter', 'eggs', 'salad', 'green tea'],\n",
       " ['fresh tuna',\n",
       "  'spaghetti',\n",
       "  'chocolate',\n",
       "  'olive oil',\n",
       "  'chicken',\n",
       "  'french fries'],\n",
       " ['turkey', 'shrimp', 'escalope', 'hot dogs'],\n",
       " ['burgers', 'pepper', 'soup', 'milk', 'pancakes', 'green tea'],\n",
       " ['pancakes'],\n",
       " ['mineral water', 'pancakes', 'eggs', 'french fries'],\n",
       " ['eggs', 'escalope', 'low fat yogurt'],\n",
       " ['mineral water', 'french wine', 'gluten free bar'],\n",
       " ['burgers', 'ground beef', 'spaghetti', 'eggs', 'french fries'],\n",
       " ['soup', 'meatballs', 'milk', 'energy bar'],\n",
       " ['chocolate'],\n",
       " ['herb & pepper'],\n",
       " ['turkey', 'red wine', 'mineral water', 'eggs', 'bramble'],\n",
       " ['burgers',\n",
       "  'ham',\n",
       "  'frozen vegetables',\n",
       "  'tomatoes',\n",
       "  'cake',\n",
       "  'chicken',\n",
       "  'green tea',\n",
       "  'toothpaste',\n",
       "  'mint'],\n",
       " ['grated cheese', 'mineral water', 'olive oil', 'energy bar'],\n",
       " ['milk', 'cake', 'green tea'],\n",
       " ['mineral water',\n",
       "  'almonds',\n",
       "  'cooking oil',\n",
       "  'cereals',\n",
       "  'protein bar',\n",
       "  'white wine',\n",
       "  'green tea'],\n",
       " ['turkey',\n",
       "  'fresh tuna',\n",
       "  'mineral water',\n",
       "  'milk',\n",
       "  'eggs',\n",
       "  'cake',\n",
       "  'burger sauce',\n",
       "  'chicken',\n",
       "  'french fries',\n",
       "  'frozen smoothie',\n",
       "  'fresh bread'],\n",
       " ['herb & pepper',\n",
       "  'mineral water',\n",
       "  'whole wheat rice',\n",
       "  'yogurt cake',\n",
       "  'low fat yogurt'],\n",
       " ['tomatoes', 'spaghetti', 'meatballs', 'chicken', 'eggs'],\n",
       " ['burgers', 'mineral water', 'eggs', 'green tea', 'pancakes'],\n",
       " ['cake', 'green tea'],\n",
       " ['chocolate', 'herb & pepper', 'yogurt cake'],\n",
       " ['ground beef',\n",
       "  'spaghetti',\n",
       "  'mineral water',\n",
       "  'almonds',\n",
       "  'salmon',\n",
       "  'nonfat milk',\n",
       "  'green grapes',\n",
       "  'pancakes'],\n",
       " ['mineral water', 'vegetables mix', 'eggs'],\n",
       " ['protein bar'],\n",
       " ['eggs', 'eggplant'],\n",
       " ['mayonnaise'],\n",
       " ['milk', 'bug spray', 'oatmeal', 'sandwich', 'asparagus'],\n",
       " ['frozen vegetables', 'soup', 'almonds', 'eggs', 'french fries'],\n",
       " ['frozen vegetables'],\n",
       " ['soup', 'butter', 'shampoo'],\n",
       " ['herb & pepper', 'whole wheat pasta', 'pepper', 'eggs'],\n",
       " ['mineral water',\n",
       "  'whole wheat rice',\n",
       "  'rice',\n",
       "  'cooking oil',\n",
       "  'chocolate',\n",
       "  'fresh bread',\n",
       "  'low fat yogurt'],\n",
       " ['grated cheese', 'butter', 'chocolate', 'french fries', 'cookies'],\n",
       " ['spaghetti',\n",
       "  'soup',\n",
       "  'milk',\n",
       "  'chutney',\n",
       "  'cooking oil',\n",
       "  'asparagus',\n",
       "  'tomato juice'],\n",
       " ['eggs',\n",
       "  'french fries',\n",
       "  'frozen smoothie',\n",
       "  'cookies',\n",
       "  'champagne',\n",
       "  'cottage cheese',\n",
       "  'green tea'],\n",
       " ['turkey', 'tomatoes', 'mineral water', 'eggs', 'blueberries'],\n",
       " ['milk', 'tomato juice', 'low fat yogurt', 'green tea'],\n",
       " ['mineral water', 'soup', 'almonds', 'cereals', 'green tea'],\n",
       " ['chocolate', 'light mayo'],\n",
       " ['turkey', 'herb & pepper', 'chocolate'],\n",
       " ['eggs', 'french fries', 'green tea'],\n",
       " ['mineral water', 'cake', 'chocolate', 'tomato juice'],\n",
       " ['eggs'],\n",
       " ['chocolate',\n",
       "  'pepper',\n",
       "  'spaghetti',\n",
       "  'mineral water',\n",
       "  'whole wheat rice',\n",
       "  'champagne',\n",
       "  'mushroom cream sauce'],\n",
       " ['frozen vegetables', 'pepper', 'mineral water', 'chocolate', 'white wine'],\n",
       " ['burgers',\n",
       "  'turkey',\n",
       "  'spaghetti',\n",
       "  'milk',\n",
       "  'whole wheat rice',\n",
       "  'oil',\n",
       "  'tomato juice',\n",
       "  'green tea'],\n",
       " ['burgers',\n",
       "  'spaghetti',\n",
       "  'mineral water',\n",
       "  'soup',\n",
       "  'french wine',\n",
       "  'french fries',\n",
       "  'light mayo',\n",
       "  'low fat yogurt'],\n",
       " ['butter', 'green grapes', 'frozen smoothie', 'low fat yogurt'],\n",
       " ['eggs', 'low fat yogurt'],\n",
       " ['cookies'],\n",
       " ['milk', 'energy drink'],\n",
       " ['olive oil', 'energy drink'],\n",
       " ['eggs', 'cookies'],\n",
       " ['eggs'],\n",
       " ['energy bar', 'eggs'],\n",
       " ['eggs'],\n",
       " ['eggs', 'green tea'],\n",
       " ['escalope'],\n",
       " ['shrimp', 'soup', 'milk', 'almonds', 'eggs', 'oil', 'chocolate'],\n",
       " ['chocolate', 'french fries'],\n",
       " ['cake'],\n",
       " ['pancakes', 'eggs', 'cake', 'green tea', 'toothpaste'],\n",
       " ['herb & pepper', 'tomatoes', 'ground beef', 'eggs', 'cooking oil'],\n",
       " ['cider', 'eggs', 'chocolate', 'low fat yogurt'],\n",
       " ['frozen vegetables', 'cider', 'eggs', 'french fries'],\n",
       " ['yams', 'cookies', 'toothpaste'],\n",
       " ['mineral water', 'milk', 'escalope', 'champagne', 'hot dogs', 'fresh bread'],\n",
       " ['ham',\n",
       "  'herb & pepper',\n",
       "  'spaghetti',\n",
       "  'mineral water',\n",
       "  'chocolate',\n",
       "  'pancakes',\n",
       "  'eggs'],\n",
       " ['pepper',\n",
       "  'mineral water',\n",
       "  'escalope',\n",
       "  'shallot',\n",
       "  'protein bar',\n",
       "  'white wine'],\n",
       " ['turkey', 'parmesan cheese', 'spaghetti', 'meatballs', 'butter'],\n",
       " ['herb & pepper', 'eggs', 'escalope'],\n",
       " ['herb & pepper'],\n",
       " ['burgers', 'escalope', 'shallot'],\n",
       " ['chocolate', 'pepper', 'tomato sauce', 'tomato juice'],\n",
       " ['cookies'],\n",
       " ['burgers',\n",
       "  'ground beef',\n",
       "  'spaghetti',\n",
       "  'mineral water',\n",
       "  'escalope',\n",
       "  'melons'],\n",
       " ['frozen vegetables', 'mineral water', 'soup', 'milk', 'olive oil'],\n",
       " ['turkey', 'eggs', 'french fries', 'asparagus', 'low fat yogurt', 'zucchini'],\n",
       " ['burgers', 'frozen vegetables', 'gums'],\n",
       " ['herb & pepper', 'frozen vegetables', 'ground beef', 'milk'],\n",
       " ['frozen vegetables', 'cake', 'light cream', 'mashed potato'],\n",
       " ['milk'],\n",
       " ['turkey', 'eggs', 'barbecue sauce'],\n",
       " ['escalope'],\n",
       " ['parmesan cheese', 'french fries'],\n",
       " ['energy bar', 'eggs'],\n",
       " ['soup', 'escalope', 'mint'],\n",
       " ['muffins', 'chicken', 'zucchini'],\n",
       " ['burgers', 'eggs', 'french fries', 'cookies', 'green tea'],\n",
       " ['spaghetti'],\n",
       " ['avocado', 'energy bar', 'chocolate'],\n",
       " ['cookies'],\n",
       " ['green tea'],\n",
       " ['whole wheat pasta', 'spaghetti', 'mineral water', 'olive oil'],\n",
       " ['grated cheese',\n",
       "  'frozen vegetables',\n",
       "  'eggs',\n",
       "  'gums',\n",
       "  'escalope',\n",
       "  'low fat yogurt'],\n",
       " ['grated cheese',\n",
       "  'herb & pepper',\n",
       "  'mineral water',\n",
       "  'pancakes',\n",
       "  'chocolate',\n",
       "  'escalope',\n",
       "  'tomato juice'],\n",
       " ['chocolate', 'spaghetti', 'yams', 'flax seed', 'salmon', 'frozen smoothie'],\n",
       " ['burger sauce', 'oil'],\n",
       " ['eggs', 'french fries', 'energy drink'],\n",
       " ['mineral water'],\n",
       " ['grated cheese', 'ground beef', 'mineral water', 'olive oil'],\n",
       " ['eggs', 'low fat yogurt'],\n",
       " ['parmesan cheese', 'spaghetti', 'soda', 'pet food', 'white wine'],\n",
       " ['turkey',\n",
       "  'shrimp',\n",
       "  'olive oil',\n",
       "  'chicken',\n",
       "  'eggs',\n",
       "  'extra dark chocolate',\n",
       "  'melons',\n",
       "  'fresh bread'],\n",
       " ['pickles',\n",
       "  'ground beef',\n",
       "  'yams',\n",
       "  'milk',\n",
       "  'strong cheese',\n",
       "  'salmon',\n",
       "  'muffins',\n",
       "  'french fries',\n",
       "  'escalope'],\n",
       " ['pepper', 'spaghetti', 'light cream'],\n",
       " ['frozen vegetables', 'mineral water', 'eggs'],\n",
       " ['spaghetti', 'chicken', 'tea', 'pancakes', 'gluten free bar'],\n",
       " ['fresh tuna',\n",
       "  'turkey',\n",
       "  'herb & pepper',\n",
       "  'spaghetti',\n",
       "  'mineral water',\n",
       "  'mint'],\n",
       " ['spaghetti', 'mineral water', 'cooking oil', 'escalope'],\n",
       " ['soup'],\n",
       " ['burgers', 'herb & pepper', 'spaghetti'],\n",
       " ['cookies', 'shallot', 'strawberries'],\n",
       " ['fresh tuna',\n",
       "  'chocolate',\n",
       "  'shrimp',\n",
       "  'whole wheat pasta',\n",
       "  'pepper',\n",
       "  'mineral water',\n",
       "  'soup',\n",
       "  'milk',\n",
       "  'salmon'],\n",
       " ['yams',\n",
       "  'mineral water',\n",
       "  'avocado',\n",
       "  'milk',\n",
       "  'butter',\n",
       "  'cooking oil',\n",
       "  'chocolate',\n",
       "  'cottage cheese'],\n",
       " ['ham', 'eggs', 'french fries', 'energy drink'],\n",
       " ['mineral water', 'avocado'],\n",
       " ['cookies'],\n",
       " ['chocolate', 'butter', 'eggs', 'green tea', 'cottage cheese', 'mayonnaise'],\n",
       " ['eggs', 'mushroom cream sauce', 'low fat yogurt'],\n",
       " ['antioxydant juice', 'chocolate'],\n",
       " ['ground beef', 'spaghetti', 'french fries', 'green tea'],\n",
       " ['cake'],\n",
       " ['turkey',\n",
       "  'red wine',\n",
       "  'mineral water',\n",
       "  'pancakes',\n",
       "  'eggs',\n",
       "  'whole wheat rice',\n",
       "  'cooking oil',\n",
       "  'chocolate',\n",
       "  'zucchini'],\n",
       " ['chocolate', 'parmesan cheese', 'mineral water', 'olive oil', 'bacon'],\n",
       " ['green grapes', 'gums'],\n",
       " ['shrimp',\n",
       "  'frozen vegetables',\n",
       "  'parmesan cheese',\n",
       "  'milk',\n",
       "  'eggs',\n",
       "  'cooking oil',\n",
       "  'chocolate',\n",
       "  'french fries'],\n",
       " ['ground beef', 'mineral water', 'milk', 'eggs'],\n",
       " ['escalope'],\n",
       " ['turkey', 'cookies'],\n",
       " ['ground beef', 'mineral water', 'chocolate', 'green tea'],\n",
       " ['whole wheat pasta',\n",
       "  'spaghetti',\n",
       "  'olive oil',\n",
       "  'butter',\n",
       "  'chocolate',\n",
       "  'french fries',\n",
       "  'tomato juice',\n",
       "  'low fat yogurt'],\n",
       " ['red wine'],\n",
       " ['frozen vegetables',\n",
       "  'mineral water',\n",
       "  'eggs',\n",
       "  'gums',\n",
       "  'cooking oil',\n",
       "  'frozen smoothie',\n",
       "  'cottage cheese',\n",
       "  'low fat yogurt'],\n",
       " ['turkey', 'grated cheese', 'energy bar', 'vegetables mix', 'brownies'],\n",
       " ['turkey', 'burgers', 'nonfat milk', 'cooking oil', 'energy drink'],\n",
       " ['french fries', 'low fat yogurt'],\n",
       " ['muffins'],\n",
       " ['herb & pepper',\n",
       "  'mineral water',\n",
       "  'salmon',\n",
       "  'whole wheat rice',\n",
       "  'cake',\n",
       "  'green tea'],\n",
       " ['mineral water', 'cake', 'chocolate', 'low fat yogurt', 'candy bars'],\n",
       " ['grated cheese',\n",
       "  'mineral water',\n",
       "  'chocolate',\n",
       "  'soup',\n",
       "  'milk',\n",
       "  'olive oil',\n",
       "  'light cream',\n",
       "  'chicken'],\n",
       " ['mineral water', 'strawberries'],\n",
       " ['escalope'],\n",
       " ['grated cheese',\n",
       "  'parmesan cheese',\n",
       "  'butter',\n",
       "  'whole wheat rice',\n",
       "  'cooking oil'],\n",
       " ['ground beef', 'mint'],\n",
       " ['cookies'],\n",
       " ['ground beef', 'avocado', 'milk', 'chicken', 'rice'],\n",
       " ['frozen vegetables', 'soup', 'eggs', 'low fat yogurt'],\n",
       " ['herb & pepper',\n",
       "  'ground beef',\n",
       "  'spaghetti',\n",
       "  'mineral water',\n",
       "  'chocolate',\n",
       "  'black tea',\n",
       "  'french wine',\n",
       "  'pancakes',\n",
       "  'rice',\n",
       "  'green tea',\n",
       "  'toothpaste'],\n",
       " ['shrimp',\n",
       "  'parmesan cheese',\n",
       "  'mineral water',\n",
       "  'eggs',\n",
       "  'cake',\n",
       "  'oil',\n",
       "  'cooking oil',\n",
       "  'toothpaste',\n",
       "  'low fat yogurt'],\n",
       " ['ham',\n",
       "  'herb & pepper',\n",
       "  'frozen vegetables',\n",
       "  'tomatoes',\n",
       "  'spaghetti',\n",
       "  'olive oil',\n",
       "  'black tea',\n",
       "  'vegetables mix',\n",
       "  'cooking oil',\n",
       "  'green tea',\n",
       "  'frozen smoothie',\n",
       "  'mint'],\n",
       " ['chicken', 'cider', 'eggs'],\n",
       " ['shrimp', 'tomato sauce', 'mineral water', 'chocolate', 'escalope', 'mint'],\n",
       " ['energy drink'],\n",
       " ['ham',\n",
       "  'spaghetti',\n",
       "  'mineral water',\n",
       "  'energy bar',\n",
       "  'eggs',\n",
       "  'cooking oil',\n",
       "  'pancakes',\n",
       "  'fresh bread',\n",
       "  'low fat yogurt'],\n",
       " ['shrimp', 'frozen vegetables', 'tomatoes'],\n",
       " ['turkey',\n",
       "  'herb & pepper',\n",
       "  'frozen vegetables',\n",
       "  'ground beef',\n",
       "  'yams',\n",
       "  'mineral water',\n",
       "  'salmon'],\n",
       " ['shrimp', 'mineral water'],\n",
       " ['turkey', 'ground beef', 'spaghetti', 'soup', 'escalope', 'yogurt cake'],\n",
       " ['shrimp',\n",
       "  'pepper',\n",
       "  'mineral water',\n",
       "  'soup',\n",
       "  'milk',\n",
       "  'eggs',\n",
       "  'rice',\n",
       "  'barbecue sauce',\n",
       "  'clothes accessories',\n",
       "  'cookies'],\n",
       " ['burgers', 'pancakes'],\n",
       " ['low fat yogurt'],\n",
       " ['mineral water', 'milk'],\n",
       " ['milk'],\n",
       " ['chocolate'],\n",
       " ['whole wheat pasta', 'mineral water', 'olive oil', 'pancakes'],\n",
       " ['yams', 'mineral water', 'eggs', 'cake'],\n",
       " ['turkey', 'french fries'],\n",
       " ['shrimp',\n",
       "  'spaghetti',\n",
       "  'yams',\n",
       "  'mineral water',\n",
       "  'chocolate',\n",
       "  'olive oil',\n",
       "  'light cream',\n",
       "  'chicken',\n",
       "  'green tea',\n",
       "  'french fries',\n",
       "  'sandwich',\n",
       "  'white wine'],\n",
       " ['mineral water', 'milk', 'salmon', 'green tea', 'cookies', 'fresh bread'],\n",
       " ['spaghetti', 'olive oil'],\n",
       " ['herb & pepper', 'spaghetti'],\n",
       " ['spaghetti',\n",
       "  'mineral water',\n",
       "  'soup',\n",
       "  'salmon',\n",
       "  'pancakes',\n",
       "  'chicken',\n",
       "  'mint green tea',\n",
       "  'low fat yogurt'],\n",
       " ['frozen vegetables',\n",
       "  'whole wheat pasta',\n",
       "  'ground beef',\n",
       "  'mineral water',\n",
       "  'chocolate',\n",
       "  'milk',\n",
       "  'olive oil',\n",
       "  'almonds',\n",
       "  'french wine',\n",
       "  'yogurt cake',\n",
       "  'fresh bread'],\n",
       " ['green tea'],\n",
       " ['burgers',\n",
       "  'grated cheese',\n",
       "  'spaghetti',\n",
       "  'nonfat milk',\n",
       "  'eggs',\n",
       "  'gums',\n",
       "  'chocolate',\n",
       "  'tomato juice',\n",
       "  'low fat yogurt'],\n",
       " ['ham',\n",
       "  'ground beef',\n",
       "  'olive oil',\n",
       "  'energy bar',\n",
       "  'chicken',\n",
       "  'brownies',\n",
       "  'white wine'],\n",
       " ['whole wheat pasta',\n",
       "  'mineral water',\n",
       "  'olive oil',\n",
       "  'cooking oil',\n",
       "  'frozen smoothie',\n",
       "  'green tea'],\n",
       " ['vegetables mix', 'champagne'],\n",
       " ['olive oil'],\n",
       " ['herb & pepper', 'ground beef', 'escalope', 'pancakes', 'green tea'],\n",
       " ['herb & pepper',\n",
       "  'frozen vegetables',\n",
       "  'ground beef',\n",
       "  'tomato sauce',\n",
       "  'spaghetti',\n",
       "  'mineral water',\n",
       "  'milk',\n",
       "  'french wine',\n",
       "  'eggs',\n",
       "  'whole wheat rice',\n",
       "  'chocolate',\n",
       "  'escalope',\n",
       "  'hot dogs',\n",
       "  'green tea'],\n",
       " ['yams', 'carrots'],\n",
       " ['chicken'],\n",
       " ['turkey',\n",
       "  'burgers',\n",
       "  'herb & pepper',\n",
       "  'ground beef',\n",
       "  'yams',\n",
       "  'mineral water',\n",
       "  'avocado',\n",
       "  'milk',\n",
       "  'almonds',\n",
       "  'muffins',\n",
       "  'eggs',\n",
       "  'french fries'],\n",
       " ['whole wheat pasta', 'salmon', 'antioxydant juice', 'mint green tea'],\n",
       " ['chocolate', 'french fries', 'strawberries', 'fresh bread'],\n",
       " ['burgers',\n",
       "  'chocolate',\n",
       "  'shrimp',\n",
       "  'whole wheat pasta',\n",
       "  'ground beef',\n",
       "  'soup',\n",
       "  'energy bar',\n",
       "  ' asparagus'],\n",
       " ['mineral water',\n",
       "  'butter',\n",
       "  'pancakes',\n",
       "  'french fries',\n",
       "  'frozen smoothie',\n",
       "  'white wine',\n",
       "  'low fat yogurt'],\n",
       " ['muffins', 'eggs'],\n",
       " ['turkey', 'shrimp', 'frozen vegetables', 'eggs'],\n",
       " ['burgers', 'eggs', 'yogurt cake'],\n",
       " ['burgers',\n",
       "  'fresh tuna',\n",
       "  'shrimp',\n",
       "  'frozen vegetables',\n",
       "  'whole wheat pasta',\n",
       "  'yams',\n",
       "  'mineral water',\n",
       "  'olive oil',\n",
       "  'almonds',\n",
       "  'cake',\n",
       "  'chicken',\n",
       "  'extra dark chocolate'],\n",
       " ['herb & pepper', 'ground beef', 'mineral water', 'chicken'],\n",
       " ['frozen smoothie'],\n",
       " ['chicken', 'tomato juice'],\n",
       " ['whole wheat pasta', 'olive oil'],\n",
       " ['milk', 'energy bar', 'green tea'],\n",
       " ['grated cheese', 'herb & pepper'],\n",
       " ['escalope', 'green tea'],\n",
       " ['soup', 'meatballs', 'milk', 'almonds', 'green tea'],\n",
       " ['herb & pepper', 'pet food', 'cookies'],\n",
       " ['grated cheese',\n",
       "  'whole wheat pasta',\n",
       "  'olive oil',\n",
       "  'energy bar',\n",
       "  'light cream',\n",
       "  'oil',\n",
       "  'french fries',\n",
       "  'pancakes',\n",
       "  'low fat yogurt'],\n",
       " ['honey'],\n",
       " ['parmesan cheese',\n",
       "  'mineral water',\n",
       "  'fromage blanc',\n",
       "  'eggs',\n",
       "  'honey',\n",
       "  'frozen smoothie'],\n",
       " ['bramble', 'zucchini'],\n",
       " ['ground beef',\n",
       "  'pepper',\n",
       "  'milk',\n",
       "  'eggs',\n",
       "  'green tea',\n",
       "  'chocolate',\n",
       "  'white wine'],\n",
       " ['chocolate',\n",
       "  'red wine',\n",
       "  'butter',\n",
       "  'french fries',\n",
       "  'cookies',\n",
       "  'low fat yogurt'],\n",
       " ['chocolate', 'spaghetti', 'bug spray'],\n",
       " ['cookies'],\n",
       " ['spaghetti',\n",
       "  'mineral water',\n",
       "  'vegetables mix',\n",
       "  'eggs',\n",
       "  'whole wheat rice',\n",
       "  'fresh bread'],\n",
       " ['chocolate',\n",
       "  'grated cheese',\n",
       "  'mineral water',\n",
       "  'salmon',\n",
       "  'whole wheat rice',\n",
       "  'burger sauce',\n",
       "  'escalope',\n",
       "  'mushroom cream sauce',\n",
       "  'low fat yogurt'],\n",
       " ['spaghetti', 'champagne'],\n",
       " ['frozen vegetables', 'mineral water'],\n",
       " ['mineral water', 'body spray', 'low fat yogurt'],\n",
       " ['herb & pepper', 'red wine', 'whole wheat pasta', 'cake', 'tomato juice'],\n",
       " ['burgers', 'parmesan cheese', 'eggs', 'french fries', 'hot dogs'],\n",
       " ['mineral water', 'eggs', 'pancakes'],\n",
       " ['eggs', 'french fries'],\n",
       " ['shrimp', 'frozen vegetables', 'tomatoes', 'spaghetti'],\n",
       " ['mineral water',\n",
       "  'almonds',\n",
       "  'pancakes',\n",
       "  'chocolate',\n",
       "  'french fries',\n",
       "  'green tea'],\n",
       " ['cake', 'french fries', 'escalope'],\n",
       " ['frozen vegetables',\n",
       "  'spaghetti',\n",
       "  'mineral water',\n",
       "  'milk',\n",
       "  'black tea',\n",
       "  'french wine',\n",
       "  'cider',\n",
       "  'chutney',\n",
       "  'salmon'],\n",
       " ['almonds', 'cake', 'low fat yogurt'],\n",
       " ['french fries'],\n",
       " ['hot dogs'],\n",
       " ['mineral water',\n",
       "  'soup',\n",
       "  'chicken',\n",
       "  'light cream',\n",
       "  'green tea',\n",
       "  'chocolate',\n",
       "  'champagne',\n",
       "  'low fat yogurt'],\n",
       " ['ground beef', 'olive oil'],\n",
       " ['french fries', 'cookies', 'green tea'],\n",
       " ['soup',\n",
       "  'blueberries',\n",
       "  'cooking oil',\n",
       "  'chocolate',\n",
       "  'cookies',\n",
       "  'champagne',\n",
       "  'salt'],\n",
       " ['chocolate', 'french fries', 'frozen smoothie', 'escalope', 'fresh bread'],\n",
       " ['yams', 'mint'],\n",
       " ['frozen vegetables',\n",
       "  'ground beef',\n",
       "  'salmon',\n",
       "  'muffins',\n",
       "  'chocolate',\n",
       "  'magazines'],\n",
       " ['fresh tuna',\n",
       "  'herb & pepper',\n",
       "  'parmesan cheese',\n",
       "  'milk',\n",
       "  'olive oil',\n",
       "  'pancakes',\n",
       "  'honey',\n",
       "  'cake',\n",
       "  'chocolate'],\n",
       " ['grated cheese',\n",
       "  'shrimp',\n",
       "  'butter',\n",
       "  'whole wheat rice',\n",
       "  'french fries',\n",
       "  'escalope',\n",
       "  'cookies',\n",
       "  'cottage cheese'],\n",
       " ['energy bar', 'eggs', 'french fries', 'champagne', 'body spray'],\n",
       " ['burgers', 'eggs', 'french fries'],\n",
       " ['burgers',\n",
       "  'shrimp',\n",
       "  'mineral water',\n",
       "  'milk',\n",
       "  'eggs',\n",
       "  'chocolate',\n",
       "  'french fries',\n",
       "  'fresh bread'],\n",
       " ['ground beef',\n",
       "  'mineral water',\n",
       "  'chocolate',\n",
       "  'milk',\n",
       "  'chicken',\n",
       "  'nonfat milk',\n",
       "  'green tea'],\n",
       " ['mineral water', 'chicken'],\n",
       " ['turkey', 'ground beef', 'spaghetti', 'milk', 'eggs', 'cake'],\n",
       " ['french fries', 'green tea'],\n",
       " ['french fries', 'escalope'],\n",
       " ['turkey', 'sparkling water'],\n",
       " ['whole wheat pasta',\n",
       "  'mineral water',\n",
       "  'olive oil',\n",
       "  'carrots',\n",
       "  'protein bar',\n",
       "  'low fat yogurt'],\n",
       " ['cookies'],\n",
       " ['turkey', 'grated cheese', 'honey', 'green beans', 'french fries'],\n",
       " ['turkey',\n",
       "  'red wine',\n",
       "  'mineral water',\n",
       "  'chocolate',\n",
       "  'soup',\n",
       "  'light cream',\n",
       "  'rice',\n",
       "  'oil',\n",
       "  'chicken',\n",
       "  'barbecue sauce'],\n",
       " ['turkey', 'eggs'],\n",
       " ['low fat yogurt'],\n",
       " ['nonfat milk', 'low fat yogurt'],\n",
       " ['frozen vegetables', 'low fat yogurt'],\n",
       " ['herb & pepper',\n",
       "  'parmesan cheese',\n",
       "  'whole wheat pasta',\n",
       "  'mineral water',\n",
       "  'milk',\n",
       "  'eggs',\n",
       "  'low fat yogurt',\n",
       "  'mint'],\n",
       " ['yogurt cake', 'mint'],\n",
       " ['sandwich', 'salt'],\n",
       " ['shrimp', 'fresh bread', 'green tea'],\n",
       " ['pepper', 'tomato sauce', 'escalope'],\n",
       " ['mineral water', 'cake', 'protein bar', 'toothpaste'],\n",
       " ['candy bars'],\n",
       " ['red wine'],\n",
       " ['spaghetti', 'mineral water', 'honey', 'strawberries'],\n",
       " ['mineral water', 'eggs', 'green tea'],\n",
       " ['grated cheese',\n",
       "  'frozen vegetables',\n",
       "  'parmesan cheese',\n",
       "  'french wine',\n",
       "  'french fries',\n",
       "  'fresh bread',\n",
       "  'green tea'],\n",
       " ['frozen vegetables',\n",
       "  'parmesan cheese',\n",
       "  'whole wheat pasta',\n",
       "  'spaghetti',\n",
       "  'mineral water',\n",
       "  'chocolate',\n",
       "  'avocado',\n",
       "  'milk',\n",
       "  'olive oil',\n",
       "  'muffins',\n",
       "  'cake'],\n",
       " ['chocolate',\n",
       "  'grated cheese',\n",
       "  'shrimp',\n",
       "  'spaghetti',\n",
       "  'olive oil',\n",
       "  'honey',\n",
       "  'strawberries',\n",
       "  'mint'],\n",
       " ['spaghetti', 'strawberries'],\n",
       " ['burgers', 'chocolate', 'mushroom cream sauce'],\n",
       " ['mineral water', 'olive oil', 'extra dark chocolate'],\n",
       " ['eggs', 'green tea'],\n",
       " ['tomato juice'],\n",
       " ['muffins', 'low fat yogurt'],\n",
       " ['soup',\n",
       "  'olive oil',\n",
       "  'pancakes',\n",
       "  'light cream',\n",
       "  'champagne',\n",
       "  'low fat yogurt'],\n",
       " ['mineral water', 'vegetables mix', 'low fat yogurt'],\n",
       " ['pepper',\n",
       "  'mineral water',\n",
       "  'avocado',\n",
       "  'pancakes',\n",
       "  'eggs',\n",
       "  'honey',\n",
       "  'green tea',\n",
       "  'chocolate'],\n",
       " ['pickles', 'burgers', 'almonds', 'honey', 'frozen smoothie'],\n",
       " ['bug spray', 'clothes accessories', 'cottage cheese'],\n",
       " ['frozen vegetables',\n",
       "  'ground beef',\n",
       "  'spaghetti',\n",
       "  'pancakes',\n",
       "  'honey',\n",
       "  'whole wheat rice',\n",
       "  'green beans',\n",
       "  'french fries',\n",
       "  'frozen smoothie',\n",
       "  'mashed potato'],\n",
       " ['spaghetti', 'mineral water', 'milk'],\n",
       " ['pancakes'],\n",
       " ['muffins'],\n",
       " ['frozen vegetables', 'oil', 'cereals'],\n",
       " ['turkey',\n",
       "  'shrimp',\n",
       "  'mineral water',\n",
       "  'milk',\n",
       "  'almonds',\n",
       "  'strong cheese',\n",
       "  'cake',\n",
       "  'frozen smoothie'],\n",
       " ['chocolate', 'rice', 'eggplant', 'hand protein bar', 'zucchini'],\n",
       " ['spaghetti', 'meatballs', 'nonfat milk', 'hot dogs'],\n",
       " ['frozen vegetables', 'cake', 'cookies', 'pancakes'],\n",
       " ['butter', 'bug spray', 'french fries', 'yogurt cake', 'green tea'],\n",
       " ['herb & pepper'],\n",
       " ['soup', 'milk', 'cider', 'chicken', 'green beans'],\n",
       " ['shrimp',\n",
       "  'spaghetti',\n",
       "  'mineral water',\n",
       "  'avocado',\n",
       "  'milk',\n",
       "  'salmon',\n",
       "  'frozen smoothie',\n",
       "  'escalope',\n",
       "  'hot dogs'],\n",
       " ['milk', 'whole wheat rice', 'escalope', 'champagne'],\n",
       " ['escalope', 'pasta', 'mushroom cream sauce'],\n",
       " ['parmesan cheese'],\n",
       " ['grated cheese', 'spaghetti', 'french fries'],\n",
       " ['burgers',\n",
       "  'shrimp',\n",
       "  'whole wheat pasta',\n",
       "  'spaghetti',\n",
       "  'mineral water',\n",
       "  'milk',\n",
       "  'olive oil',\n",
       "  'chicken',\n",
       "  'salmon',\n",
       "  'pancakes',\n",
       "  'cake'],\n",
       " ['turkey',\n",
       "  'chocolate',\n",
       "  'grated cheese',\n",
       "  'frozen vegetables',\n",
       "  'ground beef',\n",
       "  'spaghetti',\n",
       "  'milk',\n",
       "  'butter',\n",
       "  'bacon',\n",
       "  'whole wheat rice'],\n",
       " ['turkey',\n",
       "  'pepper',\n",
       "  'chocolate',\n",
       "  'fromage blanc',\n",
       "  'eggs',\n",
       "  'green tea',\n",
       "  'escalope'],\n",
       " ['tomatoes', 'ground beef', 'avocado', 'milk', 'pancakes', 'green tea'],\n",
       " ['turkey', 'mineral water', 'green tea', 'protein bar'],\n",
       " ['mineral water', 'low fat yogurt'],\n",
       " ['pancakes', 'tomato juice', 'candy bars'],\n",
       " ['yams',\n",
       "  'avocado',\n",
       "  'bacon',\n",
       "  'oil',\n",
       "  'french fries',\n",
       "  'brownies',\n",
       "  'pancakes',\n",
       "  'zucchini',\n",
       "  'green tea'],\n",
       " ['shrimp',\n",
       "  'spaghetti',\n",
       "  'mineral water',\n",
       "  'soup',\n",
       "  'milk',\n",
       "  'olive oil',\n",
       "  'chicken',\n",
       "  'cake',\n",
       "  'burger sauce',\n",
       "  'oil'],\n",
       " ['chicken', 'cooking oil', 'tea'],\n",
       " ['burgers',\n",
       "  'soup',\n",
       "  'vegetables mix',\n",
       "  'pancakes',\n",
       "  'body spray',\n",
       "  'melons',\n",
       "  'protein bar',\n",
       "  'asparagus',\n",
       "  'mayonnaise',\n",
       "  'mint',\n",
       "  'green tea'],\n",
       " ['shrimp', 'pepper'],\n",
       " ['spaghetti', 'olive oil', 'blueberries'],\n",
       " ['muffins'],\n",
       " ['grated cheese', 'herb & pepper', 'muffins', 'eggs', 'low fat yogurt'],\n",
       " ['grated cheese',\n",
       "  'frozen vegetables',\n",
       "  'spaghetti',\n",
       "  'milk',\n",
       "  'gums',\n",
       "  'light cream',\n",
       "  'cooking oil',\n",
       "  'gluten free bar'],\n",
       " ['pepper', 'pancakes', 'french fries', 'tomato juice'],\n",
       " ['frozen vegetables',\n",
       "  'tomatoes',\n",
       "  'parmesan cheese',\n",
       "  'ground beef',\n",
       "  'tomato sauce',\n",
       "  'milk',\n",
       "  'extra dark chocolate',\n",
       "  'melons',\n",
       "  'mint',\n",
       "  'green tea'],\n",
       " ['olive oil', 'chicken', 'chocolate', 'cookies', 'green tea'],\n",
       " ['whole wheat pasta',\n",
       "  'ground beef',\n",
       "  'spaghetti',\n",
       "  'chocolate',\n",
       "  'french wine',\n",
       "  'pancakes',\n",
       "  'eggs',\n",
       "  'frozen smoothie',\n",
       "  'sandwich',\n",
       "  'tomato juice'],\n",
       " ['eggs', 'cottage cheese'],\n",
       " ['muffins', 'cottage cheese'],\n",
       " ['green tea', 'frozen smoothie', 'white wine'],\n",
       " ['mineral water', 'chocolate', 'rice', 'champagne'],\n",
       " ['mineral water'],\n",
       " ['shrimp', 'whole wheat pasta', 'meatballs', 'milk'],\n",
       " ['herb & pepper',\n",
       "  'parmesan cheese',\n",
       "  'ground beef',\n",
       "  'pepper',\n",
       "  'spaghetti',\n",
       "  'cream',\n",
       "  'black tea',\n",
       "  'almonds',\n",
       "  'french wine',\n",
       "  'pancakes',\n",
       "  'eggs'],\n",
       " ['grated cheese',\n",
       "  'shrimp',\n",
       "  'parmesan cheese',\n",
       "  'ground beef',\n",
       "  'mineral water',\n",
       "  'mint'],\n",
       " ['mineral water', 'rice'],\n",
       " ['pancakes'],\n",
       " ['mineral water', 'honey'],\n",
       " ['burgers', 'ground beef', 'pancakes', 'salt'],\n",
       " ['parmesan cheese', 'soda', 'french fries', 'brownies'],\n",
       " ['whole wheat rice'],\n",
       " ['ground beef',\n",
       "  'spaghetti',\n",
       "  'chicken',\n",
       "  'rice',\n",
       "  'oil',\n",
       "  'cooking oil',\n",
       "  'hot dogs',\n",
       "  'mint'],\n",
       " ['butter', 'chocolate'],\n",
       " ['pepper'],\n",
       " ['herb & pepper', 'chocolate', 'champagne', 'yogurt cake', 'green tea'],\n",
       " ['grated cheese', 'mineral water', 'eggs', 'escalope'],\n",
       " ['cookies', 'yogurt cake', 'light mayo', 'green tea'],\n",
       " ['milk', 'cooking oil'],\n",
       " ['milk',\n",
       "  'olive oil',\n",
       "  'light cream',\n",
       "  'cooking oil',\n",
       "  'chicken',\n",
       "  'extra dark chocolate',\n",
       "  'cereals',\n",
       "  'french fries',\n",
       "  'frozen smoothie',\n",
       "  'pancakes',\n",
       "  'tomato juice',\n",
       "  'fresh bread',\n",
       "  'low fat yogurt'],\n",
       " ['tomatoes',\n",
       "  'soup',\n",
       "  'avocado',\n",
       "  'milk',\n",
       "  'yogurt cake',\n",
       "  'energy drink',\n",
       "  'low fat yogurt',\n",
       "  'green tea'],\n",
       " ['ham', 'chocolate', 'ground beef', 'mineral water', 'oil'],\n",
       " ['green tea', 'champagne', 'escalope'],\n",
       " ['chocolate'],\n",
       " ['escalope', 'pasta'],\n",
       " ['burgers',\n",
       "  'mineral water',\n",
       "  'olive oil',\n",
       "  'rice',\n",
       "  'antioxydant juice',\n",
       "  'frozen smoothie'],\n",
       " ['green tea'],\n",
       " ['grated cheese',\n",
       "  'tomato sauce',\n",
       "  'spaghetti',\n",
       "  'milk',\n",
       "  'pancakes',\n",
       "  'energy drink',\n",
       "  'white wine'],\n",
       " ['turkey', 'spaghetti', 'strong cheese', 'strawberries'],\n",
       " ['muffins'],\n",
       " ['ground beef', 'spaghetti', 'cider', 'cooking oil', 'cookies'],\n",
       " ['burgers',\n",
       "  'frozen vegetables',\n",
       "  'parmesan cheese',\n",
       "  'spaghetti',\n",
       "  'fromage blanc',\n",
       "  'vegetables mix',\n",
       "  'pancakes',\n",
       "  'honey',\n",
       "  'hot dogs',\n",
       "  'low fat yogurt'],\n",
       " ['ground beef'],\n",
       " ['green beans'],\n",
       " ['frozen vegetables',\n",
       "  'mineral water',\n",
       "  'honey',\n",
       "  'whole wheat rice',\n",
       "  'champagne',\n",
       "  'escalope'],\n",
       " ['parmesan cheese',\n",
       "  'milk',\n",
       "  'butter',\n",
       "  'black tea',\n",
       "  'eggs',\n",
       "  'frozen smoothie',\n",
       "  'light mayo',\n",
       "  'shampoo',\n",
       "  'low fat yogurt',\n",
       "  'green tea'],\n",
       " ['mineral water', 'cake'],\n",
       " ['turkey',\n",
       "  'mineral water',\n",
       "  'milk',\n",
       "  'pancakes',\n",
       "  'whole wheat rice',\n",
       "  'cooking oil',\n",
       "  'frozen smoothie',\n",
       "  'cookies',\n",
       "  'green tea'],\n",
       " ['avocado', 'chocolate', 'french fries'],\n",
       " ['green tea'],\n",
       " ['chocolate', 'eggs', 'bug spray'],\n",
       " ['grated cheese', 'muffins', 'french fries', 'body spray'],\n",
       " ['mineral water', 'eggs', 'blueberries', 'soda', 'escalope'],\n",
       " ['whole wheat rice'],\n",
       " ['nonfat milk', 'cookies', 'mushroom cream sauce'],\n",
       " ['french fries', 'champagne'],\n",
       " ['mineral water', 'salmon'],\n",
       " ['olive oil'],\n",
       " ['turkey',\n",
       "  'tomatoes',\n",
       "  'ground beef',\n",
       "  'soup',\n",
       "  'milk',\n",
       "  'butter',\n",
       "  'honey',\n",
       "  'cake',\n",
       "  'mint green tea',\n",
       "  'brownies',\n",
       "  'salt'],\n",
       " ['parmesan cheese',\n",
       "  'spaghetti',\n",
       "  'mineral water',\n",
       "  'chocolate',\n",
       "  'napkins',\n",
       "  'low fat yogurt'],\n",
       " ['burgers',\n",
       "  'parmesan cheese',\n",
       "  'chocolate',\n",
       "  'soup',\n",
       "  'milk',\n",
       "  'olive oil',\n",
       "  'energy bar',\n",
       "  'butter',\n",
       "  'almonds',\n",
       "  'fromage blanc',\n",
       "  'eggs',\n",
       "  'cake',\n",
       "  'pancakes'],\n",
       " ['shrimp', 'honey', 'pasta', 'energy drink', 'green tea'],\n",
       " ['fresh tuna',\n",
       "  'chocolate',\n",
       "  'milk',\n",
       "  'french wine',\n",
       "  'muffins',\n",
       "  'pancakes',\n",
       "  'champagne',\n",
       "  'frozen smoothie'],\n",
       " ['strawberries'],\n",
       " ['herb & pepper'],\n",
       " ['herb & pepper',\n",
       "  'frozen vegetables',\n",
       "  'tomatoes',\n",
       "  'parmesan cheese',\n",
       "  'ground beef',\n",
       "  'fromage blanc',\n",
       "  'eggs',\n",
       "  'honey',\n",
       "  'cake',\n",
       "  'rice',\n",
       "  'cereals',\n",
       "  'french fries',\n",
       "  'champagne'],\n",
       " ['spaghetti',\n",
       "  'mineral water',\n",
       "  'milk',\n",
       "  'strong cheese',\n",
       "  'cereals',\n",
       "  'escalope',\n",
       "  'cottage cheese'],\n",
       " ['turkey',\n",
       "  'burgers',\n",
       "  'fresh tuna',\n",
       "  'spaghetti',\n",
       "  'pancakes',\n",
       "  'eggs',\n",
       "  'cake',\n",
       "  'cottage cheese',\n",
       "  'energy drink',\n",
       "  'gluten free bar'],\n",
       " ['eggplant'],\n",
       " ['burgers',\n",
       "  'spaghetti',\n",
       "  'mineral water',\n",
       "  'almonds',\n",
       "  'honey',\n",
       "  'extra dark chocolate',\n",
       "  'carrots',\n",
       "  'mashed potato'],\n",
       " ['chocolate',\n",
       "  'french fries',\n",
       "  'frozen smoothie',\n",
       "  'cottage cheese',\n",
       "  'strawberries',\n",
       "  'light mayo'],\n",
       " ['strong cheese'],\n",
       " ['chocolate', 'french fries'],\n",
       " ['chocolate', 'french fries', 'strawberries'],\n",
       " ['turkey',\n",
       "  'frozen vegetables',\n",
       "  'avocado',\n",
       "  'cake',\n",
       "  'light cream',\n",
       "  'cooking oil',\n",
       "  'chicken',\n",
       "  'chocolate bread',\n",
       "  'mashed potato'],\n",
       " ['olive oil', 'energy bar', 'shallot'],\n",
       " ['turkey', 'shrimp'],\n",
       " ['chocolate', 'spaghetti', 'champagne', 'yogurt cake'],\n",
       " ['shrimp',\n",
       "  'mineral water',\n",
       "  'chocolate',\n",
       "  'avocado',\n",
       "  'butter',\n",
       "  'zucchini',\n",
       "  'green tea'],\n",
       " ['muffins', 'green tea', 'brownies'],\n",
       " ['yogurt cake'],\n",
       " ['turkey',\n",
       "  'tomato sauce',\n",
       "  'milk',\n",
       "  'butter',\n",
       "  'bacon',\n",
       "  'salmon',\n",
       "  'cooking oil',\n",
       "  'chocolate',\n",
       "  'french fries',\n",
       "  'hot dogs',\n",
       "  'melons',\n",
       "  'protein bar',\n",
       "  'mint'],\n",
       " ['grated cheese'],\n",
       " ['butter', 'burger sauce', 'brownies', 'pancakes'],\n",
       " ['butter',\n",
       "  'pancakes',\n",
       "  'whole wheat rice',\n",
       "  'green tea',\n",
       "  'french fries',\n",
       "  'cookies',\n",
       "  'shallot',\n",
       "  'low fat yogurt'],\n",
       " ['shrimp', 'chocolate', 'butter', 'cooking oil', 'escalope'],\n",
       " ['burgers',\n",
       "  'red wine',\n",
       "  'frozen vegetables',\n",
       "  'pepper',\n",
       "  'spaghetti',\n",
       "  'chocolate',\n",
       "  'milk',\n",
       "  'honey',\n",
       "  'whole wheat rice',\n",
       "  'cooking oil',\n",
       "  'cereals'],\n",
       " ['turkey',\n",
       "  'ground beef',\n",
       "  'spaghetti',\n",
       "  'pancakes',\n",
       "  'eggs',\n",
       "  'cake',\n",
       "  'chili',\n",
       "  'pet food',\n",
       "  'chocolate'],\n",
       " ['shrimp', 'milk', 'butter', 'chicken', 'salt', 'mayonnaise', 'green tea'],\n",
       " ['fresh tuna',\n",
       "  'mineral water',\n",
       "  'fromage blanc',\n",
       "  'honey',\n",
       "  'gums',\n",
       "  'chocolate',\n",
       "  'french fries',\n",
       "  'frozen smoothie',\n",
       "  'sparkling water',\n",
       "  'strawberries',\n",
       "  'green tea'],\n",
       " ['chocolate', 'cookies'],\n",
       " ['sparkling water', 'light mayo'],\n",
       " ['frozen vegetables',\n",
       "  'tomatoes',\n",
       "  'spaghetti',\n",
       "  'chicken',\n",
       "  'french fries',\n",
       "  'escalope'],\n",
       " ['turkey',\n",
       "  'burgers',\n",
       "  'butter',\n",
       "  'vegetables mix',\n",
       "  'green grapes',\n",
       "  'pancakes',\n",
       "  'eggs',\n",
       "  'cake',\n",
       "  'barbecue sauce',\n",
       "  'green tea'],\n",
       " ['red wine', 'shrimp', 'yams', 'eggs', 'burger sauce', 'yogurt cake'],\n",
       " ['french fries', 'light mayo'],\n",
       " ['burgers', 'ground beef', 'eggs', 'chocolate', 'champagne', 'zucchini'],\n",
       " ['mushroom cream sauce'],\n",
       " ['butter', 'mint green tea'],\n",
       " ['whole wheat rice'],\n",
       " ['gums'],\n",
       " ['mineral water', 'french fries', 'champagne', 'green tea'],\n",
       " ['cereals', 'salt', 'green tea'],\n",
       " ['shrimp',\n",
       "  'spaghetti',\n",
       "  'chocolate',\n",
       "  'french fries',\n",
       "  'escalope',\n",
       "  'cookies',\n",
       "  'brownies',\n",
       "  'pancakes',\n",
       "  'melons'],\n",
       " ['ham',\n",
       "  'spaghetti',\n",
       "  'yams',\n",
       "  'chicken',\n",
       "  'cooking oil',\n",
       "  'chocolate',\n",
       "  'hot dogs'],\n",
       " ['eggs'],\n",
       " ['ground beef', 'olive oil', 'bug spray', 'frozen smoothie', 'hot dogs'],\n",
       " ['frozen vegetables',\n",
       "  'spaghetti',\n",
       "  'mineral water',\n",
       "  'soup',\n",
       "  'olive oil',\n",
       "  'escalope'],\n",
       " ['whole wheat rice', 'oil', 'chicken', 'french fries', 'escalope'],\n",
       " ['green tea'],\n",
       " ['parmesan cheese', 'whole wheat rice', 'escalope', 'champagne'],\n",
       " ['fresh tuna',\n",
       "  'frozen vegetables',\n",
       "  'chicken',\n",
       "  'fromage blanc',\n",
       "  'honey',\n",
       "  'light mayo'],\n",
       " ['ground beef'],\n",
       " ['muffins', 'champagne', 'cookies', 'fresh bread', 'green tea'],\n",
       " ['frozen vegetables', 'spaghetti', 'chocolate', 'escalope', 'fresh bread'],\n",
       " ['pickles', 'spaghetti', 'french fries', 'frozen smoothie'],\n",
       " ['avocado'],\n",
       " ['sandwich'],\n",
       " ['spaghetti', 'milk', 'oil', 'shampoo'],\n",
       " ['champagne'],\n",
       " ['spaghetti'],\n",
       " ['champagne'],\n",
       " ['avocado', 'milk', 'butter', 'french fries', 'cookies'],\n",
       " ['turkey',\n",
       "  'frozen vegetables',\n",
       "  'chicken',\n",
       "  'eggs',\n",
       "  'frozen smoothie',\n",
       "  'cauliflower',\n",
       "  'low fat yogurt'],\n",
       " ['burgers',\n",
       "  'shrimp',\n",
       "  'tomatoes',\n",
       "  'milk',\n",
       "  'energy bar',\n",
       "  'almonds',\n",
       "  'chicken',\n",
       "  'chocolate',\n",
       "  'french fries',\n",
       "  'body spray'],\n",
       " ['burgers',\n",
       "  'milk',\n",
       "  'cake',\n",
       "  'cooking oil',\n",
       "  'french fries',\n",
       "  'escalope',\n",
       "  'zucchini'],\n",
       " ['tomatoes',\n",
       "  'spaghetti',\n",
       "  'chocolate',\n",
       "  'milk',\n",
       "  'olive oil',\n",
       "  'whole wheat rice',\n",
       "  'cake',\n",
       "  'frozen smoothie',\n",
       "  'protein bar'],\n",
       " ['fresh tuna',\n",
       "  'red wine',\n",
       "  'pepper',\n",
       "  'spaghetti',\n",
       "  'fromage blanc',\n",
       "  'salmon',\n",
       "  'pancakes',\n",
       "  'eggs',\n",
       "  'honey',\n",
       "  'green tea'],\n",
       " ['milk', 'low fat yogurt'],\n",
       " ['shrimp', 'parmesan cheese', 'soup', 'chocolate', 'brownies'],\n",
       " ['spaghetti', 'chicken'],\n",
       " ['grated cheese', 'vegetables mix', 'nonfat milk', 'green tea'],\n",
       " ['fresh tuna',\n",
       "  'parmesan cheese',\n",
       "  'cider',\n",
       "  'muffins',\n",
       "  'spinach',\n",
       "  'honey',\n",
       "  'oil'],\n",
       " ['cake'],\n",
       " ['shrimp', 'chocolate', 'mushroom cream sauce', 'candy bars'],\n",
       " ['candy bars'],\n",
       " ['avocado', 'honey'],\n",
       " ['shrimp', 'frozen vegetables', 'tomatoes', 'cottage cheese'],\n",
       " ['french fries'],\n",
       " ['strawberries'],\n",
       " ['ground beef', 'almonds', 'french fries', 'escalope'],\n",
       " ['grated cheese', 'spaghetti'],\n",
       " ['turkey', 'mineral water', 'butter', 'frozen smoothie'],\n",
       " ['frozen vegetables', 'spaghetti', 'french fries', 'light mayo', 'green tea'],\n",
       " ['burgers',\n",
       "  'ham',\n",
       "  'spaghetti',\n",
       "  'whole wheat rice',\n",
       "  'eggplant',\n",
       "  'chocolate',\n",
       "  'cookies',\n",
       "  'shallot',\n",
       "  'green tea'],\n",
       " ['grated cheese',\n",
       "  'frozen vegetables',\n",
       "  'spaghetti',\n",
       "  'avocado',\n",
       "  'milk',\n",
       "  'blueberries',\n",
       "  'light cream',\n",
       "  'rice',\n",
       "  'green tea',\n",
       "  'chocolate',\n",
       "  'french fries',\n",
       "  'frozen smoothie',\n",
       "  'cookies',\n",
       "  'hot dogs'],\n",
       " ['burgers', 'shrimp', 'tomatoes', 'bacon', 'whole wheat rice', 'green tea'],\n",
       " ['parmesan cheese', 'pancakes'],\n",
       " ['parmesan cheese', 'cake', 'hot dogs', 'green tea'],\n",
       " ['spaghetti', 'milk', 'fromage blanc', 'ketchup', 'chocolate', 'babies food'],\n",
       " ['mint'],\n",
       " ['chocolate', 'mint'],\n",
       " ['butter', 'french fries', 'salt', 'fresh bread'],\n",
       " ['chocolate', 'french fries', 'strawberries', 'yogurt cake', 'light mayo'],\n",
       " ['eggs', 'eggplant', 'cookies'],\n",
       " ['yogurt cake'],\n",
       " ['herb & pepper',\n",
       "  'spaghetti',\n",
       "  'meatballs',\n",
       "  'milk',\n",
       "  'olive oil',\n",
       "  'chicken',\n",
       "  'honey',\n",
       "  'frozen smoothie',\n",
       "  'escalope',\n",
       "  'pancakes'],\n",
       " ['frozen vegetables', 'rice', 'chocolate'],\n",
       " ['herb & pepper',\n",
       "  'ground beef',\n",
       "  'spaghetti',\n",
       "  'chocolate',\n",
       "  'milk',\n",
       "  'eggs',\n",
       "  'light cream'],\n",
       " ['eggs', 'champagne'],\n",
       " ['whole wheat pasta', 'ground beef', 'olive oil', 'blueberries', 'escalope'],\n",
       " ['burgers',\n",
       "  'red wine',\n",
       "  'mineral water',\n",
       "  'eggs',\n",
       "  'oil',\n",
       "  'carrots',\n",
       "  'hand protein bar',\n",
       "  'tomato juice'],\n",
       " ['chocolate',\n",
       "  'grated cheese',\n",
       "  'herb & pepper',\n",
       "  'mineral water',\n",
       "  'soup',\n",
       "  'olive oil'],\n",
       " ['burgers',\n",
       "  'shrimp',\n",
       "  'mineral water',\n",
       "  'chicken',\n",
       "  'fromage blanc',\n",
       "  'salmon',\n",
       "  'eggs',\n",
       "  'cake',\n",
       "  'frozen smoothie',\n",
       "  'strawberries'],\n",
       " ['green tea'],\n",
       " ['cookies'],\n",
       " ['french fries', 'cookies'],\n",
       " ['milk', 'butter', 'eggs'],\n",
       " ['eggs', 'mushroom cream sauce', 'low fat yogurt'],\n",
       " ['eggs', 'green tea'],\n",
       " ['mineral water', 'whole wheat rice'],\n",
       " ['shrimp',\n",
       "  'frozen vegetables',\n",
       "  'parmesan cheese',\n",
       "  'mineral water',\n",
       "  'whole wheat rice',\n",
       "  'cake'],\n",
       " ['whole wheat rice', 'pancakes'],\n",
       " ['frozen vegetables',\n",
       "  'spaghetti',\n",
       "  'olive oil',\n",
       "  'butter',\n",
       "  'salmon',\n",
       "  'oil',\n",
       "  'cooking oil',\n",
       "  'frozen smoothie',\n",
       "  'cauliflower'],\n",
       " ['green tea'],\n",
       " ['fresh tuna', 'eggs', 'escalope', 'strawberries'],\n",
       " ['spaghetti', 'soup', 'milk', 'carrots', 'chocolate'],\n",
       " ['burgers', 'mineral water', 'soup', 'meatballs', 'olive oil'],\n",
       " ['grated cheese',\n",
       "  'mineral water',\n",
       "  'cooking oil',\n",
       "  'french fries',\n",
       "  'cookies',\n",
       "  'low fat yogurt'],\n",
       " ['shrimp', 'milk', 'olive oil', 'french fries'],\n",
       " ['frozen vegetables', 'mineral water', 'pancakes', 'cake', 'tomato juice'],\n",
       " ['spaghetti', 'milk', 'chicken'],\n",
       " ['grated cheese',\n",
       "  'mineral water',\n",
       "  'chicken',\n",
       "  'french fries',\n",
       "  'cottage cheese',\n",
       "  'pancakes'],\n",
       " ['ground beef', 'mineral water', 'milk', 'eggs', 'mint'],\n",
       " ['shrimp', 'body spray', 'green tea'],\n",
       " ['frozen smoothie'],\n",
       " ['herb & pepper', 'frozen vegetables', 'mineral water', 'muffins', 'cereals'],\n",
       " ['turkey',\n",
       "  'tomatoes',\n",
       "  'spaghetti',\n",
       "  'milk',\n",
       "  'cider',\n",
       "  'eggs',\n",
       "  'honey',\n",
       "  'cake',\n",
       "  'green tea',\n",
       "  'french fries',\n",
       "  'brownies',\n",
       "  'tomato juice'],\n",
       " ...]"
      ]
     },
     "execution_count": 20,
     "metadata": {},
     "output_type": "execute_result"
    }
   ],
   "source": [
    "transactions"
   ]
  },
  {
   "cell_type": "code",
   "execution_count": 21,
   "metadata": {
    "id": "injKaeo-SOe2"
   },
   "outputs": [],
   "source": [
    "# Initialize the TransactionEncoder\n",
    "te = TransactionEncoder()\n",
    "te_ary = te.fit(transactions).transform(transactions)\n",
    "df = pd.DataFrame(te_ary, columns=te.columns_)"
   ]
  },
  {
   "cell_type": "markdown",
   "metadata": {
    "id": "FRrNZ-SRZz2q"
   },
   "source": [
    "**Display the first 5 rows of the dataset.**"
   ]
  },
  {
   "cell_type": "code",
   "execution_count": 22,
   "metadata": {
    "colab": {
     "base_uri": "https://localhost:8080/"
    },
    "id": "ES4yiZ3MSSZ2",
    "outputId": "edbcf216-535a-425b-c4d3-1b7a3357c5c1"
   },
   "outputs": [
    {
     "data": {
      "text/html": [
       "<div>\n",
       "<style scoped>\n",
       "    .dataframe tbody tr th:only-of-type {\n",
       "        vertical-align: middle;\n",
       "    }\n",
       "\n",
       "    .dataframe tbody tr th {\n",
       "        vertical-align: top;\n",
       "    }\n",
       "\n",
       "    .dataframe thead th {\n",
       "        text-align: right;\n",
       "    }\n",
       "</style>\n",
       "<table border=\"1\" class=\"dataframe\">\n",
       "  <thead>\n",
       "    <tr style=\"text-align: right;\">\n",
       "      <th></th>\n",
       "      <th>asparagus</th>\n",
       "      <th>almonds</th>\n",
       "      <th>antioxydant juice</th>\n",
       "      <th>asparagus</th>\n",
       "      <th>avocado</th>\n",
       "      <th>babies food</th>\n",
       "      <th>bacon</th>\n",
       "      <th>barbecue sauce</th>\n",
       "      <th>black tea</th>\n",
       "      <th>blueberries</th>\n",
       "      <th>...</th>\n",
       "      <th>turkey</th>\n",
       "      <th>vegetables mix</th>\n",
       "      <th>water spray</th>\n",
       "      <th>white wine</th>\n",
       "      <th>whole weat flour</th>\n",
       "      <th>whole wheat pasta</th>\n",
       "      <th>whole wheat rice</th>\n",
       "      <th>yams</th>\n",
       "      <th>yogurt cake</th>\n",
       "      <th>zucchini</th>\n",
       "    </tr>\n",
       "  </thead>\n",
       "  <tbody>\n",
       "    <tr>\n",
       "      <th>0</th>\n",
       "      <td>False</td>\n",
       "      <td>True</td>\n",
       "      <td>True</td>\n",
       "      <td>False</td>\n",
       "      <td>True</td>\n",
       "      <td>False</td>\n",
       "      <td>False</td>\n",
       "      <td>False</td>\n",
       "      <td>False</td>\n",
       "      <td>False</td>\n",
       "      <td>...</td>\n",
       "      <td>False</td>\n",
       "      <td>True</td>\n",
       "      <td>False</td>\n",
       "      <td>False</td>\n",
       "      <td>True</td>\n",
       "      <td>False</td>\n",
       "      <td>False</td>\n",
       "      <td>True</td>\n",
       "      <td>False</td>\n",
       "      <td>False</td>\n",
       "    </tr>\n",
       "    <tr>\n",
       "      <th>1</th>\n",
       "      <td>False</td>\n",
       "      <td>False</td>\n",
       "      <td>False</td>\n",
       "      <td>False</td>\n",
       "      <td>False</td>\n",
       "      <td>False</td>\n",
       "      <td>False</td>\n",
       "      <td>False</td>\n",
       "      <td>False</td>\n",
       "      <td>False</td>\n",
       "      <td>...</td>\n",
       "      <td>False</td>\n",
       "      <td>False</td>\n",
       "      <td>False</td>\n",
       "      <td>False</td>\n",
       "      <td>False</td>\n",
       "      <td>False</td>\n",
       "      <td>False</td>\n",
       "      <td>False</td>\n",
       "      <td>False</td>\n",
       "      <td>False</td>\n",
       "    </tr>\n",
       "    <tr>\n",
       "      <th>2</th>\n",
       "      <td>False</td>\n",
       "      <td>False</td>\n",
       "      <td>False</td>\n",
       "      <td>False</td>\n",
       "      <td>False</td>\n",
       "      <td>False</td>\n",
       "      <td>False</td>\n",
       "      <td>False</td>\n",
       "      <td>False</td>\n",
       "      <td>False</td>\n",
       "      <td>...</td>\n",
       "      <td>False</td>\n",
       "      <td>False</td>\n",
       "      <td>False</td>\n",
       "      <td>False</td>\n",
       "      <td>False</td>\n",
       "      <td>False</td>\n",
       "      <td>False</td>\n",
       "      <td>False</td>\n",
       "      <td>False</td>\n",
       "      <td>False</td>\n",
       "    </tr>\n",
       "    <tr>\n",
       "      <th>3</th>\n",
       "      <td>False</td>\n",
       "      <td>False</td>\n",
       "      <td>False</td>\n",
       "      <td>False</td>\n",
       "      <td>True</td>\n",
       "      <td>False</td>\n",
       "      <td>False</td>\n",
       "      <td>False</td>\n",
       "      <td>False</td>\n",
       "      <td>False</td>\n",
       "      <td>...</td>\n",
       "      <td>True</td>\n",
       "      <td>False</td>\n",
       "      <td>False</td>\n",
       "      <td>False</td>\n",
       "      <td>False</td>\n",
       "      <td>False</td>\n",
       "      <td>False</td>\n",
       "      <td>False</td>\n",
       "      <td>False</td>\n",
       "      <td>False</td>\n",
       "    </tr>\n",
       "    <tr>\n",
       "      <th>4</th>\n",
       "      <td>False</td>\n",
       "      <td>False</td>\n",
       "      <td>False</td>\n",
       "      <td>False</td>\n",
       "      <td>False</td>\n",
       "      <td>False</td>\n",
       "      <td>False</td>\n",
       "      <td>False</td>\n",
       "      <td>False</td>\n",
       "      <td>False</td>\n",
       "      <td>...</td>\n",
       "      <td>False</td>\n",
       "      <td>False</td>\n",
       "      <td>False</td>\n",
       "      <td>False</td>\n",
       "      <td>False</td>\n",
       "      <td>False</td>\n",
       "      <td>True</td>\n",
       "      <td>False</td>\n",
       "      <td>False</td>\n",
       "      <td>False</td>\n",
       "    </tr>\n",
       "  </tbody>\n",
       "</table>\n",
       "<p>5 rows × 120 columns</p>\n",
       "</div>"
      ],
      "text/plain": [
       "    asparagus  almonds  antioxydant juice  asparagus  avocado  babies food  \\\n",
       "0       False     True               True      False     True        False   \n",
       "1       False    False              False      False    False        False   \n",
       "2       False    False              False      False    False        False   \n",
       "3       False    False              False      False     True        False   \n",
       "4       False    False              False      False    False        False   \n",
       "\n",
       "   bacon  barbecue sauce  black tea  blueberries  ...  turkey  vegetables mix  \\\n",
       "0  False           False      False        False  ...   False            True   \n",
       "1  False           False      False        False  ...   False           False   \n",
       "2  False           False      False        False  ...   False           False   \n",
       "3  False           False      False        False  ...    True           False   \n",
       "4  False           False      False        False  ...   False           False   \n",
       "\n",
       "   water spray  white wine  whole weat flour  whole wheat pasta  \\\n",
       "0        False       False              True              False   \n",
       "1        False       False             False              False   \n",
       "2        False       False             False              False   \n",
       "3        False       False             False              False   \n",
       "4        False       False             False              False   \n",
       "\n",
       "   whole wheat rice   yams  yogurt cake  zucchini  \n",
       "0             False   True        False     False  \n",
       "1             False  False        False     False  \n",
       "2             False  False        False     False  \n",
       "3             False  False        False     False  \n",
       "4              True  False        False     False  \n",
       "\n",
       "[5 rows x 120 columns]"
      ]
     },
     "execution_count": 22,
     "metadata": {},
     "output_type": "execute_result"
    }
   ],
   "source": [
    "# Display the first few rows of the one-hot encoded DataFrame\n",
    "(df.head())"
   ]
  },
  {
   "cell_type": "markdown",
   "metadata": {
    "id": "J3T8-IlzaDfA"
   },
   "source": [
    "**Applying the Apriori Algorithm:**\n",
    "\n",
    "- The `apriori` function from the `mlxtend.frequent_patterns` module was used to find frequent itemsets. We specified a minimum support threshold of 0.01 (1%), meaning that an itemset must appear in at least 1% of transactions to be considered frequent.\n",
    "- The result is a DataFrame where each row represents a frequent itemset, and the columns provide the support (proportion of transactions containing the itemset) and the itemsets themselves."
   ]
  },
  {
   "cell_type": "code",
   "execution_count": 23,
   "metadata": {
    "id": "alXpjqhGSVvW"
   },
   "outputs": [],
   "source": [
    "from mlxtend.frequent_patterns import apriori, association_rules\n",
    "\n",
    "# Apply the Apriori algorithm with a minimum support of 0.01 (1%)\n",
    "frequent_itemsets = apriori(df, min_support=0.01, use_colnames=True)\n",
    "\n"
   ]
  },
  {
   "cell_type": "code",
   "execution_count": 24,
   "metadata": {
    "colab": {
     "base_uri": "https://localhost:8080/",
     "height": 261
    },
    "id": "P01RvnLSP9z4",
    "outputId": "c90a773a-fed7-418e-9828-60553f175be4"
   },
   "outputs": [
    {
     "data": {
      "text/html": [
       "<div>\n",
       "<style scoped>\n",
       "    .dataframe tbody tr th:only-of-type {\n",
       "        vertical-align: middle;\n",
       "    }\n",
       "\n",
       "    .dataframe tbody tr th {\n",
       "        vertical-align: top;\n",
       "    }\n",
       "\n",
       "    .dataframe thead th {\n",
       "        text-align: right;\n",
       "    }\n",
       "</style>\n",
       "<table border=\"1\" class=\"dataframe\">\n",
       "  <thead>\n",
       "    <tr style=\"text-align: right;\">\n",
       "      <th></th>\n",
       "      <th>support</th>\n",
       "      <th>itemsets</th>\n",
       "    </tr>\n",
       "  </thead>\n",
       "  <tbody>\n",
       "    <tr>\n",
       "      <th>0</th>\n",
       "      <td>0.020397</td>\n",
       "      <td>(almonds)</td>\n",
       "    </tr>\n",
       "    <tr>\n",
       "      <th>1</th>\n",
       "      <td>0.033329</td>\n",
       "      <td>(avocado)</td>\n",
       "    </tr>\n",
       "    <tr>\n",
       "      <th>2</th>\n",
       "      <td>0.010799</td>\n",
       "      <td>(barbecue sauce)</td>\n",
       "    </tr>\n",
       "    <tr>\n",
       "      <th>3</th>\n",
       "      <td>0.014265</td>\n",
       "      <td>(black tea)</td>\n",
       "    </tr>\n",
       "    <tr>\n",
       "      <th>4</th>\n",
       "      <td>0.011465</td>\n",
       "      <td>(body spray)</td>\n",
       "    </tr>\n",
       "  </tbody>\n",
       "</table>\n",
       "</div>"
      ],
      "text/plain": [
       "    support          itemsets\n",
       "0  0.020397         (almonds)\n",
       "1  0.033329         (avocado)\n",
       "2  0.010799  (barbecue sauce)\n",
       "3  0.014265       (black tea)\n",
       "4  0.011465      (body spray)"
      ]
     },
     "execution_count": 24,
     "metadata": {},
     "output_type": "execute_result"
    }
   ],
   "source": [
    "frequent_itemsets.head(5)"
   ]
  },
  {
   "cell_type": "markdown",
   "metadata": {
    "id": "569l4XQVaNpF"
   },
   "source": [
    "**Generating Association Rules:**\n",
    "\n",
    "- The `association_rules` function was used to generate association rules from the frequent itemsets. We specified a minimum confidence threshold of 0.2 (20%), meaning that the rules must have a confidence of at least 20% to be considered.\n",
    "- The result is a DataFrame where each row represents an association rule, and the columns provide various metrics related to the rule."
   ]
  },
  {
   "cell_type": "code",
   "execution_count": 25,
   "metadata": {
    "colab": {
     "base_uri": "https://localhost:8080/"
    },
    "id": "HM1DiyVKScQx",
    "outputId": "4ec6d94e-dbc1-4b58-982e-fbc6a09d2e53"
   },
   "outputs": [
    {
     "name": "stdout",
     "output_type": "stream",
     "text": [
      "Frequent Itemsets:\n",
      "    support          itemsets\n",
      "0  0.020397         (almonds)\n",
      "1  0.033329         (avocado)\n",
      "2  0.010799  (barbecue sauce)\n",
      "3  0.014265       (black tea)\n",
      "4  0.011465      (body spray)\n",
      "\n",
      "Association Rules:\n"
     ]
    },
    {
     "data": {
      "text/html": [
       "<div>\n",
       "<style scoped>\n",
       "    .dataframe tbody tr th:only-of-type {\n",
       "        vertical-align: middle;\n",
       "    }\n",
       "\n",
       "    .dataframe tbody tr th {\n",
       "        vertical-align: top;\n",
       "    }\n",
       "\n",
       "    .dataframe thead th {\n",
       "        text-align: right;\n",
       "    }\n",
       "</style>\n",
       "<table border=\"1\" class=\"dataframe\">\n",
       "  <thead>\n",
       "    <tr style=\"text-align: right;\">\n",
       "      <th></th>\n",
       "      <th>antecedents</th>\n",
       "      <th>consequents</th>\n",
       "      <th>antecedent support</th>\n",
       "      <th>consequent support</th>\n",
       "      <th>support</th>\n",
       "      <th>confidence</th>\n",
       "      <th>lift</th>\n",
       "      <th>leverage</th>\n",
       "      <th>conviction</th>\n",
       "      <th>zhangs_metric</th>\n",
       "    </tr>\n",
       "  </thead>\n",
       "  <tbody>\n",
       "    <tr>\n",
       "      <th>0</th>\n",
       "      <td>(avocado)</td>\n",
       "      <td>(mineral water)</td>\n",
       "      <td>0.033329</td>\n",
       "      <td>0.238368</td>\n",
       "      <td>0.011598</td>\n",
       "      <td>0.348000</td>\n",
       "      <td>1.459926</td>\n",
       "      <td>0.003654</td>\n",
       "      <td>1.168147</td>\n",
       "      <td>0.325896</td>\n",
       "    </tr>\n",
       "    <tr>\n",
       "      <th>1</th>\n",
       "      <td>(burgers)</td>\n",
       "      <td>(eggs)</td>\n",
       "      <td>0.087188</td>\n",
       "      <td>0.179709</td>\n",
       "      <td>0.028796</td>\n",
       "      <td>0.330275</td>\n",
       "      <td>1.837830</td>\n",
       "      <td>0.013128</td>\n",
       "      <td>1.224818</td>\n",
       "      <td>0.499424</td>\n",
       "    </tr>\n",
       "    <tr>\n",
       "      <th>2</th>\n",
       "      <td>(burgers)</td>\n",
       "      <td>(french fries)</td>\n",
       "      <td>0.087188</td>\n",
       "      <td>0.170911</td>\n",
       "      <td>0.021997</td>\n",
       "      <td>0.252294</td>\n",
       "      <td>1.476173</td>\n",
       "      <td>0.007096</td>\n",
       "      <td>1.108844</td>\n",
       "      <td>0.353384</td>\n",
       "    </tr>\n",
       "    <tr>\n",
       "      <th>3</th>\n",
       "      <td>(burgers)</td>\n",
       "      <td>(green tea)</td>\n",
       "      <td>0.087188</td>\n",
       "      <td>0.132116</td>\n",
       "      <td>0.017464</td>\n",
       "      <td>0.200306</td>\n",
       "      <td>1.516139</td>\n",
       "      <td>0.005945</td>\n",
       "      <td>1.085270</td>\n",
       "      <td>0.372947</td>\n",
       "    </tr>\n",
       "    <tr>\n",
       "      <th>4</th>\n",
       "      <td>(burgers)</td>\n",
       "      <td>(milk)</td>\n",
       "      <td>0.087188</td>\n",
       "      <td>0.129583</td>\n",
       "      <td>0.017864</td>\n",
       "      <td>0.204893</td>\n",
       "      <td>1.581175</td>\n",
       "      <td>0.006566</td>\n",
       "      <td>1.094717</td>\n",
       "      <td>0.402667</td>\n",
       "    </tr>\n",
       "  </tbody>\n",
       "</table>\n",
       "</div>"
      ],
      "text/plain": [
       "  antecedents      consequents  antecedent support  consequent support  \\\n",
       "0   (avocado)  (mineral water)            0.033329            0.238368   \n",
       "1   (burgers)           (eggs)            0.087188            0.179709   \n",
       "2   (burgers)   (french fries)            0.087188            0.170911   \n",
       "3   (burgers)      (green tea)            0.087188            0.132116   \n",
       "4   (burgers)           (milk)            0.087188            0.129583   \n",
       "\n",
       "    support  confidence      lift  leverage  conviction  zhangs_metric  \n",
       "0  0.011598    0.348000  1.459926  0.003654    1.168147       0.325896  \n",
       "1  0.028796    0.330275  1.837830  0.013128    1.224818       0.499424  \n",
       "2  0.021997    0.252294  1.476173  0.007096    1.108844       0.353384  \n",
       "3  0.017464    0.200306  1.516139  0.005945    1.085270       0.372947  \n",
       "4  0.017864    0.204893  1.581175  0.006566    1.094717       0.402667  "
      ]
     },
     "execution_count": 25,
     "metadata": {},
     "output_type": "execute_result"
    }
   ],
   "source": [
    "# Generate the association rules with a minimum confidence of 0.2 (20%)\n",
    "rules = association_rules(frequent_itemsets, metric=\"confidence\", min_threshold=0.2)\n",
    "\n",
    "# Display the results\n",
    "print(\"Frequent Itemsets:\")\n",
    "print(frequent_itemsets.head())\n",
    "print(\"\\nAssociation Rules:\")\n",
    "rules.head()"
   ]
  },
  {
   "cell_type": "markdown",
   "metadata": {
    "id": "2hXGhLu8aeeC"
   },
   "source": [
    "**Observations**\n",
    "- **support:** This column shows the proportion of transactions that contain the itemset. For example, 0.020397 means that almonds appear in approximately 2.04% of transactions.\n",
    "- **itemsets:** This column lists the items in the frequent itemset. For example, (almonds) means that the itemset contains only almonds."
   ]
  },
  {
   "cell_type": "markdown",
   "metadata": {
    "id": "0h0mJcECa2gi"
   },
   "source": [
    "- **antecedents:** Items on the left-hand side of the rule (e.g., `avocado`).\n",
    "- **consequents:** Items on the right-hand side of the rule (e.g., `mineral water`).\n",
    "- **antecedent support:** Proportion of transactions that contain the antecedent itemset.\n",
    "- **consequent support:** Proportion of transactions that contain the consequent itemset.\n"
   ]
  },
  {
   "cell_type": "markdown",
   "metadata": {
    "id": "01EqaNl7bLUd"
   },
   "source": [
    "- **support:** Proportion of transactions that contain both the antecedent and consequent itemsets.\n",
    "- **confidence:** Proportion of transactions containing the antecedent that also contain the consequent (calculated as `support / antecedent support`).\n",
    "- **lift:** Ratio of the observed support to that expected if the antecedent and consequent were independent (calculated as `confidence / consequent support`).\n",
    "- **leverage:** Difference between the observed support and the support expected if the antecedent and consequent were independent.\n",
    "- **conviction:** Measure of the implication strength of the rule (calculated as `(1 - consequent support) / (1 - confidence)`).\n",
    "- **zhangs_metric:** A measure of the strength of the association rule, balancing confidence and lift."
   ]
  },
  {
   "cell_type": "markdown",
   "metadata": {
    "id": "HlgSHy0wcKtR"
   },
   "source": [
    "### __6.4.3 Eclat Algorithm__"
   ]
  },
  {
   "cell_type": "markdown",
   "metadata": {
    "id": "1T3RZiwWcSz6"
   },
   "source": [
    "The ECLAT algorithm, which stands for Equivalence Class Clustering and bottom-up Lattice Traversal, is a widely-used method for Association Rule mining. It is considered more efficient and scalable than the Apriori algorithm.\n"
   ]
  },
  {
   "cell_type": "markdown",
   "metadata": {
    "id": "TluaHVtDcX81"
   },
   "source": [
    "While Apriori operates in a horizontal fashion similar to Breadth-First Search in a graph, ECLAT functions vertically, akin to **Depth-First Search**. This vertical approach makes ECLAT faster than Apriori."
   ]
  },
  {
   "cell_type": "markdown",
   "metadata": {
    "id": "yWvnekFCciBg"
   },
   "source": [
    "Let's implement Eclat Algorithm"
   ]
  },
  {
   "cell_type": "code",
   "execution_count": 10,
   "metadata": {
    "colab": {
     "base_uri": "https://localhost:8080/"
    },
    "id": "pMufR2YE_V2W",
    "outputId": "e8f8544e-1c3d-45f2-d533-27cbf90c5ddb"
   },
   "outputs": [
    {
     "name": "stdout",
     "output_type": "stream",
     "text": [
      "Collecting pyECLAT\n",
      "  Downloading pyECLAT-1.0.2-py3-none-any.whl (6.3 kB)\n",
      "Requirement already satisfied: numpy>=1.17.4 in c:\\users\\dk\\anaconda3\\lib\\site-packages (from pyECLAT) (1.21.6)\n",
      "Requirement already satisfied: tqdm>=4.41.1 in c:\\users\\dk\\anaconda3\\lib\\site-packages (from pyECLAT) (4.64.1)\n",
      "Requirement already satisfied: pandas>=0.25.3 in c:\\users\\dk\\anaconda3\\lib\\site-packages (from pyECLAT) (1.3.5)\n",
      "Requirement already satisfied: pytz>=2017.3 in c:\\users\\dk\\anaconda3\\lib\\site-packages (from pandas>=0.25.3->pyECLAT) (2019.3)\n",
      "Requirement already satisfied: python-dateutil>=2.7.3 in c:\\users\\dk\\anaconda3\\lib\\site-packages (from pandas>=0.25.3->pyECLAT) (2.8.1)\n",
      "Requirement already satisfied: colorama in c:\\users\\dk\\anaconda3\\lib\\site-packages (from tqdm>=4.41.1->pyECLAT) (0.4.3)\n",
      "Requirement already satisfied: six>=1.5 in c:\\users\\dk\\anaconda3\\lib\\site-packages (from python-dateutil>=2.7.3->pandas>=0.25.3->pyECLAT) (1.16.0)\n",
      "Installing collected packages: pyECLAT\n",
      "Successfully installed pyECLAT-1.0.2\n"
     ]
    },
    {
     "name": "stderr",
     "output_type": "stream",
     "text": [
      "WARNING: Ignoring invalid distribution -umpy (c:\\users\\dk\\anaconda3\\lib\\site-packages)\n",
      "WARNING: Ignoring invalid distribution -rotobuf (c:\\users\\dk\\anaconda3\\lib\\site-packages)\n",
      "WARNING: Ignoring invalid distribution - (c:\\users\\dk\\anaconda3\\lib\\site-packages)\n",
      "WARNING: Ignoring invalid distribution -eo4j (c:\\users\\dk\\anaconda3\\lib\\site-packages)\n",
      "WARNING: Ignoring invalid distribution -umpy (c:\\users\\dk\\anaconda3\\lib\\site-packages)\n",
      "WARNING: Ignoring invalid distribution -rotobuf (c:\\users\\dk\\anaconda3\\lib\\site-packages)\n",
      "WARNING: Ignoring invalid distribution - (c:\\users\\dk\\anaconda3\\lib\\site-packages)\n",
      "WARNING: Ignoring invalid distribution -eo4j (c:\\users\\dk\\anaconda3\\lib\\site-packages)\n",
      "WARNING: Ignoring invalid distribution -umpy (c:\\users\\dk\\anaconda3\\lib\\site-packages)\n",
      "WARNING: Ignoring invalid distribution -rotobuf (c:\\users\\dk\\anaconda3\\lib\\site-packages)\n",
      "WARNING: Ignoring invalid distribution - (c:\\users\\dk\\anaconda3\\lib\\site-packages)\n",
      "WARNING: Ignoring invalid distribution -eo4j (c:\\users\\dk\\anaconda3\\lib\\site-packages)\n",
      "WARNING: Ignoring invalid distribution -umpy (c:\\users\\dk\\anaconda3\\lib\\site-packages)\n",
      "WARNING: Ignoring invalid distribution -rotobuf (c:\\users\\dk\\anaconda3\\lib\\site-packages)\n",
      "WARNING: Ignoring invalid distribution - (c:\\users\\dk\\anaconda3\\lib\\site-packages)\n",
      "WARNING: Ignoring invalid distribution -eo4j (c:\\users\\dk\\anaconda3\\lib\\site-packages)\n",
      "WARNING: Ignoring invalid distribution -umpy (c:\\users\\dk\\anaconda3\\lib\\site-packages)\n",
      "WARNING: Ignoring invalid distribution -rotobuf (c:\\users\\dk\\anaconda3\\lib\\site-packages)\n",
      "WARNING: Ignoring invalid distribution - (c:\\users\\dk\\anaconda3\\lib\\site-packages)\n",
      "WARNING: Ignoring invalid distribution -eo4j (c:\\users\\dk\\anaconda3\\lib\\site-packages)\n",
      "WARNING: Ignoring invalid distribution -umpy (c:\\users\\dk\\anaconda3\\lib\\site-packages)\n",
      "WARNING: Ignoring invalid distribution -rotobuf (c:\\users\\dk\\anaconda3\\lib\\site-packages)\n",
      "WARNING: Ignoring invalid distribution - (c:\\users\\dk\\anaconda3\\lib\\site-packages)\n",
      "WARNING: Ignoring invalid distribution -eo4j (c:\\users\\dk\\anaconda3\\lib\\site-packages)\n",
      "WARNING: Ignoring invalid distribution -umpy (c:\\users\\dk\\anaconda3\\lib\\site-packages)\n",
      "WARNING: Ignoring invalid distribution -rotobuf (c:\\users\\dk\\anaconda3\\lib\\site-packages)\n",
      "WARNING: Ignoring invalid distribution - (c:\\users\\dk\\anaconda3\\lib\\site-packages)\n",
      "WARNING: Ignoring invalid distribution -eo4j (c:\\users\\dk\\anaconda3\\lib\\site-packages)\n",
      "\n",
      "[notice] A new release of pip available: 23.1.2 -> 24.0\n",
      "[notice] To update, run: python.exe -m pip install --upgrade pip\n"
     ]
    }
   ],
   "source": [
    "!pip install pyECLAT"
   ]
  },
  {
   "cell_type": "code",
   "execution_count": 50,
   "metadata": {
    "colab": {
     "base_uri": "https://localhost:8080/"
    },
    "id": "kbWXgSvhSeyf",
    "outputId": "8f648040-38a1-4276-da35-2bed9e771365"
   },
   "outputs": [],
   "source": [
    "import pandas as pd\n",
    "from pyECLAT import ECLAT\n",
    "from sklearn.model_selection import train_test_split"
   ]
  },
  {
   "cell_type": "markdown",
   "metadata": {
    "id": "FB4Z6cYo4Bn2"
   },
   "source": [
    "**Load the Dataset:**\n"
   ]
  },
  {
   "cell_type": "code",
   "execution_count": 51,
   "metadata": {
    "colab": {
     "base_uri": "https://localhost:8080/"
    },
    "id": "KTVd_MX-sTVf",
    "outputId": "4937dedd-cd89-49ca-912c-522d46e4fb3c"
   },
   "outputs": [],
   "source": [
    "# Load the dataset\n",
    "data = pd.read_csv('Market_Basket_Optimisation.csv', header=None)"
   ]
  },
  {
   "cell_type": "markdown",
   "metadata": {
    "id": "FZSORe9M4LK4"
   },
   "source": [
    "**Data Preprocessing:**\n",
    "\n",
    "- The dataset is converted into a list of transactions, where each transaction is a list of items."
   ]
  },
  {
   "cell_type": "code",
   "execution_count": 52,
   "metadata": {
    "colab": {
     "base_uri": "https://localhost:8080/"
    },
    "id": "dqBSIUi9skjh",
    "outputId": "151118e2-f197-412e-994c-92f3e3f61646"
   },
   "outputs": [],
   "source": [
    "# Convert the DataFrame to a list of lists\n",
    "transactions = []\n",
    "for i in range(data.shape[0]):\n",
    "    transactions.append([str(data.values[i, j]) for j in range(data.shape[1]) if str(data.values[i, j]) != 'nan'])\n"
   ]
  },
  {
   "cell_type": "markdown",
   "metadata": {
    "id": "Mqioonf544iu"
   },
   "source": [
    "**Creating DataFrames for Train and Test Sets:**\n",
    "\n",
    "- We create DataFrames from the list of lists for both training and testing sets, which will be used as input for the pyECLAT library."
   ]
  },
  {
   "cell_type": "code",
   "execution_count": 53,
   "metadata": {
    "colab": {
     "base_uri": "https://localhost:8080/"
    },
    "id": "04D22bIOsolK",
    "outputId": "b47e0b81-a477-400a-f901-ae88bddb3fea"
   },
   "outputs": [],
   "source": [
    "# Split the transactions into training and testing sets\n",
    "train_transactions, test_transactions = train_test_split(transactions, test_size=0.2, random_state=42)\n",
    "\n",
    "# Create DataFrames from the list of lists for training and testing sets\n",
    "train_df = pd.DataFrame(train_transactions)\n",
    "test_df = pd.DataFrame(test_transactions)"
   ]
  },
  {
   "cell_type": "code",
   "execution_count": 56,
   "metadata": {},
   "outputs": [
    {
     "data": {
      "text/html": [
       "<div>\n",
       "<style scoped>\n",
       "    .dataframe tbody tr th:only-of-type {\n",
       "        vertical-align: middle;\n",
       "    }\n",
       "\n",
       "    .dataframe tbody tr th {\n",
       "        vertical-align: top;\n",
       "    }\n",
       "\n",
       "    .dataframe thead th {\n",
       "        text-align: right;\n",
       "    }\n",
       "</style>\n",
       "<table border=\"1\" class=\"dataframe\">\n",
       "  <thead>\n",
       "    <tr style=\"text-align: right;\">\n",
       "      <th></th>\n",
       "      <th>0</th>\n",
       "      <th>1</th>\n",
       "      <th>2</th>\n",
       "      <th>3</th>\n",
       "      <th>4</th>\n",
       "      <th>5</th>\n",
       "      <th>6</th>\n",
       "      <th>7</th>\n",
       "      <th>8</th>\n",
       "      <th>9</th>\n",
       "      <th>10</th>\n",
       "      <th>11</th>\n",
       "      <th>12</th>\n",
       "      <th>13</th>\n",
       "      <th>14</th>\n",
       "      <th>15</th>\n",
       "      <th>16</th>\n",
       "      <th>17</th>\n",
       "      <th>18</th>\n",
       "    </tr>\n",
       "  </thead>\n",
       "  <tbody>\n",
       "    <tr>\n",
       "      <th>0</th>\n",
       "      <td>pepper</td>\n",
       "      <td>mineral water</td>\n",
       "      <td>pancakes</td>\n",
       "      <td>eggs</td>\n",
       "      <td>cooking oil</td>\n",
       "      <td>chocolate</td>\n",
       "      <td>low fat yogurt</td>\n",
       "      <td>None</td>\n",
       "      <td>None</td>\n",
       "      <td>None</td>\n",
       "      <td>None</td>\n",
       "      <td>None</td>\n",
       "      <td>None</td>\n",
       "      <td>None</td>\n",
       "      <td>None</td>\n",
       "      <td>None</td>\n",
       "      <td>None</td>\n",
       "      <td>None</td>\n",
       "      <td>None</td>\n",
       "    </tr>\n",
       "    <tr>\n",
       "      <th>1</th>\n",
       "      <td>turkey</td>\n",
       "      <td>spaghetti</td>\n",
       "      <td>milk</td>\n",
       "      <td>butter</td>\n",
       "      <td>black tea</td>\n",
       "      <td>pancakes</td>\n",
       "      <td>eggs</td>\n",
       "      <td>salt</td>\n",
       "      <td>None</td>\n",
       "      <td>None</td>\n",
       "      <td>None</td>\n",
       "      <td>None</td>\n",
       "      <td>None</td>\n",
       "      <td>None</td>\n",
       "      <td>None</td>\n",
       "      <td>None</td>\n",
       "      <td>None</td>\n",
       "      <td>None</td>\n",
       "      <td>None</td>\n",
       "    </tr>\n",
       "    <tr>\n",
       "      <th>2</th>\n",
       "      <td>fresh tuna</td>\n",
       "      <td>milk</td>\n",
       "      <td>magazines</td>\n",
       "      <td>None</td>\n",
       "      <td>None</td>\n",
       "      <td>None</td>\n",
       "      <td>None</td>\n",
       "      <td>None</td>\n",
       "      <td>None</td>\n",
       "      <td>None</td>\n",
       "      <td>None</td>\n",
       "      <td>None</td>\n",
       "      <td>None</td>\n",
       "      <td>None</td>\n",
       "      <td>None</td>\n",
       "      <td>None</td>\n",
       "      <td>None</td>\n",
       "      <td>None</td>\n",
       "      <td>None</td>\n",
       "    </tr>\n",
       "    <tr>\n",
       "      <th>3</th>\n",
       "      <td>spaghetti</td>\n",
       "      <td>None</td>\n",
       "      <td>None</td>\n",
       "      <td>None</td>\n",
       "      <td>None</td>\n",
       "      <td>None</td>\n",
       "      <td>None</td>\n",
       "      <td>None</td>\n",
       "      <td>None</td>\n",
       "      <td>None</td>\n",
       "      <td>None</td>\n",
       "      <td>None</td>\n",
       "      <td>None</td>\n",
       "      <td>None</td>\n",
       "      <td>None</td>\n",
       "      <td>None</td>\n",
       "      <td>None</td>\n",
       "      <td>None</td>\n",
       "      <td>None</td>\n",
       "    </tr>\n",
       "    <tr>\n",
       "      <th>4</th>\n",
       "      <td>mineral water</td>\n",
       "      <td>avocado</td>\n",
       "      <td>milk</td>\n",
       "      <td>almonds</td>\n",
       "      <td>eggs</td>\n",
       "      <td>french fries</td>\n",
       "      <td>melons</td>\n",
       "      <td>None</td>\n",
       "      <td>None</td>\n",
       "      <td>None</td>\n",
       "      <td>None</td>\n",
       "      <td>None</td>\n",
       "      <td>None</td>\n",
       "      <td>None</td>\n",
       "      <td>None</td>\n",
       "      <td>None</td>\n",
       "      <td>None</td>\n",
       "      <td>None</td>\n",
       "      <td>None</td>\n",
       "    </tr>\n",
       "  </tbody>\n",
       "</table>\n",
       "</div>"
      ],
      "text/plain": [
       "              0              1          2        3            4   \\\n",
       "0         pepper  mineral water   pancakes     eggs  cooking oil   \n",
       "1         turkey      spaghetti       milk   butter    black tea   \n",
       "2     fresh tuna           milk  magazines     None         None   \n",
       "3      spaghetti           None       None     None         None   \n",
       "4  mineral water        avocado       milk  almonds         eggs   \n",
       "\n",
       "             5               6     7     8     9     10    11    12    13  \\\n",
       "0     chocolate  low fat yogurt  None  None  None  None  None  None  None   \n",
       "1      pancakes            eggs  salt  None  None  None  None  None  None   \n",
       "2          None            None  None  None  None  None  None  None  None   \n",
       "3          None            None  None  None  None  None  None  None  None   \n",
       "4  french fries          melons  None  None  None  None  None  None  None   \n",
       "\n",
       "     14    15    16    17    18  \n",
       "0  None  None  None  None  None  \n",
       "1  None  None  None  None  None  \n",
       "2  None  None  None  None  None  \n",
       "3  None  None  None  None  None  \n",
       "4  None  None  None  None  None  "
      ]
     },
     "execution_count": 56,
     "metadata": {},
     "output_type": "execute_result"
    }
   ],
   "source": [
    "train_df.head()"
   ]
  },
  {
   "cell_type": "markdown",
   "metadata": {
    "id": "1jQbSVEh4Wq9"
   },
   "source": [
    "**Performing ECLAT Algorithm:**\n",
    "\n",
    "- We create an instance of ECLAT with the training DataFrame.\n",
    "- We call the fit method with a minimum support threshold to get the frequent itemsets from the training set.\n",
    "- The fit method returns two values: support_dict (a dictionary of itemsets with their support values) and frequent_itemsets (a list of frequent itemsets).\n",
    "- We then convert these results into a pandas DataFrame for better readability."
   ]
  },
  {
   "attachments": {
    "image.png": {
     "image/png": "[encoded data removed]"
    }
   },
   "cell_type": "markdown",
   "metadata": {},
   "source": [
    "![image.png](attachment:image.png)"
   ]
  },
  {
   "cell_type": "code",
   "execution_count": 15,
   "metadata": {
    "colab": {
     "base_uri": "https://localhost:8080/"
    },
    "id": "r4alBotyvtdY",
    "outputId": "dcd49d75-6fcb-47f5-8845-31659140e980"
   },
   "outputs": [
    {
     "name": "stderr",
     "output_type": "stream",
     "text": [
      "100%|███████████████████████████████████████████████████████████████████████████████| 121/121 [00:01<00:00, 104.57it/s]\n",
      "100%|██████████████████████████████████████████████████████████████████████████████| 121/121 [00:00<00:00, 3466.44it/s]\n",
      "100%|██████████████████████████████████████████████████████████████████████████████| 121/121 [00:00<00:00, 1139.79it/s]\n"
     ]
    },
    {
     "name": "stdout",
     "output_type": "stream",
     "text": [
      "Combination 1 by 1\n"
     ]
    },
    {
     "name": "stderr",
     "output_type": "stream",
     "text": [
      "76it [00:01, 45.65it/s]\n"
     ]
    },
    {
     "name": "stdout",
     "output_type": "stream",
     "text": [
      "Combination 2 by 2\n"
     ]
    },
    {
     "name": "stderr",
     "output_type": "stream",
     "text": [
      "2850it [00:43, 65.00it/s] \n"
     ]
    }
   ],
   "source": [
    "# Perform ECLAT algorithm using pyECLAT on the training set\n",
    "eclat_instance = ECLAT(data=train_df, verbose=True)\n",
    "\n",
    "# Get the frequent itemsets with a minimum support of 0.01 (1%) on the training set\n",
    "support_dict, frequent_itemsets = eclat_instance.fit(min_support=0.01, min_combination=1, max_combination=2)"
   ]
  },
  {
   "cell_type": "code",
   "execution_count": 16,
   "metadata": {
    "colab": {
     "base_uri": "https://localhost:8080/",
     "height": 478
    },
    "id": "44C_fqXJDfoM",
    "outputId": "0f1cf555-c6bc-4d2d-bb18-1844ed6efa6c"
   },
   "outputs": [
    {
     "data": {
      "text/html": [
       "<div>\n",
       "<style scoped>\n",
       "    .dataframe tbody tr th:only-of-type {\n",
       "        vertical-align: middle;\n",
       "    }\n",
       "\n",
       "    .dataframe tbody tr th {\n",
       "        vertical-align: top;\n",
       "    }\n",
       "\n",
       "    .dataframe thead th {\n",
       "        text-align: right;\n",
       "    }\n",
       "</style>\n",
       "<table border=\"1\" class=\"dataframe\">\n",
       "  <thead>\n",
       "    <tr style=\"text-align: right;\">\n",
       "      <th></th>\n",
       "      <th>Itemset</th>\n",
       "      <th>Support</th>\n",
       "    </tr>\n",
       "  </thead>\n",
       "  <tbody>\n",
       "    <tr>\n",
       "      <th>70</th>\n",
       "      <td>mineral water</td>\n",
       "      <td>0.193574</td>\n",
       "    </tr>\n",
       "    <tr>\n",
       "      <th>74</th>\n",
       "      <td>eggs</td>\n",
       "      <td>0.142781</td>\n",
       "    </tr>\n",
       "    <tr>\n",
       "      <th>43</th>\n",
       "      <td>spaghetti</td>\n",
       "      <td>0.139315</td>\n",
       "    </tr>\n",
       "    <tr>\n",
       "      <th>72</th>\n",
       "      <td>french fries</td>\n",
       "      <td>0.135715</td>\n",
       "    </tr>\n",
       "    <tr>\n",
       "      <th>60</th>\n",
       "      <td>chocolate</td>\n",
       "      <td>0.130516</td>\n",
       "    </tr>\n",
       "    <tr>\n",
       "      <th>...</th>\n",
       "      <td>...</td>\n",
       "      <td>...</td>\n",
       "    </tr>\n",
       "    <tr>\n",
       "      <th>11</th>\n",
       "      <td>almonds</td>\n",
       "      <td>0.016798</td>\n",
       "    </tr>\n",
       "    <tr>\n",
       "      <th>239</th>\n",
       "      <td>mineral water &amp; cooking oil</td>\n",
       "      <td>0.016798</td>\n",
       "    </tr>\n",
       "    <tr>\n",
       "      <th>47</th>\n",
       "      <td>meatballs</td>\n",
       "      <td>0.016798</td>\n",
       "    </tr>\n",
       "    <tr>\n",
       "      <th>81</th>\n",
       "      <td>turkey &amp; mineral water</td>\n",
       "      <td>0.016531</td>\n",
       "    </tr>\n",
       "    <tr>\n",
       "      <th>134</th>\n",
       "      <td>tomatoes &amp; spaghetti</td>\n",
       "      <td>0.016398</td>\n",
       "    </tr>\n",
       "  </tbody>\n",
       "</table>\n",
       "<p>100 rows × 2 columns</p>\n",
       "</div>"
      ],
      "text/plain": [
       "                         Itemset   Support\n",
       "70                 mineral water  0.193574\n",
       "74                          eggs  0.142781\n",
       "43                     spaghetti  0.139315\n",
       "72                  french fries  0.135715\n",
       "60                     chocolate  0.130516\n",
       "..                           ...       ...\n",
       "11                       almonds  0.016798\n",
       "239  mineral water & cooking oil  0.016798\n",
       "47                     meatballs  0.016798\n",
       "81        turkey & mineral water  0.016531\n",
       "134         tomatoes & spaghetti  0.016398\n",
       "\n",
       "[100 rows x 2 columns]"
      ]
     },
     "execution_count": 16,
     "metadata": {},
     "output_type": "execute_result"
    }
   ],
   "source": [
    "# Convert frequent itemsets to a DataFrame for better readability\n",
    "total_transactions = len(transactions)\n",
    "\n",
    "frequent_itemsets_df = pd.DataFrame({\n",
    "    'Itemset': list(frequent_itemsets.keys()),\n",
    "    'Support': [len(support_dict[item]) / total_transactions for item in frequent_itemsets.keys()]\n",
    "})\n",
    "\n",
    "# Sort the DataFrame by 'Support' in descending order\n",
    "frequent_itemsets_df_sorted = frequent_itemsets_df.sort_values(by='Support', ascending=False)\n",
    "\n",
    "frequent_itemsets_df_sorted.head(100)"
   ]
  },
  {
   "cell_type": "markdown",
   "metadata": {
    "id": "gKIPylDt0PVN"
   },
   "source": [
    "**Observation:**\n",
    "\n",
    "**Mineral Water (0.193574):** The highest support value in this snippet, indicating that mineral water appears in about 19.36% of all transactions. This suggests it's a very popular item among customers.\n",
    "\n",
    "**Eggs (0.142781):** Also showing high popularity, eggs are included in approximately 14.28% of transactions.\n",
    "\n",
    "**Spaghetti (0.139315), French Fries (0.135715), and Chocolate (0.130516):** These items are also commonly purchased, each appearing in about 13-14% of transactions, reflecting their strong customer demand.\n",
    "\n",
    "**Cooking Oil & Mineral Water (0.016798), Meatballs (0.016798), Almonds (0.016798):** These itemsets show a much lower support, appearing in about 1.68% of transactions. The combination of cooking oil and mineral water might indicate a specific usage pattern or a niche but relevant market segment."
   ]
  },
  {
   "cell_type": "markdown",
   "metadata": {
    "id": "Cpkfs8dOxHij"
   },
   "source": [
    "## __6.5 Anomaly Detection Techniques__"
   ]
  },
  {
   "cell_type": "markdown",
   "metadata": {
    "id": "nZ3LCtOWxUgt"
   },
   "source": [
    "Anomaly detection is a technique used to identify rare items, events, or outliers that differ significantly from the majority of the data. In unsupervised learning, anomaly detection is particularly challenging because there are no labeled examples of anomalies to guide the learning process."
   ]
  },
  {
   "cell_type": "markdown",
   "metadata": {
    "id": "NPvxwPzsx2EJ"
   },
   "source": [
    "### __6.5.1 Isolation forest__"
   ]
  },
  {
   "cell_type": "markdown",
   "metadata": {
    "id": "YTlSgQVv2icY"
   },
   "source": [
    "Isolation Forest is an unsupervised learning algorithm for anomaly detection that works by isolating observations by randomly selecting a feature and then randomly selecting a split value between the maximum and minimum values of the selected feature. The key idea is that anomalies are few and different, so they are more susceptible to isolation."
   ]
  },
  {
   "cell_type": "markdown",
   "metadata": {
    "id": "-4EiPkuV2NMB"
   },
   "source": [
    "- **Unique Approach:** Isolation Forest does not rely on proximity measures like traditional methods.\n",
    "- **Random Feature Selection:** It randomly selects features and splits them at random values.\n",
    "- **Isolation Process:** This process creates partitions or \"trees\" to isolate individual data points.\n",
    "- **Anomaly Detection:** Anomalies, being fewer and further from the norm, typically require fewer splits to isolate.\n",
    "- **Efficiency:** This makes anomalies easier and faster to detect compared to normal observations."
   ]
  },
  {
   "cell_type": "markdown",
   "metadata": {
    "id": "PFT8bXi76HIf"
   },
   "source": [
    "Let's implement the Isolation Forest to detect anamolies."
   ]
  },
  {
   "cell_type": "code",
   "execution_count": 92,
   "metadata": {
    "colab": {
     "base_uri": "https://localhost:8080/"
    },
    "id": "wP_0HhMsxYNy",
    "outputId": "56320499-e044-46cf-f206-dec7e5c1add9"
   },
   "outputs": [],
   "source": [
    "import pandas as pd\n",
    "from sklearn.ensemble import IsolationForest\n",
    "from sklearn.model_selection import train_test_split\n",
    "import matplotlib.pyplot as plt"
   ]
  },
  {
   "cell_type": "code",
   "execution_count": 93,
   "metadata": {
    "colab": {
     "base_uri": "https://localhost:8080/"
    },
    "id": "9TutXfK96Pwg",
    "outputId": "776a30bf-6d04-4776-b938-56103df9268d"
   },
   "outputs": [
    {
     "name": "stdout",
     "output_type": "stream",
     "text": [
      "         V1        V2        V3        V4        V5      Amount  Class\n",
      "0  0.543360 -0.193659  0.968185 -0.213457  0.285803   55.271583    0.0\n",
      "1  0.982691  0.808058  0.885231  1.352203  1.272570   39.268121    0.0\n",
      "2 -1.840874 -0.223466  1.954157 -1.435910 -0.992866  275.345272    0.0\n",
      "3 -0.573662  0.579633  1.809306  0.596441 -0.453636  405.983871    0.0\n",
      "4 -1.124642  0.536653 -0.929511  1.190549 -0.546042  108.890401    0.0\n"
     ]
    }
   ],
   "source": [
    "# Load the dataset\n",
    "file_path = 'credit_card_fraud.csv'  # Update the path to your file\n",
    "df = pd.read_csv(file_path)\n",
    "\n",
    "# Display the first few rows of the dataset\n",
    "print(df.head())"
   ]
  },
  {
   "cell_type": "code",
   "execution_count": 94,
   "metadata": {
    "colab": {
     "base_uri": "https://localhost:8080/"
    },
    "id": "z4OI0kYm6SQz",
    "outputId": "802891fd-a038-4455-b530-987cee58f6fe"
   },
   "outputs": [],
   "source": [
    "# Features for training\n",
    "features = ['V1', 'V2', 'V3', 'V4', 'V5', 'Amount']\n",
    "\n",
    "# Split the data into training and testing sets\n",
    "X_train, X_test, y_train, y_test = train_test_split(df[features], df['Class'], test_size=0.2, random_state=42)"
   ]
  },
  {
   "cell_type": "markdown",
   "metadata": {
    "id": "2cA2yCac8sW4"
   },
   "source": [
    "**Fit the Isolation Forest Model:**\n",
    "\n",
    "- IsolationForest is fit on the X_train data.\n",
    "\n",
    "\n",
    "- Predictions and anomaly scores for `X_train` and `X_test` are stored in separate variables (`train_anomaly_predictions`, `train_anomaly_scores`, `test_anomaly_predictions`, `test_anomaly_scores`)."
   ]
  },
  {
   "cell_type": "code",
   "execution_count": 95,
   "metadata": {
    "colab": {
     "base_uri": "https://localhost:8080/"
    },
    "id": "6EQhHqIBMEFn",
    "outputId": "ed15eb37-fa0f-4724-c583-c6c850cf8f07"
   },
   "outputs": [
    {
     "name": "stdout",
     "output_type": "stream",
     "text": [
      "Training features: Index(['V1', 'V2', 'V3', 'V4', 'V5', 'Amount'], dtype='object')\n",
      "Testing features: Index(['V1', 'V2', 'V3', 'V4', 'V5', 'Amount'], dtype='object')\n"
     ]
    }
   ],
   "source": [
    "print(\"Training features:\", X_train.columns)\n",
    "print(\"Testing features:\", X_test.columns)"
   ]
  },
  {
   "cell_type": "code",
   "execution_count": 101,
   "metadata": {
    "colab": {
     "base_uri": "https://localhost:8080/"
    },
    "id": "JRR8FLf17XaG",
    "outputId": "f7741284-538e-4ec5-cd98-88fc21e0a7df"
   },
   "outputs": [
    {
     "name": "stderr",
     "output_type": "stream",
     "text": [
      "C:\\Users\\DK\\anaconda3\\lib\\site-packages\\sklearn\\base.py:451: UserWarning: X does not have valid feature names, but IsolationForest was fitted with feature names\n",
      "  \"X does not have valid feature names, but\"\n",
      "C:\\Users\\DK\\anaconda3\\lib\\site-packages\\sklearn\\base.py:493: FutureWarning: The feature names should match those that were passed during fit. Starting version 1.2, an error will be raised.\n",
      "Feature names unseen at fit time:\n",
      "- Anomaly\n",
      "- Anomaly Score\n",
      "Feature names must be in the same order as they were in fit.\n",
      "\n",
      "  warnings.warn(message, FutureWarning)\n"
     ]
    },
    {
     "ename": "ValueError",
     "evalue": "X has 8 features, but IsolationForest is expecting 6 features as input.",
     "output_type": "error",
     "traceback": [
      "\u001b[1;31m---------------------------------------------------------------------------\u001b[0m",
      "\u001b[1;31mValueError\u001b[0m                                Traceback (most recent call last)",
      "\u001b[1;32m<ipython-input-101-e635e401e126>\u001b[0m in \u001b[0;36m<module>\u001b[1;34m\u001b[0m\n\u001b[0;32m      9\u001b[0m \u001b[1;33m\u001b[0m\u001b[0m\n\u001b[0;32m     10\u001b[0m \u001b[1;31m# Predict anomalies on the test set\u001b[0m\u001b[1;33m\u001b[0m\u001b[1;33m\u001b[0m\u001b[1;33m\u001b[0m\u001b[0m\n\u001b[1;32m---> 11\u001b[1;33m \u001b[0mtest_anomaly_predictions\u001b[0m \u001b[1;33m=\u001b[0m \u001b[0miso_forest\u001b[0m\u001b[1;33m.\u001b[0m\u001b[0mpredict\u001b[0m\u001b[1;33m(\u001b[0m\u001b[0mX_test\u001b[0m\u001b[1;33m)\u001b[0m\u001b[1;33m\u001b[0m\u001b[1;33m\u001b[0m\u001b[0m\n\u001b[0m\u001b[0;32m     12\u001b[0m \u001b[0mtest_anomaly_scores\u001b[0m \u001b[1;33m=\u001b[0m \u001b[0miso_forest\u001b[0m\u001b[1;33m.\u001b[0m\u001b[0mdecision_function\u001b[0m\u001b[1;33m(\u001b[0m\u001b[0mX_test\u001b[0m\u001b[1;33m)\u001b[0m\u001b[1;33m\u001b[0m\u001b[1;33m\u001b[0m\u001b[0m\n",
      "\u001b[1;32m~\\anaconda3\\lib\\site-packages\\sklearn\\ensemble\\_iforest.py\u001b[0m in \u001b[0;36mpredict\u001b[1;34m(self, X)\u001b[0m\n\u001b[0;32m    338\u001b[0m         \"\"\"\n\u001b[0;32m    339\u001b[0m         \u001b[0mcheck_is_fitted\u001b[0m\u001b[1;33m(\u001b[0m\u001b[0mself\u001b[0m\u001b[1;33m)\u001b[0m\u001b[1;33m\u001b[0m\u001b[1;33m\u001b[0m\u001b[0m\n\u001b[1;32m--> 340\u001b[1;33m         \u001b[0mdecision_func\u001b[0m \u001b[1;33m=\u001b[0m \u001b[0mself\u001b[0m\u001b[1;33m.\u001b[0m\u001b[0mdecision_function\u001b[0m\u001b[1;33m(\u001b[0m\u001b[0mX\u001b[0m\u001b[1;33m)\u001b[0m\u001b[1;33m\u001b[0m\u001b[1;33m\u001b[0m\u001b[0m\n\u001b[0m\u001b[0;32m    341\u001b[0m         \u001b[0mis_inlier\u001b[0m \u001b[1;33m=\u001b[0m \u001b[0mnp\u001b[0m\u001b[1;33m.\u001b[0m\u001b[0mones_like\u001b[0m\u001b[1;33m(\u001b[0m\u001b[0mdecision_func\u001b[0m\u001b[1;33m,\u001b[0m \u001b[0mdtype\u001b[0m\u001b[1;33m=\u001b[0m\u001b[0mint\u001b[0m\u001b[1;33m)\u001b[0m\u001b[1;33m\u001b[0m\u001b[1;33m\u001b[0m\u001b[0m\n\u001b[0;32m    342\u001b[0m         \u001b[0mis_inlier\u001b[0m\u001b[1;33m[\u001b[0m\u001b[0mdecision_func\u001b[0m \u001b[1;33m<\u001b[0m \u001b[1;36m0\u001b[0m\u001b[1;33m]\u001b[0m \u001b[1;33m=\u001b[0m \u001b[1;33m-\u001b[0m\u001b[1;36m1\u001b[0m\u001b[1;33m\u001b[0m\u001b[1;33m\u001b[0m\u001b[0m\n",
      "\u001b[1;32m~\\anaconda3\\lib\\site-packages\\sklearn\\ensemble\\_iforest.py\u001b[0m in \u001b[0;36mdecision_function\u001b[1;34m(self, X)\u001b[0m\n\u001b[0;32m    373\u001b[0m         \u001b[1;31m# an outlier:\u001b[0m\u001b[1;33m\u001b[0m\u001b[1;33m\u001b[0m\u001b[1;33m\u001b[0m\u001b[0m\n\u001b[0;32m    374\u001b[0m \u001b[1;33m\u001b[0m\u001b[0m\n\u001b[1;32m--> 375\u001b[1;33m         \u001b[1;32mreturn\u001b[0m \u001b[0mself\u001b[0m\u001b[1;33m.\u001b[0m\u001b[0mscore_samples\u001b[0m\u001b[1;33m(\u001b[0m\u001b[0mX\u001b[0m\u001b[1;33m)\u001b[0m \u001b[1;33m-\u001b[0m \u001b[0mself\u001b[0m\u001b[1;33m.\u001b[0m\u001b[0moffset_\u001b[0m\u001b[1;33m\u001b[0m\u001b[1;33m\u001b[0m\u001b[0m\n\u001b[0m\u001b[0;32m    376\u001b[0m \u001b[1;33m\u001b[0m\u001b[0m\n\u001b[0;32m    377\u001b[0m     \u001b[1;32mdef\u001b[0m \u001b[0mscore_samples\u001b[0m\u001b[1;33m(\u001b[0m\u001b[0mself\u001b[0m\u001b[1;33m,\u001b[0m \u001b[0mX\u001b[0m\u001b[1;33m)\u001b[0m\u001b[1;33m:\u001b[0m\u001b[1;33m\u001b[0m\u001b[1;33m\u001b[0m\u001b[0m\n",
      "\u001b[1;32m~\\anaconda3\\lib\\site-packages\\sklearn\\ensemble\\_iforest.py\u001b[0m in \u001b[0;36mscore_samples\u001b[1;34m(self, X)\u001b[0m\n\u001b[0;32m    404\u001b[0m \u001b[1;33m\u001b[0m\u001b[0m\n\u001b[0;32m    405\u001b[0m         \u001b[1;31m# Check data\u001b[0m\u001b[1;33m\u001b[0m\u001b[1;33m\u001b[0m\u001b[1;33m\u001b[0m\u001b[0m\n\u001b[1;32m--> 406\u001b[1;33m         \u001b[0mX\u001b[0m \u001b[1;33m=\u001b[0m \u001b[0mself\u001b[0m\u001b[1;33m.\u001b[0m\u001b[0m_validate_data\u001b[0m\u001b[1;33m(\u001b[0m\u001b[0mX\u001b[0m\u001b[1;33m,\u001b[0m \u001b[0maccept_sparse\u001b[0m\u001b[1;33m=\u001b[0m\u001b[1;34m\"csr\"\u001b[0m\u001b[1;33m,\u001b[0m \u001b[0mreset\u001b[0m\u001b[1;33m=\u001b[0m\u001b[1;32mFalse\u001b[0m\u001b[1;33m)\u001b[0m\u001b[1;33m\u001b[0m\u001b[1;33m\u001b[0m\u001b[0m\n\u001b[0m\u001b[0;32m    407\u001b[0m \u001b[1;33m\u001b[0m\u001b[0m\n\u001b[0;32m    408\u001b[0m         \u001b[1;31m# Take the opposite of the scores as bigger is better (here less\u001b[0m\u001b[1;33m\u001b[0m\u001b[1;33m\u001b[0m\u001b[1;33m\u001b[0m\u001b[0m\n",
      "\u001b[1;32m~\\anaconda3\\lib\\site-packages\\sklearn\\base.py\u001b[0m in \u001b[0;36m_validate_data\u001b[1;34m(self, X, y, reset, validate_separately, **check_params)\u001b[0m\n\u001b[0;32m    583\u001b[0m \u001b[1;33m\u001b[0m\u001b[0m\n\u001b[0;32m    584\u001b[0m         \u001b[1;32mif\u001b[0m \u001b[1;32mnot\u001b[0m \u001b[0mno_val_X\u001b[0m \u001b[1;32mand\u001b[0m \u001b[0mcheck_params\u001b[0m\u001b[1;33m.\u001b[0m\u001b[0mget\u001b[0m\u001b[1;33m(\u001b[0m\u001b[1;34m\"ensure_2d\"\u001b[0m\u001b[1;33m,\u001b[0m \u001b[1;32mTrue\u001b[0m\u001b[1;33m)\u001b[0m\u001b[1;33m:\u001b[0m\u001b[1;33m\u001b[0m\u001b[1;33m\u001b[0m\u001b[0m\n\u001b[1;32m--> 585\u001b[1;33m             \u001b[0mself\u001b[0m\u001b[1;33m.\u001b[0m\u001b[0m_check_n_features\u001b[0m\u001b[1;33m(\u001b[0m\u001b[0mX\u001b[0m\u001b[1;33m,\u001b[0m \u001b[0mreset\u001b[0m\u001b[1;33m=\u001b[0m\u001b[0mreset\u001b[0m\u001b[1;33m)\u001b[0m\u001b[1;33m\u001b[0m\u001b[1;33m\u001b[0m\u001b[0m\n\u001b[0m\u001b[0;32m    586\u001b[0m \u001b[1;33m\u001b[0m\u001b[0m\n\u001b[0;32m    587\u001b[0m         \u001b[1;32mreturn\u001b[0m \u001b[0mout\u001b[0m\u001b[1;33m\u001b[0m\u001b[1;33m\u001b[0m\u001b[0m\n",
      "\u001b[1;32m~\\anaconda3\\lib\\site-packages\\sklearn\\base.py\u001b[0m in \u001b[0;36m_check_n_features\u001b[1;34m(self, X, reset)\u001b[0m\n\u001b[0;32m    399\u001b[0m         \u001b[1;32mif\u001b[0m \u001b[0mn_features\u001b[0m \u001b[1;33m!=\u001b[0m \u001b[0mself\u001b[0m\u001b[1;33m.\u001b[0m\u001b[0mn_features_in_\u001b[0m\u001b[1;33m:\u001b[0m\u001b[1;33m\u001b[0m\u001b[1;33m\u001b[0m\u001b[0m\n\u001b[0;32m    400\u001b[0m             raise ValueError(\n\u001b[1;32m--> 401\u001b[1;33m                 \u001b[1;34mf\"X has {n_features} features, but {self.__class__.__name__} \"\u001b[0m\u001b[1;33m\u001b[0m\u001b[1;33m\u001b[0m\u001b[0m\n\u001b[0m\u001b[0;32m    402\u001b[0m                 \u001b[1;34mf\"is expecting {self.n_features_in_} features as input.\"\u001b[0m\u001b[1;33m\u001b[0m\u001b[1;33m\u001b[0m\u001b[0m\n\u001b[0;32m    403\u001b[0m             )\n",
      "\u001b[1;31mValueError\u001b[0m: X has 8 features, but IsolationForest is expecting 6 features as input."
     ]
    }
   ],
   "source": [
    "# Fit the Isolation Forest model\n",
    "iso_forest = IsolationForest(contamination=0.01, random_state=42)\n",
    "iso_forest.fit(X_train)\n",
    "\n",
    "\n",
    "# Predict anomalies (-1 for anomalies, 1 for normal points) on the training set\n",
    "train_anomaly_predictions = iso_forest.predict(X_train)\n",
    "train_anomaly_scores = iso_forest.decision_function(X_train)\n",
    "\n",
    "# Predict anomalies on the test set\n",
    "test_anomaly_predictions = iso_forest.predict(X_test)\n",
    "test_anomaly_scores = iso_forest.decision_function(X_test)"
   ]
  },
  {
   "cell_type": "code",
   "execution_count": null,
   "metadata": {
    "colab": {
     "base_uri": "https://localhost:8080/"
    },
    "id": "yis-MmF_6VwC",
    "outputId": "b3ac61e2-b409-4a7a-df08-adf8bd51bcaa"
   },
   "outputs": [],
   "source": [
    "# Add predictions and scores to the test set\n",
    "X_test['Anomaly'] = test_anomaly_predictions\n",
    "X_test['Anomaly Score'] = test_anomaly_scores"
   ]
  },
  {
   "cell_type": "markdown",
   "metadata": {
    "id": "JB-quEcb9PrL"
   },
   "source": [
    "**Evaluation and Plotting:**\n",
    "\n",
    "- The number of anomalies detected in the test set is printed.\n",
    "- A scatter plot is created to visualize the anomaly scores against the transaction amounts."
   ]
  },
  {
   "cell_type": "code",
   "execution_count": 102,
   "metadata": {
    "colab": {
     "base_uri": "https://localhost:8080/"
    },
    "id": "0z43yOMU6ZVu",
    "outputId": "cc9153e2-896a-48d9-c5de-8bc894e41876"
   },
   "outputs": [
    {
     "name": "stdout",
     "output_type": "stream",
     "text": [
      "-1    106\n",
      " 1     94\n",
      "Name: Anomaly, dtype: int64\n"
     ]
    }
   ],
   "source": [
    "# Evaluate the results on the test set\n",
    "print(X_test['Anomaly'].value_counts())"
   ]
  },
  {
   "cell_type": "code",
   "execution_count": 103,
   "metadata": {
    "colab": {
     "base_uri": "https://localhost:8080/",
     "height": 465
    },
    "id": "IqbyqY3m8ZyR",
    "outputId": "5cb41ac5-70bf-4e6f-c2ee-42c8544a4dec"
   },
   "outputs": [
    {
     "data": {
      "image/png": "[encoded data removed]",
      "text/plain": [
       "<Figure size 432x288 with 1 Axes>"
      ]
     },
     "metadata": {
      "needs_background": "light"
     },
     "output_type": "display_data"
    }
   ],
   "source": [
    "# Plot the results for the test set\n",
    "plt.figure(figsize=(6, 4))\n",
    "plt.scatter(X_test['Amount'], X_test['Anomaly Score'], c=y_test, cmap='coolwarm')\n",
    "plt.xlabel('Amount')\n",
    "plt.ylabel('Anomaly Score')\n",
    "plt.title('Isolation Forest Anomaly Detection (Credit Card Fraud) on Test Data')\n",
    "plt.show()"
   ]
  },
  {
   "cell_type": "markdown",
   "metadata": {
    "id": "tEnGb_Qb-CPq"
   },
   "source": [
    "**Observation:**\n",
    "\n",
    "1. **Anomaly Scores and Detection:**\n",
    "\n",
    "  - The anomaly scores range from approximately -0.025 to 0.175.\n",
    "The model detected 4 anomalies, with transaction amounts around 750, 1000, 1500, and 2000 (all the values are in $).\n",
    "\n",
    "2. **Transaction Amount Distribution:**\n",
    "\n",
    "  - Normal transactions are predominantly below $500, totaling 194 instances.\n",
    "Higher transaction amounts are more likely to be flagged as anomalies, indicating effective detection of outliers."
   ]
  },
  {
   "cell_type": "markdown",
   "metadata": {
    "id": "6SNUAgN6_rSs"
   },
   "source": [
    "## __6.6 Model Evaluation and Validation in Unsupervised Learning__"
   ]
  },
  {
   "cell_type": "markdown",
   "metadata": {
    "id": "tQr0A5V9ALky"
   },
   "source": [
    "Model evaluation and validation in unsupervised learning are crucial steps to ensure that the model accurately captures the underlying structure of the data. Unlike supervised learning, where labeled data provides a clear metric for evaluation, unsupervised learning relies on different techniques and metrics."
   ]
  },
  {
   "cell_type": "markdown",
   "metadata": {
    "id": "nExbSrYjAShp"
   },
   "source": [
    "### __6.6.1 Silhouette Score for Clustering__"
   ]
  },
  {
   "cell_type": "markdown",
   "metadata": {
    "id": "tlnaCaSTBlsd"
   },
   "source": [
    "**Silhouette Score:**\n",
    "It measures the quality of clusters by comparing the average distance between points within a cluster to the average distance between points in different clusters. A score close to +1 indicates well-separated clusters, while a score close to -1 indicates overlapping clusters."
   ]
  },
  {
   "cell_type": "markdown",
   "metadata": {
    "id": "GcXsXIGADEUu"
   },
   "source": [
    "For example, if we have two clusters of customer data and the Silhouette Score is 0.7, it suggests that the customers are well-grouped with clear distinctions between the clusters. Conversely, a score of -0.3 would indicate that the clusters are poorly defined and overlapping."
   ]
  },
  {
   "cell_type": "markdown",
   "metadata": {
    "id": "nKdQBpWOCCEt"
   },
   "source": [
    "**Note:** In the previous lesson, we have already covered the implementation of the Silhouette Score using the K-means algorithm."
   ]
  },
  {
   "cell_type": "markdown",
   "metadata": {
    "id": "I50z_LkaaGUp"
   },
   "source": [
    "##__Conclusion__##"
   ]
  },
  {
   "cell_type": "markdown",
   "metadata": {
    "id": "SxgU44avaGXf"
   },
   "source": [
    "\n",
    "In conclusion, unsupervised learning techniques are powerful tools for exploring and extracting meaningful insights from unlabeled data. By allowing algorithms to autonomously identify patterns and structures within datasets, you can uncover hidden relationships, detect anomalies, and gain a deeper understanding of the underlying data distribution. From clustering and dimensionality reduction to association rule learning, the applications of unsupervised learning are vast and diverse, spanning fields such as data analysis, pattern recognition, and anomaly detection."
   ]
  }
 ],
 "metadata": {
  "colab": {
   "provenance": []
  },
  "kernelspec": {
   "display_name": "Python 3",
   "language": "python",
   "name": "python3"
  },
  "language_info": {
   "codemirror_mode": {
    "name": "ipython",
    "version": 3
   },
   "file_extension": ".py",
   "mimetype": "text/x-python",
   "name": "python",
   "nbconvert_exporter": "python",
   "pygments_lexer": "ipython3",
   "version": "3.7.6"
  }
 },
 "nbformat": 4,
 "nbformat_minor": 1
}
